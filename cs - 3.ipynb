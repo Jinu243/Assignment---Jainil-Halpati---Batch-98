{
 "cells": [
  {
   "cell_type": "markdown",
   "id": "2a26fe2f",
   "metadata": {},
   "source": [
    "1. Write a Python program to sum all the items in a list."
   ]
  },
  {
   "cell_type": "code",
   "execution_count": 6,
   "id": "fb0e6519",
   "metadata": {},
   "outputs": [],
   "source": [
    "def sum_list(lst):\n",
    "    result = sum(lst)\n",
    "    return result\n"
   ]
  },
  {
   "cell_type": "code",
   "execution_count": 9,
   "id": "78422edf",
   "metadata": {},
   "outputs": [
    {
     "name": "stdout",
     "output_type": "stream",
     "text": [
      "-5\n"
     ]
    }
   ],
   "source": [
    "print(sum_list([1,2,-8]))"
   ]
  },
  {
   "cell_type": "markdown",
   "id": "40f91a72",
   "metadata": {},
   "source": [
    "2. Write a Python program to multiplies all the items in a list.\n"
   ]
  },
  {
   "cell_type": "code",
   "execution_count": 14,
   "id": "cfcf61f6",
   "metadata": {},
   "outputs": [],
   "source": [
    "def mul_list(lst):\n",
    "    x = 1\n",
    "    for n in lst:\n",
    "        x *= n \n",
    "    return x"
   ]
  },
  {
   "cell_type": "code",
   "execution_count": 15,
   "id": "8084168a",
   "metadata": {},
   "outputs": [
    {
     "name": "stdout",
     "output_type": "stream",
     "text": [
      "-16\n"
     ]
    }
   ],
   "source": [
    "print(mul_list([1,2,-8]))"
   ]
  },
  {
   "cell_type": "markdown",
   "id": "43a37bda",
   "metadata": {},
   "source": [
    "3. Write a Python program to get the largest number from a list."
   ]
  },
  {
   "cell_type": "code",
   "execution_count": 1,
   "id": "d5c69e03",
   "metadata": {},
   "outputs": [],
   "source": [
    "def max_num(lst):\n",
    "    result = max(lst)\n",
    "    return result"
   ]
  },
  {
   "cell_type": "code",
   "execution_count": 4,
   "id": "35d41834",
   "metadata": {},
   "outputs": [
    {
     "name": "stdout",
     "output_type": "stream",
     "text": [
      "2\n"
     ]
    }
   ],
   "source": [
    "print(max_num([1, 2, -8, 0]))"
   ]
  },
  {
   "cell_type": "markdown",
   "id": "72eec7ae",
   "metadata": {},
   "source": [
    "4. Write a Python program to get the smallest number from a list."
   ]
  },
  {
   "cell_type": "code",
   "execution_count": 5,
   "id": "1e003056",
   "metadata": {},
   "outputs": [],
   "source": [
    "def min_num(lst):\n",
    "    result = min(lst)\n",
    "    return result"
   ]
  },
  {
   "cell_type": "code",
   "execution_count": 6,
   "id": "619b57bf",
   "metadata": {},
   "outputs": [
    {
     "name": "stdout",
     "output_type": "stream",
     "text": [
      "-8\n"
     ]
    }
   ],
   "source": [
    "print(min_num([1, 2, -8, 0]))"
   ]
  },
  {
   "cell_type": "markdown",
   "id": "6a122387",
   "metadata": {},
   "source": [
    "5. Write a Python program to count the number of strings where the string\n",
    "length is 2 or more and the first and last character are same from a\n",
    "given list of strings. \n",
    "Sample List : [&#39;abc&#39;, &#39;xyz&#39;, &#39;aba&#39;, &#39;1221&#39;]\n",
    "Expected Result : 2"
   ]
  },
  {
   "cell_type": "code",
   "execution_count": 8,
   "id": "90f225bc",
   "metadata": {},
   "outputs": [],
   "source": [
    "def match_words(words):\n",
    "    a = 0\n",
    "    for word in words:\n",
    "        if len(word) > 1 and word[0] == word[-1]:\n",
    "            a += 1\n",
    "    return a\n"
   ]
  },
  {
   "cell_type": "code",
   "execution_count": 9,
   "id": "36896b23",
   "metadata": {},
   "outputs": [
    {
     "name": "stdout",
     "output_type": "stream",
     "text": [
      "2\n"
     ]
    }
   ],
   "source": [
    "print(match_words(['abc','xyz','aba','1221']))"
   ]
  },
  {
   "cell_type": "markdown",
   "id": "8879ead2",
   "metadata": {},
   "source": [
    "6. Write a Python program to get a list, sorted in increasing order by the\n",
    "\n",
    "last element in each tuple from a given list of non-empty tuples. \n",
    "\n",
    "Sample List : [(2, 5), (1, 2), (4, 4), (2, 3), (2, 1)]\n",
    "\n",
    "Expected Result : [(2, 1), (1, 2), (2, 3), (4, 4), (2, 5)]"
   ]
  },
  {
   "cell_type": "code",
   "execution_count": 1,
   "id": "29bae4e8",
   "metadata": {},
   "outputs": [],
   "source": [
    "def sort(lst):\n",
    "    return lst[-1]\n",
    "     "
   ]
  },
  {
   "cell_type": "code",
   "execution_count": 2,
   "id": "d47a57f5",
   "metadata": {},
   "outputs": [],
   "source": [
    "Sample_List = [(2, 5), (1, 2), (4, 4), (2, 3), (2, 1)]"
   ]
  },
  {
   "cell_type": "code",
   "execution_count": 3,
   "id": "478e09f4",
   "metadata": {},
   "outputs": [
    {
     "name": "stdout",
     "output_type": "stream",
     "text": [
      "[(2, 1), (1, 2), (2, 3), (4, 4), (2, 5)]\n"
     ]
    }
   ],
   "source": [
    "print(sorted(Sample_List,key = sort))"
   ]
  },
  {
   "cell_type": "markdown",
   "id": "84b94754",
   "metadata": {},
   "source": [
    "7. Write a Python program to remove duplicates from a list."
   ]
  },
  {
   "cell_type": "code",
   "execution_count": 10,
   "id": "8e0c81c7",
   "metadata": {},
   "outputs": [],
   "source": [
    "a = [10,20,30,20,10,50,60,40,80,50,40]"
   ]
  },
  {
   "cell_type": "code",
   "execution_count": 13,
   "id": "7a79a885",
   "metadata": {},
   "outputs": [],
   "source": [
    "def dupli(a):\n",
    "    n = set(a)\n",
    "    dup = list(sorted(n))\n",
    "    return dup"
   ]
  },
  {
   "cell_type": "code",
   "execution_count": 14,
   "id": "ec6fcf1e",
   "metadata": {},
   "outputs": [
    {
     "name": "stdout",
     "output_type": "stream",
     "text": [
      "[10, 20, 30, 40, 50, 60, 80]\n"
     ]
    }
   ],
   "source": [
    "print(dupli(a))"
   ]
  },
  {
   "cell_type": "markdown",
   "id": "c6870138",
   "metadata": {},
   "source": [
    "8. Write a Python program to check a list is empty or not."
   ]
  },
  {
   "cell_type": "code",
   "execution_count": 19,
   "id": "baca5bcb",
   "metadata": {},
   "outputs": [
    {
     "name": "stdout",
     "output_type": "stream",
     "text": [
      "The given list is empty\n"
     ]
    }
   ],
   "source": [
    "lst = []\n",
    "if not lst:\n",
    "    print('The given list is empty')\n",
    "else:\n",
    "    print('The given list is not empty')\n"
   ]
  },
  {
   "cell_type": "markdown",
   "id": "5b42fa44",
   "metadata": {},
   "source": [
    "9. Write a Python program to clone or copy a list."
   ]
  },
  {
   "cell_type": "code",
   "execution_count": 20,
   "id": "e3c0cf4e",
   "metadata": {},
   "outputs": [],
   "source": [
    "original_list = [10, 22, 44, 23, 4]\n",
    "new_list = list(original_list)"
   ]
  },
  {
   "cell_type": "code",
   "execution_count": 21,
   "id": "be83439c",
   "metadata": {},
   "outputs": [
    {
     "name": "stdout",
     "output_type": "stream",
     "text": [
      "[10, 22, 44, 23, 4]\n",
      "[10, 22, 44, 23, 4]\n"
     ]
    }
   ],
   "source": [
    "print(original_list)\n",
    "print(new_list)"
   ]
  },
  {
   "cell_type": "markdown",
   "id": "c34676a2",
   "metadata": {},
   "source": [
    "10. Write a Python program to find the list of words that are longer\n",
    "than n from a given list of words."
   ]
  },
  {
   "cell_type": "code",
   "execution_count": 31,
   "id": "ae2e598e",
   "metadata": {},
   "outputs": [],
   "source": [
    "def long(lst,n):\n",
    "    for word in lst:\n",
    "        if len(word) > n:\n",
    "            print(word)\n",
    "        else:\n",
    "            return False"
   ]
  },
  {
   "cell_type": "code",
   "execution_count": 32,
   "id": "7b5c27a8",
   "metadata": {},
   "outputs": [],
   "source": [
    "words_list = [\"apple\", \"banana\", \"cherry\", \"date\", \"fig\", \"grape\"]\n",
    "n = 4"
   ]
  },
  {
   "cell_type": "code",
   "execution_count": 33,
   "id": "a227f28e",
   "metadata": {},
   "outputs": [
    {
     "name": "stdout",
     "output_type": "stream",
     "text": [
      "apple\n",
      "banana\n",
      "cherry\n",
      "Words longer than 4 characters: False\n"
     ]
    }
   ],
   "source": [
    "longer_words = long(words_list, n)\n",
    "print(\"Words longer than\", n, \"characters:\", longer_words)"
   ]
  },
  {
   "cell_type": "markdown",
   "id": "a0a50e5f",
   "metadata": {},
   "source": [
    "11. Write a Python function that takes two lists and returns True if\n",
    "they have at least one common member."
   ]
  },
  {
   "cell_type": "code",
   "execution_count": 34,
   "id": "47f788a0",
   "metadata": {},
   "outputs": [],
   "source": [
    "def common(lst1,lst2):\n",
    "    set1 = set(lst1)\n",
    "    set2 = set(lst2)\n",
    "    common_elements = set1.intersection(set2)\n",
    "    return list(common_elements)"
   ]
  },
  {
   "cell_type": "code",
   "execution_count": 35,
   "id": "aa15a8f9",
   "metadata": {},
   "outputs": [],
   "source": [
    "list1 = [1, 2, 3, 4, 5]\n",
    "list2 = [5, 6, 7, 8, 9]\n",
    "list3 = [10, 11, 12]"
   ]
  },
  {
   "cell_type": "code",
   "execution_count": 37,
   "id": "995c7c28",
   "metadata": {},
   "outputs": [
    {
     "name": "stdout",
     "output_type": "stream",
     "text": [
      "list1 and list2 have common members:- [5]\n",
      "list1 and list3 have common members:- []\n"
     ]
    }
   ],
   "source": [
    "\n",
    "print(\"list1 and list2 have common members:-\", common(list1, list2))\n",
    "print(\"list1 and list3 have common members:-\", common(list1, list3))  "
   ]
  },
  {
   "cell_type": "markdown",
   "id": "a5e350a4",
   "metadata": {},
   "source": [
    "12. Write a Python program to print a specified list after removing the\n",
    "0th, 4th and 5th elements. \n"
   ]
  },
  {
   "cell_type": "code",
   "execution_count": 38,
   "id": "2d3369bc",
   "metadata": {},
   "outputs": [],
   "source": [
    "def remove_elements(lst):\n",
    "    # Remove elements at the 0th, 4th, and 5th indices\n",
    "    indices_to_remove = {0, 4, 5}\n",
    "    result = [elem for idx, elem in enumerate(lst) if idx not in indices_to_remove]\n",
    "    return result"
   ]
  },
  {
   "cell_type": "code",
   "execution_count": 39,
   "id": "f6897a7e",
   "metadata": {},
   "outputs": [],
   "source": [
    "Sample_List=['Red', 'Green', 'White', 'Black', 'Pink', 'Yellow']"
   ]
  },
  {
   "cell_type": "code",
   "execution_count": 40,
   "id": "1d142c54",
   "metadata": {},
   "outputs": [
    {
     "data": {
      "text/plain": [
       "['Green', 'White', 'Black']"
      ]
     },
     "execution_count": 40,
     "metadata": {},
     "output_type": "execute_result"
    }
   ],
   "source": [
    "remove_elements(Sample_List)"
   ]
  },
  {
   "cell_type": "code",
   "execution_count": null,
   "id": "b327bb4f",
   "metadata": {},
   "outputs": [],
   "source": []
  }
 ],
 "metadata": {
  "kernelspec": {
   "display_name": "Python 3 (ipykernel)",
   "language": "python",
   "name": "python3"
  },
  "language_info": {
   "codemirror_mode": {
    "name": "ipython",
    "version": 3
   },
   "file_extension": ".py",
   "mimetype": "text/x-python",
   "name": "python",
   "nbconvert_exporter": "python",
   "pygments_lexer": "ipython3",
   "version": "3.11.5"
  }
 },
 "nbformat": 4,
 "nbformat_minor": 5
}
