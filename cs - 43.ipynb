{
 "cells": [
  {
   "cell_type": "markdown",
   "id": "a362ed14-421f-45fc-aa85-21674a26ab50",
   "metadata": {},
   "source": [
    "Model Selection and Boosting \n",
    "Case Study -1 (CS 43)\n",
    "Case Study\n",
    "\n",
    "\n",
    "Domain – Chemical Industry\n",
    "\n",
    "Method : Ada Boost \n",
    "\n",
    "\n",
    "Business challenge/requirement\n",
    "\n",
    "FuPont is a leading chemical company across the globe. The Company is on a CSR (Corporate Social Responsibility) mission. It wants to identify biodegradable products based on a study of the relationships between chemical structure and biodegradation of molecules.\n",
    "\n",
    "You as ML expert have to create a ML model to classify the chemical structure as 'Ready BioDegradable' – RB vs 'Not Ready Biodegradable' – NRB\n",
    "\n",
    "\n",
    "Classification needs to be based on last column in the data set \n",
    "\n",
    "Key issues\n",
    "Data has lots of attributes and classification could be tricky\n",
    "\n",
    "\n",
    "\n",
    "Data volume\n",
    "\n",
    "-\tApprox 1055 records – file bio-degradabale-data.csv Fields in Data\n",
    "\n",
    "•\tDetails in .ipynb notebook\n",
    "\n",
    "\n",
    "\n",
    "Business benefits\n",
    "\n",
    "\n",
    "Research can lead FuPont to create truly unique Biodegradable packaging material. This could lead to massive profits in future\n",
    "\n",
    "Notes: The data have been used to develop QSAR (Quantitative Structure Activity Relationships) models for the study of the relationships between chemical structure and biodegradation of molecules. Biodegradation experimental values of 1055 chemicals were collected.\n"
   ]
  },
  {
   "cell_type": "code",
   "execution_count": 13,
   "id": "32305b95-6bdd-41f3-a727-ca2bc60a6550",
   "metadata": {},
   "outputs": [],
   "source": [
    "import matplotlib.pyplot as plt\n",
    "import pandas as pd\n",
    "import numpy as np\n",
    "import seaborn as sns\n",
    "%matplotlib inline\n",
    "import os\n",
    "from sklearn.preprocessing import LabelEncoder\n",
    "from sklearn.ensemble import AdaBoostClassifier\n",
    "from sklearn.ensemble import AdaBoostRegressor\n",
    "from sklearn.tree import DecisionTreeClassifier\n",
    "from sklearn import model_selection"
   ]
  },
  {
   "cell_type": "code",
   "execution_count": 2,
   "id": "54ebb20a-3086-4223-84b9-c2a22e8a58de",
   "metadata": {},
   "outputs": [],
   "source": [
    "os.chdir('D:\\\\top mentor assignment\\\\Batch 98 Day 57\\\\ML Case Studies with Answer\\\\CS 43 Ans - Model Selection and Boosting-1\\\\')"
   ]
  },
  {
   "cell_type": "code",
   "execution_count": 3,
   "id": "31a1921f-159d-41c1-8fcd-e0e7af1268e2",
   "metadata": {},
   "outputs": [
    {
     "data": {
      "text/plain": [
       "'D:\\\\top mentor assignment\\\\Batch 98 Day 57\\\\ML Case Studies with Answer\\\\CS 43 Ans - Model Selection and Boosting-1'"
      ]
     },
     "execution_count": 3,
     "metadata": {},
     "output_type": "execute_result"
    }
   ],
   "source": [
    "os.getcwd()"
   ]
  },
  {
   "cell_type": "code",
   "execution_count": 4,
   "id": "a484ad59-2a54-4692-8b3f-c517b5ce173e",
   "metadata": {},
   "outputs": [],
   "source": [
    "names = ['SpMax_L', 'J_Dz', 'nHM', \n",
    "         'F01[N-N]', 'F04[C-N]', 'NssssC', \n",
    "         'nCb-', 'C%','nCp','nO','F03[C-N]',\n",
    "         'SdssC','HyWi_B','LOC','SM6_L','F03[C-O]',\n",
    "         'Me','Mi','nN-N','nArNO2','nCRX3',\n",
    "         'SpPosA','nCIR','B01[C-Br]','B03[C-Cl]',\n",
    "         'N-073','SpMax_A','Psi_i_1d','B04[C-Br]',\n",
    "         'SdO','TI2_L','nCrt','C-026','F02[C-N]',\n",
    "         'nHDon','SpMax_B','Psi_i_A','nN','SM6_B',\n",
    "         'nArCOOR','nX','experimentalclass']"
   ]
  },
  {
   "cell_type": "code",
   "execution_count": 5,
   "id": "d1a490f5-e5a7-4782-a896-3da97860f901",
   "metadata": {},
   "outputs": [
    {
     "data": {
      "text/html": [
       "<div>\n",
       "<style scoped>\n",
       "    .dataframe tbody tr th:only-of-type {\n",
       "        vertical-align: middle;\n",
       "    }\n",
       "\n",
       "    .dataframe tbody tr th {\n",
       "        vertical-align: top;\n",
       "    }\n",
       "\n",
       "    .dataframe thead th {\n",
       "        text-align: right;\n",
       "    }\n",
       "</style>\n",
       "<table border=\"1\" class=\"dataframe\">\n",
       "  <thead>\n",
       "    <tr style=\"text-align: right;\">\n",
       "      <th></th>\n",
       "      <th>SpMax_L</th>\n",
       "      <th>J_Dz</th>\n",
       "      <th>nHM</th>\n",
       "      <th>F01[N-N]</th>\n",
       "      <th>F04[C-N]</th>\n",
       "      <th>NssssC</th>\n",
       "      <th>nCb-</th>\n",
       "      <th>C%</th>\n",
       "      <th>nCp</th>\n",
       "      <th>nO</th>\n",
       "      <th>...</th>\n",
       "      <th>C-026</th>\n",
       "      <th>F02[C-N]</th>\n",
       "      <th>nHDon</th>\n",
       "      <th>SpMax_B</th>\n",
       "      <th>Psi_i_A</th>\n",
       "      <th>nN</th>\n",
       "      <th>SM6_B</th>\n",
       "      <th>nArCOOR</th>\n",
       "      <th>nX</th>\n",
       "      <th>experimentalclass</th>\n",
       "    </tr>\n",
       "  </thead>\n",
       "  <tbody>\n",
       "    <tr>\n",
       "      <th>0</th>\n",
       "      <td>3.919</td>\n",
       "      <td>2.6909</td>\n",
       "      <td>0</td>\n",
       "      <td>0</td>\n",
       "      <td>0</td>\n",
       "      <td>0</td>\n",
       "      <td>0</td>\n",
       "      <td>31.4</td>\n",
       "      <td>2</td>\n",
       "      <td>0</td>\n",
       "      <td>...</td>\n",
       "      <td>0</td>\n",
       "      <td>0</td>\n",
       "      <td>0</td>\n",
       "      <td>2.949</td>\n",
       "      <td>1.591</td>\n",
       "      <td>0</td>\n",
       "      <td>7.253</td>\n",
       "      <td>0</td>\n",
       "      <td>0</td>\n",
       "      <td>RB</td>\n",
       "    </tr>\n",
       "    <tr>\n",
       "      <th>1</th>\n",
       "      <td>4.170</td>\n",
       "      <td>2.1144</td>\n",
       "      <td>0</td>\n",
       "      <td>0</td>\n",
       "      <td>0</td>\n",
       "      <td>0</td>\n",
       "      <td>0</td>\n",
       "      <td>30.8</td>\n",
       "      <td>1</td>\n",
       "      <td>1</td>\n",
       "      <td>...</td>\n",
       "      <td>0</td>\n",
       "      <td>0</td>\n",
       "      <td>0</td>\n",
       "      <td>3.315</td>\n",
       "      <td>1.967</td>\n",
       "      <td>0</td>\n",
       "      <td>7.257</td>\n",
       "      <td>0</td>\n",
       "      <td>0</td>\n",
       "      <td>RB</td>\n",
       "    </tr>\n",
       "    <tr>\n",
       "      <th>2</th>\n",
       "      <td>3.932</td>\n",
       "      <td>3.2512</td>\n",
       "      <td>0</td>\n",
       "      <td>0</td>\n",
       "      <td>0</td>\n",
       "      <td>0</td>\n",
       "      <td>0</td>\n",
       "      <td>26.7</td>\n",
       "      <td>2</td>\n",
       "      <td>4</td>\n",
       "      <td>...</td>\n",
       "      <td>0</td>\n",
       "      <td>0</td>\n",
       "      <td>1</td>\n",
       "      <td>3.076</td>\n",
       "      <td>2.417</td>\n",
       "      <td>0</td>\n",
       "      <td>7.601</td>\n",
       "      <td>0</td>\n",
       "      <td>0</td>\n",
       "      <td>RB</td>\n",
       "    </tr>\n",
       "    <tr>\n",
       "      <th>3</th>\n",
       "      <td>3.000</td>\n",
       "      <td>2.7098</td>\n",
       "      <td>0</td>\n",
       "      <td>0</td>\n",
       "      <td>0</td>\n",
       "      <td>0</td>\n",
       "      <td>0</td>\n",
       "      <td>20.0</td>\n",
       "      <td>0</td>\n",
       "      <td>2</td>\n",
       "      <td>...</td>\n",
       "      <td>0</td>\n",
       "      <td>0</td>\n",
       "      <td>1</td>\n",
       "      <td>3.046</td>\n",
       "      <td>5.000</td>\n",
       "      <td>0</td>\n",
       "      <td>6.690</td>\n",
       "      <td>0</td>\n",
       "      <td>0</td>\n",
       "      <td>RB</td>\n",
       "    </tr>\n",
       "    <tr>\n",
       "      <th>4</th>\n",
       "      <td>4.236</td>\n",
       "      <td>3.3944</td>\n",
       "      <td>0</td>\n",
       "      <td>0</td>\n",
       "      <td>0</td>\n",
       "      <td>0</td>\n",
       "      <td>0</td>\n",
       "      <td>29.4</td>\n",
       "      <td>2</td>\n",
       "      <td>4</td>\n",
       "      <td>...</td>\n",
       "      <td>0</td>\n",
       "      <td>0</td>\n",
       "      <td>0</td>\n",
       "      <td>3.351</td>\n",
       "      <td>2.405</td>\n",
       "      <td>0</td>\n",
       "      <td>8.003</td>\n",
       "      <td>0</td>\n",
       "      <td>0</td>\n",
       "      <td>RB</td>\n",
       "    </tr>\n",
       "  </tbody>\n",
       "</table>\n",
       "<p>5 rows × 42 columns</p>\n",
       "</div>"
      ],
      "text/plain": [
       "   SpMax_L    J_Dz  nHM  F01[N-N]  F04[C-N]  NssssC  nCb-    C%  nCp  nO  ...  \\\n",
       "0    3.919  2.6909    0         0         0       0     0  31.4    2   0  ...   \n",
       "1    4.170  2.1144    0         0         0       0     0  30.8    1   1  ...   \n",
       "2    3.932  3.2512    0         0         0       0     0  26.7    2   4  ...   \n",
       "3    3.000  2.7098    0         0         0       0     0  20.0    0   2  ...   \n",
       "4    4.236  3.3944    0         0         0       0     0  29.4    2   4  ...   \n",
       "\n",
       "   C-026  F02[C-N]  nHDon  SpMax_B  Psi_i_A  nN  SM6_B  nArCOOR  nX  \\\n",
       "0      0         0      0    2.949    1.591   0  7.253        0   0   \n",
       "1      0         0      0    3.315    1.967   0  7.257        0   0   \n",
       "2      0         0      1    3.076    2.417   0  7.601        0   0   \n",
       "3      0         0      1    3.046    5.000   0  6.690        0   0   \n",
       "4      0         0      0    3.351    2.405   0  8.003        0   0   \n",
       "\n",
       "   experimentalclass  \n",
       "0                 RB  \n",
       "1                 RB  \n",
       "2                 RB  \n",
       "3                 RB  \n",
       "4                 RB  \n",
       "\n",
       "[5 rows x 42 columns]"
      ]
     },
     "execution_count": 5,
     "metadata": {},
     "output_type": "execute_result"
    }
   ],
   "source": [
    "df = pd.read_csv('bio-degradabale-data.csv',sep=\";\",names=names)\n",
    "df.head()"
   ]
  },
  {
   "cell_type": "code",
   "execution_count": 6,
   "id": "de651e9e-8363-4757-8a5e-43aa9b588a15",
   "metadata": {},
   "outputs": [
    {
     "name": "stdout",
     "output_type": "stream",
     "text": [
      "<class 'pandas.core.frame.DataFrame'>\n",
      "RangeIndex: 1055 entries, 0 to 1054\n",
      "Data columns (total 42 columns):\n",
      " #   Column             Non-Null Count  Dtype  \n",
      "---  ------             --------------  -----  \n",
      " 0   SpMax_L            1055 non-null   float64\n",
      " 1   J_Dz               1055 non-null   float64\n",
      " 2   nHM                1055 non-null   int64  \n",
      " 3   F01[N-N]           1055 non-null   int64  \n",
      " 4   F04[C-N]           1055 non-null   int64  \n",
      " 5   NssssC             1055 non-null   int64  \n",
      " 6   nCb-               1055 non-null   int64  \n",
      " 7   C%                 1055 non-null   float64\n",
      " 8   nCp                1055 non-null   int64  \n",
      " 9   nO                 1055 non-null   int64  \n",
      " 10  F03[C-N]           1055 non-null   int64  \n",
      " 11  SdssC              1055 non-null   float64\n",
      " 12  HyWi_B             1055 non-null   float64\n",
      " 13  LOC                1055 non-null   float64\n",
      " 14  SM6_L              1055 non-null   float64\n",
      " 15  F03[C-O]           1055 non-null   int64  \n",
      " 16  Me                 1055 non-null   float64\n",
      " 17  Mi                 1055 non-null   float64\n",
      " 18  nN-N               1055 non-null   int64  \n",
      " 19  nArNO2             1055 non-null   int64  \n",
      " 20  nCRX3              1055 non-null   int64  \n",
      " 21  SpPosA             1055 non-null   float64\n",
      " 22  nCIR               1055 non-null   int64  \n",
      " 23  B01[C-Br]          1055 non-null   int64  \n",
      " 24  B03[C-Cl]          1055 non-null   int64  \n",
      " 25  N-073              1055 non-null   int64  \n",
      " 26  SpMax_A            1055 non-null   float64\n",
      " 27  Psi_i_1d           1055 non-null   float64\n",
      " 28  B04[C-Br]          1055 non-null   int64  \n",
      " 29  SdO                1055 non-null   float64\n",
      " 30  TI2_L              1055 non-null   float64\n",
      " 31  nCrt               1055 non-null   int64  \n",
      " 32  C-026              1055 non-null   int64  \n",
      " 33  F02[C-N]           1055 non-null   int64  \n",
      " 34  nHDon              1055 non-null   int64  \n",
      " 35  SpMax_B            1055 non-null   float64\n",
      " 36  Psi_i_A            1055 non-null   float64\n",
      " 37  nN                 1055 non-null   int64  \n",
      " 38  SM6_B              1055 non-null   float64\n",
      " 39  nArCOOR            1055 non-null   int64  \n",
      " 40  nX                 1055 non-null   int64  \n",
      " 41  experimentalclass  1055 non-null   object \n",
      "dtypes: float64(17), int64(24), object(1)\n",
      "memory usage: 346.3+ KB\n"
     ]
    }
   ],
   "source": [
    "df.info()"
   ]
  },
  {
   "cell_type": "code",
   "execution_count": 7,
   "id": "9da0c5de-668f-48a3-af25-4910882f16ac",
   "metadata": {},
   "outputs": [
    {
     "data": {
      "text/html": [
       "<div>\n",
       "<style scoped>\n",
       "    .dataframe tbody tr th:only-of-type {\n",
       "        vertical-align: middle;\n",
       "    }\n",
       "\n",
       "    .dataframe tbody tr th {\n",
       "        vertical-align: top;\n",
       "    }\n",
       "\n",
       "    .dataframe thead th {\n",
       "        text-align: right;\n",
       "    }\n",
       "</style>\n",
       "<table border=\"1\" class=\"dataframe\">\n",
       "  <thead>\n",
       "    <tr style=\"text-align: right;\">\n",
       "      <th></th>\n",
       "      <th>SpMax_L</th>\n",
       "      <th>J_Dz</th>\n",
       "      <th>nHM</th>\n",
       "      <th>F01[N-N]</th>\n",
       "      <th>F04[C-N]</th>\n",
       "      <th>NssssC</th>\n",
       "      <th>nCb-</th>\n",
       "      <th>C%</th>\n",
       "      <th>nCp</th>\n",
       "      <th>nO</th>\n",
       "      <th>...</th>\n",
       "      <th>nCrt</th>\n",
       "      <th>C-026</th>\n",
       "      <th>F02[C-N]</th>\n",
       "      <th>nHDon</th>\n",
       "      <th>SpMax_B</th>\n",
       "      <th>Psi_i_A</th>\n",
       "      <th>nN</th>\n",
       "      <th>SM6_B</th>\n",
       "      <th>nArCOOR</th>\n",
       "      <th>nX</th>\n",
       "    </tr>\n",
       "    <tr>\n",
       "      <th>experimentalclass</th>\n",
       "      <th></th>\n",
       "      <th></th>\n",
       "      <th></th>\n",
       "      <th></th>\n",
       "      <th></th>\n",
       "      <th></th>\n",
       "      <th></th>\n",
       "      <th></th>\n",
       "      <th></th>\n",
       "      <th></th>\n",
       "      <th></th>\n",
       "      <th></th>\n",
       "      <th></th>\n",
       "      <th></th>\n",
       "      <th></th>\n",
       "      <th></th>\n",
       "      <th></th>\n",
       "      <th></th>\n",
       "      <th></th>\n",
       "      <th></th>\n",
       "      <th></th>\n",
       "    </tr>\n",
       "  </thead>\n",
       "  <tbody>\n",
       "    <tr>\n",
       "      <th>NRB</th>\n",
       "      <td>699</td>\n",
       "      <td>699</td>\n",
       "      <td>699</td>\n",
       "      <td>699</td>\n",
       "      <td>699</td>\n",
       "      <td>699</td>\n",
       "      <td>699</td>\n",
       "      <td>699</td>\n",
       "      <td>699</td>\n",
       "      <td>699</td>\n",
       "      <td>...</td>\n",
       "      <td>699</td>\n",
       "      <td>699</td>\n",
       "      <td>699</td>\n",
       "      <td>699</td>\n",
       "      <td>699</td>\n",
       "      <td>699</td>\n",
       "      <td>699</td>\n",
       "      <td>699</td>\n",
       "      <td>699</td>\n",
       "      <td>699</td>\n",
       "    </tr>\n",
       "    <tr>\n",
       "      <th>RB</th>\n",
       "      <td>356</td>\n",
       "      <td>356</td>\n",
       "      <td>356</td>\n",
       "      <td>356</td>\n",
       "      <td>356</td>\n",
       "      <td>356</td>\n",
       "      <td>356</td>\n",
       "      <td>356</td>\n",
       "      <td>356</td>\n",
       "      <td>356</td>\n",
       "      <td>...</td>\n",
       "      <td>356</td>\n",
       "      <td>356</td>\n",
       "      <td>356</td>\n",
       "      <td>356</td>\n",
       "      <td>356</td>\n",
       "      <td>356</td>\n",
       "      <td>356</td>\n",
       "      <td>356</td>\n",
       "      <td>356</td>\n",
       "      <td>356</td>\n",
       "    </tr>\n",
       "  </tbody>\n",
       "</table>\n",
       "<p>2 rows × 41 columns</p>\n",
       "</div>"
      ],
      "text/plain": [
       "                   SpMax_L  J_Dz  nHM  F01[N-N]  F04[C-N]  NssssC  nCb-   C%  \\\n",
       "experimentalclass                                                              \n",
       "NRB                    699   699  699       699       699     699   699  699   \n",
       "RB                     356   356  356       356       356     356   356  356   \n",
       "\n",
       "                   nCp   nO  ...  nCrt  C-026  F02[C-N]  nHDon  SpMax_B  \\\n",
       "experimentalclass            ...                                          \n",
       "NRB                699  699  ...   699    699       699    699      699   \n",
       "RB                 356  356  ...   356    356       356    356      356   \n",
       "\n",
       "                   Psi_i_A   nN  SM6_B  nArCOOR   nX  \n",
       "experimentalclass                                     \n",
       "NRB                    699  699    699      699  699  \n",
       "RB                     356  356    356      356  356  \n",
       "\n",
       "[2 rows x 41 columns]"
      ]
     },
     "execution_count": 7,
     "metadata": {},
     "output_type": "execute_result"
    }
   ],
   "source": [
    "df.groupby('experimentalclass').count()"
   ]
  },
  {
   "cell_type": "code",
   "execution_count": 8,
   "id": "79a760eb-dc41-483b-a49e-1c3b652835a6",
   "metadata": {},
   "outputs": [
    {
     "data": {
      "text/plain": [
       "0        RB\n",
       "1        RB\n",
       "2        RB\n",
       "3        RB\n",
       "4        RB\n",
       "       ... \n",
       "1050    NRB\n",
       "1051    NRB\n",
       "1052    NRB\n",
       "1053    NRB\n",
       "1054    NRB\n",
       "Name: experimentalclass, Length: 1055, dtype: object"
      ]
     },
     "execution_count": 8,
     "metadata": {},
     "output_type": "execute_result"
    }
   ],
   "source": [
    "target_data=df[\"experimentalclass\"]\n",
    "target_data"
   ]
  },
  {
   "cell_type": "code",
   "execution_count": 9,
   "id": "718d04f2-4c3f-4561-9f9c-3ff65c89566b",
   "metadata": {},
   "outputs": [
    {
     "name": "stdout",
     "output_type": "stream",
     "text": [
      "['SpMax_L', 'J_Dz', 'nHM', 'F01[N-N]', 'F04[C-N]', 'NssssC', 'nCb-', 'C%', 'nCp', 'nO', 'F03[C-N]', 'SdssC', 'HyWi_B', 'LOC', 'SM6_L', 'F03[C-O]', 'Me', 'Mi', 'nN-N', 'nArNO2', 'nCRX3', 'SpPosA', 'nCIR', 'B01[C-Br]', 'B03[C-Cl]', 'N-073', 'SpMax_A', 'Psi_i_1d', 'B04[C-Br]', 'SdO', 'TI2_L', 'nCrt', 'C-026', 'F02[C-N]', 'nHDon', 'SpMax_B', 'Psi_i_A', 'nN', 'SM6_B', 'nArCOOR', 'nX']\n"
     ]
    }
   ],
   "source": [
    "feature_names = names[0:-1]\n",
    "print (feature_names)"
   ]
  },
  {
   "cell_type": "code",
   "execution_count": 10,
   "id": "ec66d7f4-9746-4aab-8645-5ae6b00d5abb",
   "metadata": {},
   "outputs": [
    {
     "name": "stdout",
     "output_type": "stream",
     "text": [
      "[1 1 1 ... 0 0 0]\n"
     ]
    }
   ],
   "source": [
    "encoder = LabelEncoder()\n",
    "target_data = encoder.fit_transform(target_data)\n",
    "print (target_data)"
   ]
  },
  {
   "cell_type": "code",
   "execution_count": 11,
   "id": "f6ecba3b-24fa-457a-8fee-1f7aca6c4cde",
   "metadata": {},
   "outputs": [],
   "source": [
    "df.drop([\"experimentalclass\"],axis = 1, inplace = True)"
   ]
  },
  {
   "cell_type": "code",
   "execution_count": 14,
   "id": "e3461fb7-a781-48f6-80ec-ebf8b541011d",
   "metadata": {},
   "outputs": [],
   "source": [
    "random_state = 101\n",
    "kfold = model_selection.KFold(n_splits=5)"
   ]
  },
  {
   "cell_type": "code",
   "execution_count": 15,
   "id": "694d0fa1-2cd1-4118-b2bb-ba7c9f9fbf90",
   "metadata": {},
   "outputs": [],
   "source": [
    "def get_result_score(num_trees):\n",
    "    model = AdaBoostClassifier(n_estimators=num_trees, random_state=random_state)\n",
    "    results = model_selection.cross_val_score(model, df, target_data, cv=kfold)\n",
    "    return results.mean()"
   ]
  },
  {
   "cell_type": "code",
   "execution_count": 16,
   "id": "b1839ea8-9070-4605-af14-2892f8dd7ca5",
   "metadata": {},
   "outputs": [
    {
     "name": "stderr",
     "output_type": "stream",
     "text": [
      "C:\\Users\\USER\\AppData\\Local\\Programs\\Python\\Python312\\Lib\\site-packages\\sklearn\\ensemble\\_weight_boosting.py:527: FutureWarning: The SAMME.R algorithm (the default) is deprecated and will be removed in 1.6. Use the SAMME algorithm to circumvent this warning.\n",
      "  warnings.warn(\n",
      "C:\\Users\\USER\\AppData\\Local\\Programs\\Python\\Python312\\Lib\\site-packages\\sklearn\\ensemble\\_weight_boosting.py:527: FutureWarning: The SAMME.R algorithm (the default) is deprecated and will be removed in 1.6. Use the SAMME algorithm to circumvent this warning.\n",
      "  warnings.warn(\n",
      "C:\\Users\\USER\\AppData\\Local\\Programs\\Python\\Python312\\Lib\\site-packages\\sklearn\\ensemble\\_weight_boosting.py:527: FutureWarning: The SAMME.R algorithm (the default) is deprecated and will be removed in 1.6. Use the SAMME algorithm to circumvent this warning.\n",
      "  warnings.warn(\n",
      "C:\\Users\\USER\\AppData\\Local\\Programs\\Python\\Python312\\Lib\\site-packages\\sklearn\\ensemble\\_weight_boosting.py:527: FutureWarning: The SAMME.R algorithm (the default) is deprecated and will be removed in 1.6. Use the SAMME algorithm to circumvent this warning.\n",
      "  warnings.warn(\n",
      "C:\\Users\\USER\\AppData\\Local\\Programs\\Python\\Python312\\Lib\\site-packages\\sklearn\\ensemble\\_weight_boosting.py:527: FutureWarning: The SAMME.R algorithm (the default) is deprecated and will be removed in 1.6. Use the SAMME algorithm to circumvent this warning.\n",
      "  warnings.warn(\n",
      "C:\\Users\\USER\\AppData\\Local\\Programs\\Python\\Python312\\Lib\\site-packages\\sklearn\\ensemble\\_weight_boosting.py:527: FutureWarning: The SAMME.R algorithm (the default) is deprecated and will be removed in 1.6. Use the SAMME algorithm to circumvent this warning.\n",
      "  warnings.warn(\n"
     ]
    },
    {
     "name": "stdout",
     "output_type": "stream",
     "text": [
      "Score for 50 count is 0.797156 :\n"
     ]
    },
    {
     "name": "stderr",
     "output_type": "stream",
     "text": [
      "C:\\Users\\USER\\AppData\\Local\\Programs\\Python\\Python312\\Lib\\site-packages\\sklearn\\ensemble\\_weight_boosting.py:527: FutureWarning: The SAMME.R algorithm (the default) is deprecated and will be removed in 1.6. Use the SAMME algorithm to circumvent this warning.\n",
      "  warnings.warn(\n",
      "C:\\Users\\USER\\AppData\\Local\\Programs\\Python\\Python312\\Lib\\site-packages\\sklearn\\ensemble\\_weight_boosting.py:527: FutureWarning: The SAMME.R algorithm (the default) is deprecated and will be removed in 1.6. Use the SAMME algorithm to circumvent this warning.\n",
      "  warnings.warn(\n",
      "C:\\Users\\USER\\AppData\\Local\\Programs\\Python\\Python312\\Lib\\site-packages\\sklearn\\ensemble\\_weight_boosting.py:527: FutureWarning: The SAMME.R algorithm (the default) is deprecated and will be removed in 1.6. Use the SAMME algorithm to circumvent this warning.\n",
      "  warnings.warn(\n",
      "C:\\Users\\USER\\AppData\\Local\\Programs\\Python\\Python312\\Lib\\site-packages\\sklearn\\ensemble\\_weight_boosting.py:527: FutureWarning: The SAMME.R algorithm (the default) is deprecated and will be removed in 1.6. Use the SAMME algorithm to circumvent this warning.\n",
      "  warnings.warn(\n"
     ]
    },
    {
     "name": "stdout",
     "output_type": "stream",
     "text": [
      "Score for 75 count is 0.810427 :\n"
     ]
    },
    {
     "name": "stderr",
     "output_type": "stream",
     "text": [
      "C:\\Users\\USER\\AppData\\Local\\Programs\\Python\\Python312\\Lib\\site-packages\\sklearn\\ensemble\\_weight_boosting.py:527: FutureWarning: The SAMME.R algorithm (the default) is deprecated and will be removed in 1.6. Use the SAMME algorithm to circumvent this warning.\n",
      "  warnings.warn(\n",
      "C:\\Users\\USER\\AppData\\Local\\Programs\\Python\\Python312\\Lib\\site-packages\\sklearn\\ensemble\\_weight_boosting.py:527: FutureWarning: The SAMME.R algorithm (the default) is deprecated and will be removed in 1.6. Use the SAMME algorithm to circumvent this warning.\n",
      "  warnings.warn(\n",
      "C:\\Users\\USER\\AppData\\Local\\Programs\\Python\\Python312\\Lib\\site-packages\\sklearn\\ensemble\\_weight_boosting.py:527: FutureWarning: The SAMME.R algorithm (the default) is deprecated and will be removed in 1.6. Use the SAMME algorithm to circumvent this warning.\n",
      "  warnings.warn(\n",
      "C:\\Users\\USER\\AppData\\Local\\Programs\\Python\\Python312\\Lib\\site-packages\\sklearn\\ensemble\\_weight_boosting.py:527: FutureWarning: The SAMME.R algorithm (the default) is deprecated and will be removed in 1.6. Use the SAMME algorithm to circumvent this warning.\n",
      "  warnings.warn(\n",
      "C:\\Users\\USER\\AppData\\Local\\Programs\\Python\\Python312\\Lib\\site-packages\\sklearn\\ensemble\\_weight_boosting.py:527: FutureWarning: The SAMME.R algorithm (the default) is deprecated and will be removed in 1.6. Use the SAMME algorithm to circumvent this warning.\n",
      "  warnings.warn(\n"
     ]
    },
    {
     "name": "stdout",
     "output_type": "stream",
     "text": [
      "Score for 100 count is 0.811374 :\n"
     ]
    },
    {
     "name": "stderr",
     "output_type": "stream",
     "text": [
      "C:\\Users\\USER\\AppData\\Local\\Programs\\Python\\Python312\\Lib\\site-packages\\sklearn\\ensemble\\_weight_boosting.py:527: FutureWarning: The SAMME.R algorithm (the default) is deprecated and will be removed in 1.6. Use the SAMME algorithm to circumvent this warning.\n",
      "  warnings.warn(\n",
      "C:\\Users\\USER\\AppData\\Local\\Programs\\Python\\Python312\\Lib\\site-packages\\sklearn\\ensemble\\_weight_boosting.py:527: FutureWarning: The SAMME.R algorithm (the default) is deprecated and will be removed in 1.6. Use the SAMME algorithm to circumvent this warning.\n",
      "  warnings.warn(\n",
      "C:\\Users\\USER\\AppData\\Local\\Programs\\Python\\Python312\\Lib\\site-packages\\sklearn\\ensemble\\_weight_boosting.py:527: FutureWarning: The SAMME.R algorithm (the default) is deprecated and will be removed in 1.6. Use the SAMME algorithm to circumvent this warning.\n",
      "  warnings.warn(\n",
      "C:\\Users\\USER\\AppData\\Local\\Programs\\Python\\Python312\\Lib\\site-packages\\sklearn\\ensemble\\_weight_boosting.py:527: FutureWarning: The SAMME.R algorithm (the default) is deprecated and will be removed in 1.6. Use the SAMME algorithm to circumvent this warning.\n",
      "  warnings.warn(\n",
      "C:\\Users\\USER\\AppData\\Local\\Programs\\Python\\Python312\\Lib\\site-packages\\sklearn\\ensemble\\_weight_boosting.py:527: FutureWarning: The SAMME.R algorithm (the default) is deprecated and will be removed in 1.6. Use the SAMME algorithm to circumvent this warning.\n",
      "  warnings.warn(\n"
     ]
    },
    {
     "name": "stdout",
     "output_type": "stream",
     "text": [
      "Score for 150 count is 0.822749 :\n"
     ]
    },
    {
     "name": "stderr",
     "output_type": "stream",
     "text": [
      "C:\\Users\\USER\\AppData\\Local\\Programs\\Python\\Python312\\Lib\\site-packages\\sklearn\\ensemble\\_weight_boosting.py:527: FutureWarning: The SAMME.R algorithm (the default) is deprecated and will be removed in 1.6. Use the SAMME algorithm to circumvent this warning.\n",
      "  warnings.warn(\n",
      "C:\\Users\\USER\\AppData\\Local\\Programs\\Python\\Python312\\Lib\\site-packages\\sklearn\\ensemble\\_weight_boosting.py:527: FutureWarning: The SAMME.R algorithm (the default) is deprecated and will be removed in 1.6. Use the SAMME algorithm to circumvent this warning.\n",
      "  warnings.warn(\n",
      "C:\\Users\\USER\\AppData\\Local\\Programs\\Python\\Python312\\Lib\\site-packages\\sklearn\\ensemble\\_weight_boosting.py:527: FutureWarning: The SAMME.R algorithm (the default) is deprecated and will be removed in 1.6. Use the SAMME algorithm to circumvent this warning.\n",
      "  warnings.warn(\n",
      "C:\\Users\\USER\\AppData\\Local\\Programs\\Python\\Python312\\Lib\\site-packages\\sklearn\\ensemble\\_weight_boosting.py:527: FutureWarning: The SAMME.R algorithm (the default) is deprecated and will be removed in 1.6. Use the SAMME algorithm to circumvent this warning.\n",
      "  warnings.warn(\n",
      "C:\\Users\\USER\\AppData\\Local\\Programs\\Python\\Python312\\Lib\\site-packages\\sklearn\\ensemble\\_weight_boosting.py:527: FutureWarning: The SAMME.R algorithm (the default) is deprecated and will be removed in 1.6. Use the SAMME algorithm to circumvent this warning.\n",
      "  warnings.warn(\n"
     ]
    },
    {
     "name": "stdout",
     "output_type": "stream",
     "text": [
      "Score for 200 count is 0.813270 :\n"
     ]
    },
    {
     "name": "stderr",
     "output_type": "stream",
     "text": [
      "C:\\Users\\USER\\AppData\\Local\\Programs\\Python\\Python312\\Lib\\site-packages\\sklearn\\ensemble\\_weight_boosting.py:527: FutureWarning: The SAMME.R algorithm (the default) is deprecated and will be removed in 1.6. Use the SAMME algorithm to circumvent this warning.\n",
      "  warnings.warn(\n",
      "C:\\Users\\USER\\AppData\\Local\\Programs\\Python\\Python312\\Lib\\site-packages\\sklearn\\ensemble\\_weight_boosting.py:527: FutureWarning: The SAMME.R algorithm (the default) is deprecated and will be removed in 1.6. Use the SAMME algorithm to circumvent this warning.\n",
      "  warnings.warn(\n",
      "C:\\Users\\USER\\AppData\\Local\\Programs\\Python\\Python312\\Lib\\site-packages\\sklearn\\ensemble\\_weight_boosting.py:527: FutureWarning: The SAMME.R algorithm (the default) is deprecated and will be removed in 1.6. Use the SAMME algorithm to circumvent this warning.\n",
      "  warnings.warn(\n",
      "C:\\Users\\USER\\AppData\\Local\\Programs\\Python\\Python312\\Lib\\site-packages\\sklearn\\ensemble\\_weight_boosting.py:527: FutureWarning: The SAMME.R algorithm (the default) is deprecated and will be removed in 1.6. Use the SAMME algorithm to circumvent this warning.\n",
      "  warnings.warn(\n",
      "C:\\Users\\USER\\AppData\\Local\\Programs\\Python\\Python312\\Lib\\site-packages\\sklearn\\ensemble\\_weight_boosting.py:527: FutureWarning: The SAMME.R algorithm (the default) is deprecated and will be removed in 1.6. Use the SAMME algorithm to circumvent this warning.\n",
      "  warnings.warn(\n"
     ]
    },
    {
     "name": "stdout",
     "output_type": "stream",
     "text": [
      "Score for 250 count is 0.813270 :\n"
     ]
    },
    {
     "name": "stderr",
     "output_type": "stream",
     "text": [
      "C:\\Users\\USER\\AppData\\Local\\Programs\\Python\\Python312\\Lib\\site-packages\\sklearn\\ensemble\\_weight_boosting.py:527: FutureWarning: The SAMME.R algorithm (the default) is deprecated and will be removed in 1.6. Use the SAMME algorithm to circumvent this warning.\n",
      "  warnings.warn(\n",
      "C:\\Users\\USER\\AppData\\Local\\Programs\\Python\\Python312\\Lib\\site-packages\\sklearn\\ensemble\\_weight_boosting.py:527: FutureWarning: The SAMME.R algorithm (the default) is deprecated and will be removed in 1.6. Use the SAMME algorithm to circumvent this warning.\n",
      "  warnings.warn(\n",
      "C:\\Users\\USER\\AppData\\Local\\Programs\\Python\\Python312\\Lib\\site-packages\\sklearn\\ensemble\\_weight_boosting.py:527: FutureWarning: The SAMME.R algorithm (the default) is deprecated and will be removed in 1.6. Use the SAMME algorithm to circumvent this warning.\n",
      "  warnings.warn(\n",
      "C:\\Users\\USER\\AppData\\Local\\Programs\\Python\\Python312\\Lib\\site-packages\\sklearn\\ensemble\\_weight_boosting.py:527: FutureWarning: The SAMME.R algorithm (the default) is deprecated and will be removed in 1.6. Use the SAMME algorithm to circumvent this warning.\n",
      "  warnings.warn(\n",
      "C:\\Users\\USER\\AppData\\Local\\Programs\\Python\\Python312\\Lib\\site-packages\\sklearn\\ensemble\\_weight_boosting.py:527: FutureWarning: The SAMME.R algorithm (the default) is deprecated and will be removed in 1.6. Use the SAMME algorithm to circumvent this warning.\n",
      "  warnings.warn(\n"
     ]
    },
    {
     "name": "stdout",
     "output_type": "stream",
     "text": [
      "Score for 300 count is 0.805687 :\n"
     ]
    }
   ],
   "source": [
    "num_tree_list = [50,75,100,150,200,250,300]\n",
    "for num_tree_count in num_tree_list:\n",
    "    score = get_result_score(num_tree_count)\n",
    "    print (\"Score for {:d} count is {:f} :\".format( num_tree_count,score))"
   ]
  },
  {
   "cell_type": "code",
   "execution_count": null,
   "id": "ae97e3b6-ffa1-4afe-9da0-2f49e6a3679a",
   "metadata": {},
   "outputs": [],
   "source": []
  }
 ],
 "metadata": {
  "kernelspec": {
   "display_name": "Python 3 (ipykernel)",
   "language": "python",
   "name": "python3"
  },
  "language_info": {
   "codemirror_mode": {
    "name": "ipython",
    "version": 3
   },
   "file_extension": ".py",
   "mimetype": "text/x-python",
   "name": "python",
   "nbconvert_exporter": "python",
   "pygments_lexer": "ipython3",
   "version": "3.12.7"
  }
 },
 "nbformat": 4,
 "nbformat_minor": 5
}
