{
 "cells": [
  {
   "cell_type": "markdown",
   "id": "9dcc2f52",
   "metadata": {},
   "source": [
    "1. Write a NumPy program to convert a list of numeric value into a one-dimensional NumPy array.\n",
    "\n",
    "Expected Output:\n",
    "\n",
    "Original List: [12.23, 13.32, 100, 36.32]\n",
    "\n",
    "One-dimensional NumPy array: [ 12.23 13.32 100. 36.32]"
   ]
  },
  {
   "cell_type": "code",
   "execution_count": 2,
   "id": "ce302221",
   "metadata": {},
   "outputs": [],
   "source": [
    "import numpy as np"
   ]
  },
  {
   "cell_type": "code",
   "execution_count": 6,
   "id": "61de7fbd",
   "metadata": {},
   "outputs": [],
   "source": [
    "a=[12.23, 13.32, 100, 36.32]"
   ]
  },
  {
   "cell_type": "code",
   "execution_count": 9,
   "id": "ac97fed2",
   "metadata": {},
   "outputs": [],
   "source": [
    "b = np.array(a)"
   ]
  },
  {
   "cell_type": "code",
   "execution_count": 11,
   "id": "424be336",
   "metadata": {},
   "outputs": [
    {
     "name": "stdout",
     "output_type": "stream",
     "text": [
      "[ 12.23  13.32 100.    36.32]\n"
     ]
    }
   ],
   "source": [
    "print(b)"
   ]
  },
  {
   "cell_type": "markdown",
   "id": "42c821ab",
   "metadata": {},
   "source": [
    "2.Write a NumPy program to create a 3x3 matrix with values ranging from 2 to 10.  \n",
    "Expected Output:\n",
    "\n",
    "[[ 2 3 4]\n",
    "\n",
    "[ 5 6 7]\n",
    "\n",
    "[ 8 9 10]]"
   ]
  },
  {
   "cell_type": "code",
   "execution_count": 12,
   "id": "1379e0ef",
   "metadata": {},
   "outputs": [],
   "source": [
    "a = np.arange(2,11).reshape(3,3)"
   ]
  },
  {
   "cell_type": "code",
   "execution_count": 13,
   "id": "57001fd4",
   "metadata": {},
   "outputs": [
    {
     "name": "stdout",
     "output_type": "stream",
     "text": [
      "[[ 2  3  4]\n",
      " [ 5  6  7]\n",
      " [ 8  9 10]]\n"
     ]
    }
   ],
   "source": [
    "print(a)"
   ]
  },
  {
   "cell_type": "markdown",
   "id": "850e840d",
   "metadata": {},
   "source": [
    "3. Write a NumPy program to create a null vector of size 10 and update sixth value to 11. \n",
    "\n",
    "[ 0. 0. 0. 0. 0. 0. 0. 0. 0. 0.]\n",
    "\n",
    "Update sixth value to 11\n",
    "\n",
    "[ 0. 0. 0. 0. 0. 0. 11. 0. 0. 0.]"
   ]
  },
  {
   "cell_type": "code",
   "execution_count": 14,
   "id": "bb1c28dc",
   "metadata": {},
   "outputs": [],
   "source": [
    "a = np.zeros(10)"
   ]
  },
  {
   "cell_type": "code",
   "execution_count": 15,
   "id": "a2174f43",
   "metadata": {},
   "outputs": [
    {
     "name": "stdout",
     "output_type": "stream",
     "text": [
      "[0. 0. 0. 0. 0. 0. 0. 0. 0. 0.]\n"
     ]
    }
   ],
   "source": [
    "print(a)"
   ]
  },
  {
   "cell_type": "code",
   "execution_count": 16,
   "id": "47df9b22",
   "metadata": {},
   "outputs": [],
   "source": [
    "a[6] = 11"
   ]
  },
  {
   "cell_type": "code",
   "execution_count": 17,
   "id": "9bfdc4f4",
   "metadata": {},
   "outputs": [
    {
     "name": "stdout",
     "output_type": "stream",
     "text": [
      "[ 0.  0.  0.  0.  0.  0. 11.  0.  0.  0.]\n"
     ]
    }
   ],
   "source": [
    "print(a)"
   ]
  },
  {
   "cell_type": "markdown",
   "id": "4f22bd05",
   "metadata": {},
   "source": [
    "4. Write a NumPy program to create an array with values ranging from 12 to 38. \n",
    "\n",
    "Expected Output:\n",
    "\n",
    "[12 13 14 15 16 17 18 19 20 21 22 23 24 25 26 27 28 29 30 31 32 33 34 35 36 37]"
   ]
  },
  {
   "cell_type": "code",
   "execution_count": 18,
   "id": "1e78746e",
   "metadata": {},
   "outputs": [],
   "source": [
    "a = np.arange(12,39)"
   ]
  },
  {
   "cell_type": "code",
   "execution_count": 19,
   "id": "afa0ef82",
   "metadata": {},
   "outputs": [
    {
     "name": "stdout",
     "output_type": "stream",
     "text": [
      "[12 13 14 15 16 17 18 19 20 21 22 23 24 25 26 27 28 29 30 31 32 33 34 35\n",
      " 36 37 38]\n"
     ]
    }
   ],
   "source": [
    "print(a)"
   ]
  },
  {
   "cell_type": "markdown",
   "id": "6bb30d60",
   "metadata": {},
   "source": [
    "5. Write a NumPy program to reverse an array (first element becomes last). \n",
    " \n",
    "Original array:\n",
    "    \n",
    "\n",
    "    [12 13 14 15 16 17 18 19 20 21 22 23 24 25 26 27 28 29 30 31 32 33 34 35 36 37]\n",
    "\n",
    "    Reverse array:\n",
    "\n",
    "        [37 36 35 34 33 32 31 30 29 28 27 26 25 24 23 22 21 20 19 18 17 16 15 14 13 12]"
   ]
  },
  {
   "cell_type": "code",
   "execution_count": 20,
   "id": "6ec63e69",
   "metadata": {},
   "outputs": [],
   "source": [
    "a = np.arange(12,39)"
   ]
  },
  {
   "cell_type": "code",
   "execution_count": 21,
   "id": "98ecd532",
   "metadata": {},
   "outputs": [
    {
     "data": {
      "text/plain": [
       "array([38, 37, 36, 35, 34, 33, 32, 31, 30, 29, 28, 27, 26, 25, 24, 23, 22,\n",
       "       21, 20, 19, 18, 17, 16, 15, 14, 13, 12])"
      ]
     },
     "execution_count": 21,
     "metadata": {},
     "output_type": "execute_result"
    }
   ],
   "source": [
    "a[::-1]"
   ]
  },
  {
   "cell_type": "markdown",
   "id": "b3f4157d",
   "metadata": {},
   "source": [
    "6. Write a NumPy program to convert an array to a float type.  \n",
    "Sample output:\n",
    "Original array\n",
    "[1, 2, 3, 4]\n",
    "Array converted to a float type:\n",
    "[ 1. 2. 3. 4.]"
   ]
  },
  {
   "cell_type": "code",
   "execution_count": 23,
   "id": "c50096d7",
   "metadata": {},
   "outputs": [],
   "source": [
    "a = [1,2,3,4]"
   ]
  },
  {
   "cell_type": "code",
   "execution_count": 24,
   "id": "9e1a9c91",
   "metadata": {},
   "outputs": [
    {
     "name": "stdout",
     "output_type": "stream",
     "text": [
      "[1. 2. 3. 4.]\n"
     ]
    }
   ],
   "source": [
    "print(np.asfarray(a))"
   ]
  },
  {
   "cell_type": "markdown",
   "id": "8dd9a056",
   "metadata": {},
   "source": [
    "7. Write a NumPy program to create a 2d array with 1 on the border and 0 inside. \n",
    "\n",
    "Expected Output:\n",
    "Original array:\n",
    "\n",
    "[[ 1. 1. 1. 1. 1.]\n",
    "...................\n",
    "[ 1. 1. 1. 1. 1.]]\n",
    "\n",
    "1 on the border and 0 inside in the array\n",
    "\n",
    "[[ 1. 1. 1. 1. 1.]\n",
    "...................\n",
    "[ 1. 1. 1. 1. 1.]]\n"
   ]
  },
  {
   "cell_type": "code",
   "execution_count": 25,
   "id": "ba271cbe",
   "metadata": {},
   "outputs": [],
   "source": [
    "a = np.ones((5,5))"
   ]
  },
  {
   "cell_type": "code",
   "execution_count": 26,
   "id": "1b011f99",
   "metadata": {},
   "outputs": [
    {
     "name": "stdout",
     "output_type": "stream",
     "text": [
      "[[1. 1. 1. 1. 1.]\n",
      " [1. 1. 1. 1. 1.]\n",
      " [1. 1. 1. 1. 1.]\n",
      " [1. 1. 1. 1. 1.]\n",
      " [1. 1. 1. 1. 1.]]\n"
     ]
    }
   ],
   "source": [
    "print(a)"
   ]
  },
  {
   "cell_type": "code",
   "execution_count": 30,
   "id": "c48219d5",
   "metadata": {},
   "outputs": [],
   "source": [
    "a[1:-1,1:-1] = 0"
   ]
  },
  {
   "cell_type": "code",
   "execution_count": 31,
   "id": "511cf2f6",
   "metadata": {},
   "outputs": [
    {
     "name": "stdout",
     "output_type": "stream",
     "text": [
      "[[1. 1. 1. 1. 1.]\n",
      " [1. 0. 0. 0. 1.]\n",
      " [1. 0. 0. 0. 1.]\n",
      " [1. 0. 0. 0. 1.]\n",
      " [1. 1. 1. 1. 1.]]\n"
     ]
    }
   ],
   "source": [
    "print(a)"
   ]
  },
  {
   "cell_type": "markdown",
   "id": "43e17e84",
   "metadata": {},
   "source": [
    "8. Write a NumPy program to add a border (filled with 0's) around an existing array.  \n",
    "Expected Output:\n",
    "\n",
    "Original array:\n",
    "\n",
    "[[ 1. 1. 1.]\n",
    "[ 1. 1. 1.]\n",
    "[ 1. 1. 1.]]\n",
    "\n",
    "1 on the border and 0 inside in the array\n",
    "\n",
    "[[ 0. 0. 0. 0. 0.]\n",
    "...........\n",
    "[ 0. 0. 0. 0. 0.]]"
   ]
  },
  {
   "cell_type": "code",
   "execution_count": 85,
   "id": "e491df1a",
   "metadata": {},
   "outputs": [],
   "source": [
    "a = np.zeros((5,5))"
   ]
  },
  {
   "cell_type": "code",
   "execution_count": 86,
   "id": "3616fe98",
   "metadata": {},
   "outputs": [
    {
     "name": "stdout",
     "output_type": "stream",
     "text": [
      "[[0. 0. 0. 0. 0.]\n",
      " [0. 0. 0. 0. 0.]\n",
      " [0. 0. 0. 0. 0.]\n",
      " [0. 0. 0. 0. 0.]\n",
      " [0. 0. 0. 0. 0.]]\n"
     ]
    }
   ],
   "source": [
    "print(a)"
   ]
  },
  {
   "cell_type": "code",
   "execution_count": 89,
   "id": "b758b90a",
   "metadata": {},
   "outputs": [],
   "source": [
    "a[1:-1,1:-1] = 1"
   ]
  },
  {
   "cell_type": "code",
   "execution_count": 90,
   "id": "9a708715",
   "metadata": {},
   "outputs": [
    {
     "name": "stdout",
     "output_type": "stream",
     "text": [
      "[[0. 0. 0. 0. 0.]\n",
      " [0. 1. 1. 1. 0.]\n",
      " [0. 1. 1. 1. 0.]\n",
      " [0. 1. 1. 1. 0.]\n",
      " [0. 0. 0. 0. 0.]]\n"
     ]
    }
   ],
   "source": [
    "print(a)"
   ]
  },
  {
   "cell_type": "markdown",
   "id": "ed6ba04a",
   "metadata": {},
   "source": [
    "9. Write a NumPy program to create a 8x8 matrix and fill it with a checkerboard pattern.  \n",
    "Checkerboard pattern:\n",
    "Checkerboard pattern:\n",
    "\n",
    "[[0 1 0 1 0 1 0 1]\n",
    "\n",
    " [1 0 1 0 1 0 1 0]\n",
    " \n",
    " [0 1 0 1 0 1 0 1]\n",
    " \n",
    " [1 0 1 0 1 0 1 0]\n",
    " \n",
    " [0 1 0 1 0 1 0 1]\n",
    " \n",
    " [1 0 1 0 1 0 1 0]\n",
    " \n",
    " [0 1 0 1 0 1 0 1]\n",
    " \n",
    " [1 0 1 0 1 0 1 0]]\n"
   ]
  },
  {
   "cell_type": "code",
   "execution_count": 93,
   "id": "28dbd411",
   "metadata": {},
   "outputs": [],
   "source": [
    "a = np.ones((8,8))"
   ]
  },
  {
   "cell_type": "code",
   "execution_count": 94,
   "id": "e7a68f00",
   "metadata": {},
   "outputs": [
    {
     "name": "stdout",
     "output_type": "stream",
     "text": [
      "[[1. 1. 1. 1. 1. 1. 1. 1.]\n",
      " [1. 1. 1. 1. 1. 1. 1. 1.]\n",
      " [1. 1. 1. 1. 1. 1. 1. 1.]\n",
      " [1. 1. 1. 1. 1. 1. 1. 1.]\n",
      " [1. 1. 1. 1. 1. 1. 1. 1.]\n",
      " [1. 1. 1. 1. 1. 1. 1. 1.]\n",
      " [1. 1. 1. 1. 1. 1. 1. 1.]\n",
      " [1. 1. 1. 1. 1. 1. 1. 1.]]\n"
     ]
    }
   ],
   "source": [
    "print(a)"
   ]
  },
  {
   "cell_type": "code",
   "execution_count": 113,
   "id": "2342ceca",
   "metadata": {},
   "outputs": [],
   "source": [
    "a[1::2,::2] = 0\n",
    "a[::2,1::2] = 0"
   ]
  },
  {
   "cell_type": "code",
   "execution_count": 114,
   "id": "a36cbaad",
   "metadata": {},
   "outputs": [
    {
     "name": "stdout",
     "output_type": "stream",
     "text": [
      "[[1. 0. 1. 0. 1. 0. 1. 0.]\n",
      " [0. 1. 0. 1. 0. 1. 0. 1.]\n",
      " [1. 0. 1. 0. 1. 0. 1. 0.]\n",
      " [0. 1. 0. 1. 0. 1. 0. 1.]\n",
      " [1. 0. 1. 0. 1. 0. 1. 0.]\n",
      " [0. 1. 0. 1. 0. 1. 0. 1.]\n",
      " [1. 0. 1. 0. 1. 0. 1. 0.]\n",
      " [0. 0. 0. 0. 0. 0. 0. 0.]]\n"
     ]
    }
   ],
   "source": [
    "print(a)"
   ]
  },
  {
   "cell_type": "markdown",
   "id": "95dbf40c",
   "metadata": {},
   "source": [
    "10. Write a NumPy program to convert a list and tuple into arrays. \n",
    " \n",
    " List to array:\n",
    " \n",
    "[1 2 3 4 5 6 7 8]\n",
    "\n",
    "Tuple to array:\n",
    "\n",
    "[[8 4 6]\n",
    "\n",
    "[1 2 3]]\n"
   ]
  },
  {
   "cell_type": "code",
   "execution_count": 128,
   "id": "9f2f7ac9",
   "metadata": {},
   "outputs": [],
   "source": [
    "a = np.array([1,2,3,4,5,6,7,8])"
   ]
  },
  {
   "cell_type": "code",
   "execution_count": 129,
   "id": "6929daaf",
   "metadata": {},
   "outputs": [
    {
     "name": "stdout",
     "output_type": "stream",
     "text": [
      "[1 2 3 4 5 6 7 8]\n"
     ]
    }
   ],
   "source": [
    "print(a)"
   ]
  },
  {
   "cell_type": "code",
   "execution_count": 133,
   "id": "cca6e8c0",
   "metadata": {},
   "outputs": [],
   "source": [
    "b = np.array(([8,4,6],[1,2,3]))"
   ]
  },
  {
   "cell_type": "code",
   "execution_count": 134,
   "id": "b7012e0b",
   "metadata": {},
   "outputs": [
    {
     "name": "stdout",
     "output_type": "stream",
     "text": [
      "[[8 4 6]\n",
      " [1 2 3]]\n"
     ]
    }
   ],
   "source": [
    "print(b)"
   ]
  },
  {
   "cell_type": "markdown",
   "id": "3655358a",
   "metadata": {},
   "source": [
    "11. Write a NumPy program to append values to the end of an array.  \n",
    "\n",
    "Expected Output:\n",
    "\n",
    "Original array:\n",
    "\n",
    "[10, 20, 30]\n",
    "\n",
    "After append values to the end of the array:\n",
    "\n",
    "[10 20 30 40 50 60 70 80 90]"
   ]
  },
  {
   "cell_type": "code",
   "execution_count": 188,
   "id": "378eaae5",
   "metadata": {},
   "outputs": [],
   "source": [
    "a = np.array([10,20,30])"
   ]
  },
  {
   "cell_type": "code",
   "execution_count": 189,
   "id": "38847dd5",
   "metadata": {
    "scrolled": false
   },
   "outputs": [],
   "source": [
    "a_append = np.append(a,[[40,50,60],[70,80,90]])"
   ]
  },
  {
   "cell_type": "code",
   "execution_count": 190,
   "id": "e3459c67",
   "metadata": {},
   "outputs": [
    {
     "name": "stdout",
     "output_type": "stream",
     "text": [
      "[10 20 30 40 50 60 70 80 90]\n"
     ]
    }
   ],
   "source": [
    "print(a_append)"
   ]
  },
  {
   "cell_type": "markdown",
   "id": "4045c61a",
   "metadata": {},
   "source": [
    "12. Write a NumPy program to create an empty and a full array. \n",
    "\n",
    " Expected Output:\n",
    " \n",
    "[ 6.93270651e-310 1.59262180e-316 6.93270559e-310 6.93270665e-310]\n",
    "\n",
    "[ 6.93270667e-310 6.93270671e-310 6.93270668e-310 6.93270483e-310]\n",
    "\n",
    "[ 6.93270668e-310 6.93270671e-310 6.93270370e-310 6.93270488e-310]]\n",
    "\n",
    "[[6 6 6]\n",
    "\n",
    "[6 6 6]\n",
    "\n",
    "[6 6 6]]"
   ]
  },
  {
   "cell_type": "code",
   "execution_count": 192,
   "id": "361dcbbb",
   "metadata": {},
   "outputs": [],
   "source": [
    "a = np.empty((3,4))"
   ]
  },
  {
   "cell_type": "code",
   "execution_count": 193,
   "id": "19b7a4e0",
   "metadata": {},
   "outputs": [
    {
     "name": "stdout",
     "output_type": "stream",
     "text": [
      "[[ 0.    4.    3.46  2.  ]\n",
      " [ 2.18 -3.   -2.18 -3.  ]\n",
      " [-3.46  2.    0.    4.  ]]\n"
     ]
    }
   ],
   "source": [
    "print(a)"
   ]
  },
  {
   "cell_type": "code",
   "execution_count": 194,
   "id": "ecd4a31a",
   "metadata": {},
   "outputs": [],
   "source": [
    "b = np.full((3,3),6)"
   ]
  },
  {
   "cell_type": "code",
   "execution_count": 195,
   "id": "cb03f96d",
   "metadata": {},
   "outputs": [
    {
     "name": "stdout",
     "output_type": "stream",
     "text": [
      "[[6 6 6]\n",
      " [6 6 6]\n",
      " [6 6 6]]\n"
     ]
    }
   ],
   "source": [
    "print(b)"
   ]
  },
  {
   "cell_type": "markdown",
   "id": "946527f7",
   "metadata": {},
   "source": [
    "13. Write a NumPy program to convert the values of Centigrade degrees into Fahrenheit degrees. Centigrade values are stored into a NumPy array.\n",
    "\n",
    "Sample Array [0, 12, 45.21 ,34, 99.91]\n",
    "\n",
    "Expected Output:\n",
    "\n",
    "Values in Fahrenheit degrees:\n",
    "\n",
    "[ 0. 12. 45.21 34. 99.91]\n",
    "\n",
    "Values in Centigrade degrees:\n",
    "\n",
    "[-17.77777778 -11.11111111 7.33888889 1.11111111 37.72777778]"
   ]
  },
  {
   "cell_type": "code",
   "execution_count": 19,
   "id": "18ea0b6f",
   "metadata": {},
   "outputs": [],
   "source": [
    "a = np.array([0, 12, 45.21 ,34, 99.91])"
   ]
  },
  {
   "cell_type": "code",
   "execution_count": 23,
   "id": "132308ce",
   "metadata": {},
   "outputs": [
    {
     "name": "stdout",
     "output_type": "stream",
     "text": [
      "[-17.77777778 -11.11111111   7.33888889   1.11111111  37.72777778]\n"
     ]
    }
   ],
   "source": [
    "print(5*a/9 - 5*32/9)"
   ]
  },
  {
   "cell_type": "markdown",
   "id": "262e551c",
   "metadata": {},
   "source": [
    "14. Write a NumPy program to find the real and imaginary parts of an array of complex numbers.  \n",
    "\n",
    "Expected Output:\n",
    "\n",
    "Original array [ 1.00000000+0.j 0.70710678+0.70710678j]\n",
    "\n",
    "Real part of the array:\n",
    "\n",
    "[ 1. 0.70710678]\n",
    "\n",
    "Imaginary part of the array:\n",
    "\n",
    "[ 0. 0.70710678]"
   ]
  },
  {
   "cell_type": "code",
   "execution_count": 24,
   "id": "088bd955",
   "metadata": {},
   "outputs": [],
   "source": [
    "a = np.sqrt([1+0j])\n",
    "b = np.sqrt([0+1j])"
   ]
  },
  {
   "cell_type": "code",
   "execution_count": 32,
   "id": "a4f65576",
   "metadata": {},
   "outputs": [
    {
     "name": "stdout",
     "output_type": "stream",
     "text": [
      "[1.]\n"
     ]
    }
   ],
   "source": [
    "print(a.real)"
   ]
  },
  {
   "cell_type": "code",
   "execution_count": 33,
   "id": "61e7bfa3",
   "metadata": {},
   "outputs": [
    {
     "name": "stdout",
     "output_type": "stream",
     "text": [
      "[0.70710678]\n"
     ]
    }
   ],
   "source": [
    "print(b.real)"
   ]
  },
  {
   "cell_type": "code",
   "execution_count": 34,
   "id": "ddf6bc17",
   "metadata": {},
   "outputs": [
    {
     "name": "stdout",
     "output_type": "stream",
     "text": [
      "[0.]\n"
     ]
    }
   ],
   "source": [
    "print(a.imag)"
   ]
  },
  {
   "cell_type": "code",
   "execution_count": 35,
   "id": "39494bcd",
   "metadata": {},
   "outputs": [
    {
     "name": "stdout",
     "output_type": "stream",
     "text": [
      "[0.70710678]\n"
     ]
    }
   ],
   "source": [
    "print(b.imag)"
   ]
  },
  {
   "cell_type": "code",
   "execution_count": null,
   "id": "24e6f957",
   "metadata": {},
   "outputs": [],
   "source": []
  }
 ],
 "metadata": {
  "kernelspec": {
   "display_name": "Python 3 (ipykernel)",
   "language": "python",
   "name": "python3"
  },
  "language_info": {
   "codemirror_mode": {
    "name": "ipython",
    "version": 3
   },
   "file_extension": ".py",
   "mimetype": "text/x-python",
   "name": "python",
   "nbconvert_exporter": "python",
   "pygments_lexer": "ipython3",
   "version": "3.11.5"
  }
 },
 "nbformat": 4,
 "nbformat_minor": 5
}
