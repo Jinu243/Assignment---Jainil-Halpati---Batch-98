{
 "cells": [
  {
   "cell_type": "markdown",
   "id": "c612be66",
   "metadata": {},
   "source": [
    "1.Write a NumPy program to get the numpy version and show numpy build configuration."
   ]
  },
  {
   "cell_type": "code",
   "execution_count": 2,
   "id": "7dbaee73",
   "metadata": {},
   "outputs": [],
   "source": [
    "import numpy as np"
   ]
  },
  {
   "cell_type": "code",
   "execution_count": 3,
   "id": "d72c9a79",
   "metadata": {},
   "outputs": [
    {
     "data": {
      "text/plain": [
       "'1.24.3'"
      ]
     },
     "execution_count": 3,
     "metadata": {},
     "output_type": "execute_result"
    }
   ],
   "source": [
    "np.__version__"
   ]
  },
  {
   "cell_type": "code",
   "execution_count": 4,
   "id": "ff4001bb",
   "metadata": {},
   "outputs": [
    {
     "name": "stdout",
     "output_type": "stream",
     "text": [
      "blas_armpl_info:\n",
      "  NOT AVAILABLE\n",
      "blas_mkl_info:\n",
      "    libraries = ['mkl_rt']\n",
      "    library_dirs = ['C:/Users/USER/anaconda3\\\\Library\\\\lib']\n",
      "    define_macros = [('SCIPY_MKL_H', None), ('HAVE_CBLAS', None)]\n",
      "    include_dirs = ['C:/Users/USER/anaconda3\\\\Library\\\\include']\n",
      "blas_opt_info:\n",
      "    libraries = ['mkl_rt']\n",
      "    library_dirs = ['C:/Users/USER/anaconda3\\\\Library\\\\lib']\n",
      "    define_macros = [('SCIPY_MKL_H', None), ('HAVE_CBLAS', None)]\n",
      "    include_dirs = ['C:/Users/USER/anaconda3\\\\Library\\\\include']\n",
      "lapack_armpl_info:\n",
      "  NOT AVAILABLE\n",
      "lapack_mkl_info:\n",
      "    libraries = ['mkl_rt']\n",
      "    library_dirs = ['C:/Users/USER/anaconda3\\\\Library\\\\lib']\n",
      "    define_macros = [('SCIPY_MKL_H', None), ('HAVE_CBLAS', None)]\n",
      "    include_dirs = ['C:/Users/USER/anaconda3\\\\Library\\\\include']\n",
      "lapack_opt_info:\n",
      "    libraries = ['mkl_rt']\n",
      "    library_dirs = ['C:/Users/USER/anaconda3\\\\Library\\\\lib']\n",
      "    define_macros = [('SCIPY_MKL_H', None), ('HAVE_CBLAS', None)]\n",
      "    include_dirs = ['C:/Users/USER/anaconda3\\\\Library\\\\include']\n",
      "Supported SIMD extensions in this NumPy install:\n",
      "    baseline = SSE,SSE2,SSE3\n",
      "    found = SSSE3,SSE41,POPCNT,SSE42,AVX,F16C,FMA3,AVX2\n",
      "    not found = AVX512F,AVX512CD,AVX512_SKX,AVX512_CLX,AVX512_CNL,AVX512_ICL\n"
     ]
    }
   ],
   "source": [
    "np.show_config()"
   ]
  },
  {
   "cell_type": "markdown",
   "id": "b9dd41b7",
   "metadata": {},
   "source": [
    "2. Write a NumPy program to  get help on the add function."
   ]
  },
  {
   "cell_type": "code",
   "execution_count": 5,
   "id": "a488104f",
   "metadata": {},
   "outputs": [
    {
     "name": "stdout",
     "output_type": "stream",
     "text": [
      "add(x1, x2, /, out=None, *, where=True, casting='same_kind', order='K', dtype=None, subok=True[, signature, extobj])\n",
      "\n",
      "Add arguments element-wise.\n",
      "\n",
      "Parameters\n",
      "----------\n",
      "x1, x2 : array_like\n",
      "    The arrays to be added.\n",
      "    If ``x1.shape != x2.shape``, they must be broadcastable to a common\n",
      "    shape (which becomes the shape of the output).\n",
      "out : ndarray, None, or tuple of ndarray and None, optional\n",
      "    A location into which the result is stored. If provided, it must have\n",
      "    a shape that the inputs broadcast to. If not provided or None,\n",
      "    a freshly-allocated array is returned. A tuple (possible only as a\n",
      "    keyword argument) must have length equal to the number of outputs.\n",
      "where : array_like, optional\n",
      "    This condition is broadcast over the input. At locations where the\n",
      "    condition is True, the `out` array will be set to the ufunc result.\n",
      "    Elsewhere, the `out` array will retain its original value.\n",
      "    Note that if an uninitialized `out` array is created via the default\n",
      "    ``out=None``, locations within it where the condition is False will\n",
      "    remain uninitialized.\n",
      "**kwargs\n",
      "    For other keyword-only arguments, see the\n",
      "    :ref:`ufunc docs <ufuncs.kwargs>`.\n",
      "\n",
      "Returns\n",
      "-------\n",
      "add : ndarray or scalar\n",
      "    The sum of `x1` and `x2`, element-wise.\n",
      "    This is a scalar if both `x1` and `x2` are scalars.\n",
      "\n",
      "Notes\n",
      "-----\n",
      "Equivalent to `x1` + `x2` in terms of array broadcasting.\n",
      "\n",
      "Examples\n",
      "--------\n",
      ">>> np.add(1.0, 4.0)\n",
      "5.0\n",
      ">>> x1 = np.arange(9.0).reshape((3, 3))\n",
      ">>> x2 = np.arange(3.0)\n",
      ">>> np.add(x1, x2)\n",
      "array([[  0.,   2.,   4.],\n",
      "       [  3.,   5.,   7.],\n",
      "       [  6.,   8.,  10.]])\n",
      "\n",
      "The ``+`` operator can be used as a shorthand for ``np.add`` on ndarrays.\n",
      "\n",
      ">>> x1 = np.arange(9.0).reshape((3, 3))\n",
      ">>> x2 = np.arange(3.0)\n",
      ">>> x1 + x2\n",
      "array([[ 0.,  2.,  4.],\n",
      "       [ 3.,  5.,  7.],\n",
      "       [ 6.,  8., 10.]])\n"
     ]
    }
   ],
   "source": [
    "np.info(np.add)"
   ]
  },
  {
   "cell_type": "markdown",
   "id": "f504618b",
   "metadata": {},
   "source": [
    "3. Write a NumPy program to test whether none of the elements of a given array is zero."
   ]
  },
  {
   "cell_type": "code",
   "execution_count": 6,
   "id": "e99d17e7",
   "metadata": {},
   "outputs": [],
   "source": [
    "n = np.array([1,2,3,4])\n"
   ]
  },
  {
   "cell_type": "code",
   "execution_count": 7,
   "id": "59dcba16",
   "metadata": {},
   "outputs": [
    {
     "data": {
      "text/plain": [
       "array([1, 2, 3, 4])"
      ]
     },
     "execution_count": 7,
     "metadata": {},
     "output_type": "execute_result"
    }
   ],
   "source": [
    "n"
   ]
  },
  {
   "cell_type": "code",
   "execution_count": 8,
   "id": "cd7161a2",
   "metadata": {},
   "outputs": [
    {
     "data": {
      "text/plain": [
       "True"
      ]
     },
     "execution_count": 8,
     "metadata": {},
     "output_type": "execute_result"
    }
   ],
   "source": [
    "np.all(n)"
   ]
  },
  {
   "cell_type": "code",
   "execution_count": 9,
   "id": "2cf2d2ff",
   "metadata": {},
   "outputs": [],
   "source": [
    "n = np.array([0,1,2,3])"
   ]
  },
  {
   "cell_type": "code",
   "execution_count": 10,
   "id": "4414cdd1",
   "metadata": {},
   "outputs": [
    {
     "data": {
      "text/plain": [
       "array([0, 1, 2, 3])"
      ]
     },
     "execution_count": 10,
     "metadata": {},
     "output_type": "execute_result"
    }
   ],
   "source": [
    "n"
   ]
  },
  {
   "cell_type": "code",
   "execution_count": 11,
   "id": "fa43dede",
   "metadata": {},
   "outputs": [
    {
     "data": {
      "text/plain": [
       "False"
      ]
     },
     "execution_count": 11,
     "metadata": {},
     "output_type": "execute_result"
    }
   ],
   "source": [
    "np.all(n)"
   ]
  },
  {
   "cell_type": "markdown",
   "id": "90d55ab8",
   "metadata": {},
   "source": [
    "4. Write a NumPy program to test whether any of the elements of a given array is non-zero."
   ]
  },
  {
   "cell_type": "code",
   "execution_count": 12,
   "id": "75284cdb",
   "metadata": {},
   "outputs": [],
   "source": [
    "n = np.array([1,0,0,0])"
   ]
  },
  {
   "cell_type": "code",
   "execution_count": 13,
   "id": "21990ebb",
   "metadata": {},
   "outputs": [
    {
     "data": {
      "text/plain": [
       "array([1, 0, 0, 0])"
      ]
     },
     "execution_count": 13,
     "metadata": {},
     "output_type": "execute_result"
    }
   ],
   "source": [
    "n"
   ]
  },
  {
   "cell_type": "code",
   "execution_count": 14,
   "id": "b70290fb",
   "metadata": {},
   "outputs": [
    {
     "data": {
      "text/plain": [
       "True"
      ]
     },
     "execution_count": 14,
     "metadata": {},
     "output_type": "execute_result"
    }
   ],
   "source": [
    "np.any(n)"
   ]
  },
  {
   "cell_type": "code",
   "execution_count": 15,
   "id": "f0b83a52",
   "metadata": {},
   "outputs": [],
   "source": [
    "n = np.array([0,0,0,0])"
   ]
  },
  {
   "cell_type": "code",
   "execution_count": 16,
   "id": "a9a9ce97",
   "metadata": {},
   "outputs": [
    {
     "data": {
      "text/plain": [
       "array([0, 0, 0, 0])"
      ]
     },
     "execution_count": 16,
     "metadata": {},
     "output_type": "execute_result"
    }
   ],
   "source": [
    "n"
   ]
  },
  {
   "cell_type": "code",
   "execution_count": 17,
   "id": "9c55ceab",
   "metadata": {},
   "outputs": [
    {
     "data": {
      "text/plain": [
       "False"
      ]
     },
     "execution_count": 17,
     "metadata": {},
     "output_type": "execute_result"
    }
   ],
   "source": [
    "np.any(n)"
   ]
  },
  {
   "cell_type": "markdown",
   "id": "96e3910c",
   "metadata": {},
   "source": [
    "5. Write a NumPy program to test a given array element-wise for finiteness (not infinity or not a Number)."
   ]
  },
  {
   "cell_type": "code",
   "execution_count": 18,
   "id": "3b8f83e5",
   "metadata": {},
   "outputs": [],
   "source": [
    "n = np.array([0,1,np.nan,np.inf])"
   ]
  },
  {
   "cell_type": "code",
   "execution_count": 19,
   "id": "e68677f5",
   "metadata": {},
   "outputs": [
    {
     "data": {
      "text/plain": [
       "array([ 0.,  1., nan, inf])"
      ]
     },
     "execution_count": 19,
     "metadata": {},
     "output_type": "execute_result"
    }
   ],
   "source": [
    "n"
   ]
  },
  {
   "cell_type": "code",
   "execution_count": 20,
   "id": "1e4617f9",
   "metadata": {},
   "outputs": [
    {
     "data": {
      "text/plain": [
       "array([ True,  True, False, False])"
      ]
     },
     "execution_count": 20,
     "metadata": {},
     "output_type": "execute_result"
    }
   ],
   "source": [
    "np.isfinite(n)"
   ]
  },
  {
   "cell_type": "markdown",
   "id": "3bad91e2",
   "metadata": {},
   "source": [
    "6. Write a NumPy program to test element-wise for positive or negative infinity."
   ]
  },
  {
   "cell_type": "code",
   "execution_count": 21,
   "id": "d5ac6d1c",
   "metadata": {},
   "outputs": [],
   "source": [
    "n = np.array([0,1,np.nan,np.inf])"
   ]
  },
  {
   "cell_type": "code",
   "execution_count": 22,
   "id": "e2b798a4",
   "metadata": {},
   "outputs": [
    {
     "data": {
      "text/plain": [
       "array([ 0.,  1., nan, inf])"
      ]
     },
     "execution_count": 22,
     "metadata": {},
     "output_type": "execute_result"
    }
   ],
   "source": [
    "n"
   ]
  },
  {
   "cell_type": "code",
   "execution_count": 23,
   "id": "8789476d",
   "metadata": {},
   "outputs": [
    {
     "data": {
      "text/plain": [
       "array([False, False, False,  True])"
      ]
     },
     "execution_count": 23,
     "metadata": {},
     "output_type": "execute_result"
    }
   ],
   "source": [
    "np.isinf(n)"
   ]
  },
  {
   "cell_type": "markdown",
   "id": "9921a5be",
   "metadata": {},
   "source": [
    "7. Write a NumPy program to test element-wise for NaN of a given array."
   ]
  },
  {
   "cell_type": "code",
   "execution_count": 24,
   "id": "68f816a5",
   "metadata": {},
   "outputs": [],
   "source": [
    "n = np.array([0,1,np.nan,np.inf])"
   ]
  },
  {
   "cell_type": "code",
   "execution_count": 25,
   "id": "cd11bff0",
   "metadata": {},
   "outputs": [
    {
     "data": {
      "text/plain": [
       "array([ 0.,  1., nan, inf])"
      ]
     },
     "execution_count": 25,
     "metadata": {},
     "output_type": "execute_result"
    }
   ],
   "source": [
    "n"
   ]
  },
  {
   "cell_type": "code",
   "execution_count": 26,
   "id": "5914dd5f",
   "metadata": {},
   "outputs": [
    {
     "data": {
      "text/plain": [
       "array([False, False,  True, False])"
      ]
     },
     "execution_count": 26,
     "metadata": {},
     "output_type": "execute_result"
    }
   ],
   "source": [
    "np.isnan(n)"
   ]
  },
  {
   "cell_type": "markdown",
   "id": "e0db99f9",
   "metadata": {},
   "source": [
    "8. Write a NumPy program to test element-wise for complex number, real number of a given array. Also test whether a given number is a scalar type or not."
   ]
  },
  {
   "cell_type": "code",
   "execution_count": 27,
   "id": "8037f6ed",
   "metadata": {},
   "outputs": [],
   "source": [
    "a = np.array([1+1j, 1+0j, 4.5, 3, 2, 2j])       "
   ]
  },
  {
   "cell_type": "code",
   "execution_count": 28,
   "id": "71cacea0",
   "metadata": {},
   "outputs": [
    {
     "data": {
      "text/plain": [
       "array([1. +1.j, 1. +0.j, 4.5+0.j, 3. +0.j, 2. +0.j, 0. +2.j])"
      ]
     },
     "execution_count": 28,
     "metadata": {},
     "output_type": "execute_result"
    }
   ],
   "source": [
    "a"
   ]
  },
  {
   "cell_type": "code",
   "execution_count": 29,
   "id": "0ba6a4c9",
   "metadata": {},
   "outputs": [
    {
     "data": {
      "text/plain": [
       "array([ True, False, False, False, False,  True])"
      ]
     },
     "execution_count": 29,
     "metadata": {},
     "output_type": "execute_result"
    }
   ],
   "source": [
    "np.iscomplex(a)"
   ]
  },
  {
   "cell_type": "code",
   "execution_count": 30,
   "id": "72333a46",
   "metadata": {},
   "outputs": [
    {
     "data": {
      "text/plain": [
       "array([False,  True,  True,  True,  True, False])"
      ]
     },
     "execution_count": 30,
     "metadata": {},
     "output_type": "execute_result"
    }
   ],
   "source": [
    "np.isreal(a)"
   ]
  },
  {
   "cell_type": "code",
   "execution_count": 31,
   "id": "8d15afcd",
   "metadata": {},
   "outputs": [
    {
     "data": {
      "text/plain": [
       "True"
      ]
     },
     "execution_count": 31,
     "metadata": {},
     "output_type": "execute_result"
    }
   ],
   "source": [
    "np.isscalar(3.1)"
   ]
  },
  {
   "cell_type": "code",
   "execution_count": 32,
   "id": "bf6f67e8",
   "metadata": {},
   "outputs": [
    {
     "data": {
      "text/plain": [
       "False"
      ]
     },
     "execution_count": 32,
     "metadata": {},
     "output_type": "execute_result"
    }
   ],
   "source": [
    "np.isscalar([3.1])"
   ]
  },
  {
   "cell_type": "markdown",
   "id": "701dd11e",
   "metadata": {},
   "source": [
    "9. Write a NumPy program to create an element-wise comparison (greater, greater_equal, less and less_equal) of two given arrays."
   ]
  },
  {
   "cell_type": "code",
   "execution_count": 33,
   "id": "b0766b8f",
   "metadata": {},
   "outputs": [],
   "source": [
    "x = np.array([3, 5])\n",
    "y = np.array([2, 5])"
   ]
  },
  {
   "cell_type": "code",
   "execution_count": 34,
   "id": "01f4427d",
   "metadata": {},
   "outputs": [
    {
     "data": {
      "text/plain": [
       "array([3, 5])"
      ]
     },
     "execution_count": 34,
     "metadata": {},
     "output_type": "execute_result"
    }
   ],
   "source": [
    "x"
   ]
  },
  {
   "cell_type": "code",
   "execution_count": 35,
   "id": "8a6dc9db",
   "metadata": {},
   "outputs": [
    {
     "data": {
      "text/plain": [
       "array([2, 5])"
      ]
     },
     "execution_count": 35,
     "metadata": {},
     "output_type": "execute_result"
    }
   ],
   "source": [
    "y"
   ]
  },
  {
   "cell_type": "code",
   "execution_count": 36,
   "id": "ca1776ea",
   "metadata": {},
   "outputs": [
    {
     "data": {
      "text/plain": [
       "array([ True, False])"
      ]
     },
     "execution_count": 36,
     "metadata": {},
     "output_type": "execute_result"
    }
   ],
   "source": [
    "np.greater(x,y)"
   ]
  },
  {
   "cell_type": "code",
   "execution_count": 37,
   "id": "174c3c78",
   "metadata": {},
   "outputs": [
    {
     "data": {
      "text/plain": [
       "array([ True,  True])"
      ]
     },
     "execution_count": 37,
     "metadata": {},
     "output_type": "execute_result"
    }
   ],
   "source": [
    "np.greater_equal(x,y)"
   ]
  },
  {
   "cell_type": "code",
   "execution_count": 38,
   "id": "6a08495b",
   "metadata": {},
   "outputs": [
    {
     "data": {
      "text/plain": [
       "array([False, False])"
      ]
     },
     "execution_count": 38,
     "metadata": {},
     "output_type": "execute_result"
    }
   ],
   "source": [
    "np.less(x,y)"
   ]
  },
  {
   "cell_type": "code",
   "execution_count": 39,
   "id": "b2965152",
   "metadata": {},
   "outputs": [
    {
     "data": {
      "text/plain": [
       "array([False,  True])"
      ]
     },
     "execution_count": 39,
     "metadata": {},
     "output_type": "execute_result"
    }
   ],
   "source": [
    "np.less_equal(x,y)"
   ]
  },
  {
   "cell_type": "markdown",
   "id": "4013695f",
   "metadata": {},
   "source": [
    "10. Write a NumPy program to create an element-wise comparison (equal, equal within a tolerance) of two given arrays."
   ]
  },
  {
   "cell_type": "code",
   "execution_count": 40,
   "id": "129203a1",
   "metadata": {},
   "outputs": [],
   "source": [
    "x = np.array([72, 79, 85, 90, 150, -135, 120, -10, 60, 100])\n",
    "y = np.array([72, 79, 85, 90, 150, -135, 120, -10, 60, 100.000001])\n"
   ]
  },
  {
   "cell_type": "code",
   "execution_count": 41,
   "id": "865158c1",
   "metadata": {},
   "outputs": [
    {
     "data": {
      "text/plain": [
       "array([  72,   79,   85,   90,  150, -135,  120,  -10,   60,  100])"
      ]
     },
     "execution_count": 41,
     "metadata": {},
     "output_type": "execute_result"
    }
   ],
   "source": [
    "x"
   ]
  },
  {
   "cell_type": "code",
   "execution_count": 42,
   "id": "9934c1f6",
   "metadata": {},
   "outputs": [
    {
     "data": {
      "text/plain": [
       "array([  72.      ,   79.      ,   85.      ,   90.      ,  150.      ,\n",
       "       -135.      ,  120.      ,  -10.      ,   60.      ,  100.000001])"
      ]
     },
     "execution_count": 42,
     "metadata": {},
     "output_type": "execute_result"
    }
   ],
   "source": [
    "y"
   ]
  },
  {
   "cell_type": "code",
   "execution_count": 43,
   "id": "274e0b95",
   "metadata": {},
   "outputs": [
    {
     "data": {
      "text/plain": [
       "array([ True,  True,  True,  True,  True,  True,  True,  True,  True,\n",
       "       False])"
      ]
     },
     "execution_count": 43,
     "metadata": {},
     "output_type": "execute_result"
    }
   ],
   "source": [
    "np.equal(x,y)"
   ]
  },
  {
   "cell_type": "code",
   "execution_count": 44,
   "id": "68618c9e",
   "metadata": {},
   "outputs": [
    {
     "data": {
      "text/plain": [
       "True"
      ]
     },
     "execution_count": 44,
     "metadata": {},
     "output_type": "execute_result"
    }
   ],
   "source": [
    "np.allclose(x,y)"
   ]
  },
  {
   "cell_type": "markdown",
   "id": "de05960a",
   "metadata": {},
   "source": [
    "11. Write a NumPy program to create an array with the values 1, 7, 13, 105 and determine the size of the memory occupied by the array."
   ]
  },
  {
   "cell_type": "code",
   "execution_count": 45,
   "id": "0f31c8fc",
   "metadata": {},
   "outputs": [],
   "source": [
    "a = np.array([1,7,13,105])"
   ]
  },
  {
   "cell_type": "code",
   "execution_count": 46,
   "id": "570adfcf",
   "metadata": {},
   "outputs": [
    {
     "data": {
      "text/plain": [
       "array([  1,   7,  13, 105])"
      ]
     },
     "execution_count": 46,
     "metadata": {},
     "output_type": "execute_result"
    }
   ],
   "source": [
    "a"
   ]
  },
  {
   "cell_type": "code",
   "execution_count": 47,
   "id": "b188b7d4",
   "metadata": {},
   "outputs": [
    {
     "data": {
      "text/plain": [
       "16"
      ]
     },
     "execution_count": 47,
     "metadata": {},
     "output_type": "execute_result"
    }
   ],
   "source": [
    "(a.size *a.itemsize) "
   ]
  },
  {
   "cell_type": "markdown",
   "id": "2fc3a8a9",
   "metadata": {},
   "source": [
    "12. Write a NumPy program to create an array of 10 zeros,10 ones, 10 fives."
   ]
  },
  {
   "cell_type": "code",
   "execution_count": 48,
   "id": "bda0c331",
   "metadata": {},
   "outputs": [],
   "source": [
    "array = np.zeros(10)"
   ]
  },
  {
   "cell_type": "code",
   "execution_count": 49,
   "id": "ea00c3b2",
   "metadata": {},
   "outputs": [
    {
     "data": {
      "text/plain": [
       "array([0., 0., 0., 0., 0., 0., 0., 0., 0., 0.])"
      ]
     },
     "execution_count": 49,
     "metadata": {},
     "output_type": "execute_result"
    }
   ],
   "source": [
    "array"
   ]
  },
  {
   "cell_type": "code",
   "execution_count": 50,
   "id": "de8a6913",
   "metadata": {},
   "outputs": [],
   "source": [
    "array = np.ones(10)"
   ]
  },
  {
   "cell_type": "code",
   "execution_count": 51,
   "id": "5698ef43",
   "metadata": {},
   "outputs": [
    {
     "data": {
      "text/plain": [
       "array([1., 1., 1., 1., 1., 1., 1., 1., 1., 1.])"
      ]
     },
     "execution_count": 51,
     "metadata": {},
     "output_type": "execute_result"
    }
   ],
   "source": [
    "array"
   ]
  },
  {
   "cell_type": "code",
   "execution_count": 52,
   "id": "d6d06f5e",
   "metadata": {},
   "outputs": [],
   "source": [
    "array = np.ones(10)*5"
   ]
  },
  {
   "cell_type": "code",
   "execution_count": 53,
   "id": "7dc4ae09",
   "metadata": {},
   "outputs": [
    {
     "data": {
      "text/plain": [
       "array([5., 5., 5., 5., 5., 5., 5., 5., 5., 5.])"
      ]
     },
     "execution_count": 53,
     "metadata": {},
     "output_type": "execute_result"
    }
   ],
   "source": [
    "array"
   ]
  },
  {
   "cell_type": "markdown",
   "id": "a24208c2",
   "metadata": {},
   "source": [
    "13. Write a NumPy program to create an array of the integers from 30 to70."
   ]
  },
  {
   "cell_type": "code",
   "execution_count": 55,
   "id": "9922df16",
   "metadata": {},
   "outputs": [],
   "source": [
    "array = np.arange(30,71)"
   ]
  },
  {
   "cell_type": "code",
   "execution_count": 56,
   "id": "d538358c",
   "metadata": {},
   "outputs": [
    {
     "data": {
      "text/plain": [
       "array([30, 31, 32, 33, 34, 35, 36, 37, 38, 39, 40, 41, 42, 43, 44, 45, 46,\n",
       "       47, 48, 49, 50, 51, 52, 53, 54, 55, 56, 57, 58, 59, 60, 61, 62, 63,\n",
       "       64, 65, 66, 67, 68, 69, 70])"
      ]
     },
     "execution_count": 56,
     "metadata": {},
     "output_type": "execute_result"
    }
   ],
   "source": [
    "array"
   ]
  },
  {
   "cell_type": "markdown",
   "id": "fb22f229",
   "metadata": {},
   "source": [
    " 14. Write a NumPy program to create an array of all the even integers from 30 to 70."
   ]
  },
  {
   "cell_type": "code",
   "execution_count": 57,
   "id": "d869af3b",
   "metadata": {},
   "outputs": [],
   "source": [
    "array = np.arange(30,71,2)"
   ]
  },
  {
   "cell_type": "code",
   "execution_count": 58,
   "id": "cfa2a45e",
   "metadata": {},
   "outputs": [
    {
     "data": {
      "text/plain": [
       "array([30, 32, 34, 36, 38, 40, 42, 44, 46, 48, 50, 52, 54, 56, 58, 60, 62,\n",
       "       64, 66, 68, 70])"
      ]
     },
     "execution_count": 58,
     "metadata": {},
     "output_type": "execute_result"
    }
   ],
   "source": [
    "array"
   ]
  },
  {
   "cell_type": "code",
   "execution_count": null,
   "id": "b1a4fe4b",
   "metadata": {},
   "outputs": [],
   "source": []
  }
 ],
 "metadata": {
  "kernelspec": {
   "display_name": "Python 3 (ipykernel)",
   "language": "python",
   "name": "python3"
  },
  "language_info": {
   "codemirror_mode": {
    "name": "ipython",
    "version": 3
   },
   "file_extension": ".py",
   "mimetype": "text/x-python",
   "name": "python",
   "nbconvert_exporter": "python",
   "pygments_lexer": "ipython3",
   "version": "3.11.5"
  }
 },
 "nbformat": 4,
 "nbformat_minor": 5
}
