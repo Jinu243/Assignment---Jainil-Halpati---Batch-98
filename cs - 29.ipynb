{
 "cells": [
  {
   "cell_type": "code",
   "execution_count": 1,
   "id": "95a40d4c",
   "metadata": {},
   "outputs": [],
   "source": [
    "import pandas as pd\n",
    "import numpy as np\n",
    "import os\n",
    "from sklearn.model_selection import train_test_split\n",
    "from sklearn.linear_model import LinearRegression\n",
    "from sklearn.metrics import r2_score\n",
    "import statsmodels.api as sm"
   ]
  },
  {
   "cell_type": "code",
   "execution_count": 2,
   "id": "9e63ee91",
   "metadata": {},
   "outputs": [],
   "source": [
    "os.chdir('C:\\\\Users\\\\USER\\\\Downloads\\\\Batch 98 Day 33\\\\CS 29 Ans -Multiple Linear Regression')"
   ]
  },
  {
   "cell_type": "code",
   "execution_count": 3,
   "id": "423e9d15",
   "metadata": {},
   "outputs": [],
   "source": [
    "df = pd.read_excel('Health_Score.xlsx')"
   ]
  },
  {
   "cell_type": "code",
   "execution_count": 4,
   "id": "1fc4b044",
   "metadata": {},
   "outputs": [
    {
     "data": {
      "text/html": [
       "<div>\n",
       "<style scoped>\n",
       "    .dataframe tbody tr th:only-of-type {\n",
       "        vertical-align: middle;\n",
       "    }\n",
       "\n",
       "    .dataframe tbody tr th {\n",
       "        vertical-align: top;\n",
       "    }\n",
       "\n",
       "    .dataframe thead th {\n",
       "        text-align: right;\n",
       "    }\n",
       "</style>\n",
       "<table border=\"1\" class=\"dataframe\">\n",
       "  <thead>\n",
       "    <tr style=\"text-align: right;\">\n",
       "      <th></th>\n",
       "      <th>Birth Rate</th>\n",
       "      <th>No of Hospitlas</th>\n",
       "      <th>No of Doctors</th>\n",
       "      <th>Annual Income</th>\n",
       "      <th>Population Density</th>\n",
       "    </tr>\n",
       "  </thead>\n",
       "  <tbody>\n",
       "    <tr>\n",
       "      <th>0</th>\n",
       "      <td>8.0</td>\n",
       "      <td>78</td>\n",
       "      <td>284</td>\n",
       "      <td>9.1</td>\n",
       "      <td>109</td>\n",
       "    </tr>\n",
       "    <tr>\n",
       "      <th>1</th>\n",
       "      <td>9.3</td>\n",
       "      <td>68</td>\n",
       "      <td>433</td>\n",
       "      <td>8.7</td>\n",
       "      <td>144</td>\n",
       "    </tr>\n",
       "    <tr>\n",
       "      <th>2</th>\n",
       "      <td>7.5</td>\n",
       "      <td>70</td>\n",
       "      <td>739</td>\n",
       "      <td>7.2</td>\n",
       "      <td>113</td>\n",
       "    </tr>\n",
       "    <tr>\n",
       "      <th>3</th>\n",
       "      <td>8.9</td>\n",
       "      <td>96</td>\n",
       "      <td>1792</td>\n",
       "      <td>8.9</td>\n",
       "      <td>97</td>\n",
       "    </tr>\n",
       "    <tr>\n",
       "      <th>4</th>\n",
       "      <td>10.2</td>\n",
       "      <td>74</td>\n",
       "      <td>477</td>\n",
       "      <td>8.3</td>\n",
       "      <td>206</td>\n",
       "    </tr>\n",
       "  </tbody>\n",
       "</table>\n",
       "</div>"
      ],
      "text/plain": [
       "   Birth Rate  No of Hospitlas  No of Doctors  Annual Income  \\\n",
       "0         8.0               78            284            9.1   \n",
       "1         9.3               68            433            8.7   \n",
       "2         7.5               70            739            7.2   \n",
       "3         8.9               96           1792            8.9   \n",
       "4        10.2               74            477            8.3   \n",
       "\n",
       "   Population Density  \n",
       "0                 109  \n",
       "1                 144  \n",
       "2                 113  \n",
       "3                  97  \n",
       "4                 206  "
      ]
     },
     "execution_count": 4,
     "metadata": {},
     "output_type": "execute_result"
    }
   ],
   "source": [
    "df.head()"
   ]
  },
  {
   "cell_type": "code",
   "execution_count": 5,
   "id": "ec763143",
   "metadata": {},
   "outputs": [
    {
     "data": {
      "text/plain": [
       "array([[  78.        ,  284.        ,    9.10000038,  109.        ],\n",
       "       [  68.        ,  433.        ,    8.69999981,  144.        ],\n",
       "       [  70.        ,  739.        ,    7.19999981,  113.        ],\n",
       "       [  96.        , 1792.        ,    8.89999962,   97.        ],\n",
       "       [  74.        ,  477.        ,    8.30000019,  206.        ],\n",
       "       [ 111.        ,  362.        ,   10.89999962,  124.        ],\n",
       "       [  77.        ,  671.        ,   10.        ,  152.        ],\n",
       "       [ 168.        ,  636.        ,    9.10000038,  162.        ],\n",
       "       [  82.        ,  329.        ,    8.69999981,  150.        ],\n",
       "       [  89.        ,  634.        ,    7.5999999 ,  134.        ],\n",
       "       [ 149.        ,  631.        ,   10.80000019,  292.        ],\n",
       "       [  60.        ,  257.        ,    9.5       ,  108.        ],\n",
       "       [  96.        ,  284.        ,    8.80000019,  111.        ],\n",
       "       [  83.        ,  603.        ,    9.5       ,  182.        ],\n",
       "       [ 130.        ,  686.        ,    8.69999981,  129.        ],\n",
       "       [ 145.        ,  345.        ,   11.19999981,  158.        ],\n",
       "       [ 112.        , 1357.        ,    9.69999981,  186.        ],\n",
       "       [ 131.        ,  544.        ,    9.60000038,  177.        ],\n",
       "       [  80.        ,  205.        ,    9.10000038,  127.        ],\n",
       "       [ 130.        , 1264.        ,    9.19999981,  179.        ],\n",
       "       [ 140.        ,  688.        ,    8.30000019,   80.        ],\n",
       "       [ 154.        ,  354.        ,    8.39999962,  103.        ],\n",
       "       [ 118.        , 1632.        ,    9.39999962,  101.        ],\n",
       "       [  94.        ,  348.        ,    9.80000019,  117.        ],\n",
       "       [ 119.        ,  370.        ,   10.39999962,   88.        ],\n",
       "       [ 153.        ,  648.        ,    9.89999962,   78.        ],\n",
       "       [ 116.        ,  366.        ,    9.19999981,  102.        ],\n",
       "       [  97.        ,  540.        ,   10.30000019,   95.        ],\n",
       "       [ 176.        ,  680.        ,    8.89999962,   80.        ],\n",
       "       [  75.        ,  345.        ,    9.60000038,   92.        ],\n",
       "       [ 134.        ,  525.        ,   10.30000019,  126.        ],\n",
       "       [ 161.        ,  870.        ,   10.39999962,  108.        ],\n",
       "       [ 111.        ,  669.        ,    9.69999981,   77.        ],\n",
       "       [ 114.        ,  452.        ,    9.60000038,   60.        ],\n",
       "       [ 142.        ,  430.        ,   10.69999981,   71.        ],\n",
       "       [ 238.        ,  822.        ,   10.30000019,   86.        ],\n",
       "       [  78.        ,  190.        ,   10.69999981,   93.        ],\n",
       "       [ 196.        ,  867.        ,    9.60000038,  106.        ],\n",
       "       [ 125.        ,  969.        ,   10.5       ,  162.        ],\n",
       "       [  82.        ,  499.        ,    7.69999981,   95.        ],\n",
       "       [ 125.        ,  925.        ,   10.19999981,   91.        ],\n",
       "       [ 129.        ,  353.        ,    9.89999962,   52.        ],\n",
       "       [  84.        ,  288.        ,    8.39999962,  110.        ],\n",
       "       [ 183.        ,  718.        ,   10.39999962,   69.        ],\n",
       "       [ 119.        ,  540.        ,    9.19999981,   57.        ],\n",
       "       [ 180.        ,  668.        ,   13.        ,  106.        ],\n",
       "       [  82.        ,  347.        ,    8.80000019,   40.        ],\n",
       "       [  71.        ,  345.        ,    9.19999981,   50.        ],\n",
       "       [ 118.        ,  463.        ,    7.80000019,   35.        ],\n",
       "       [ 121.        ,  728.        ,    8.19999981,   86.        ],\n",
       "       [  68.        ,  383.        ,    7.4000001 ,   57.        ],\n",
       "       [ 112.        ,  316.        ,   10.39999962,   57.        ],\n",
       "       [ 109.        ,  388.        ,    8.89999962,   94.        ]])"
      ]
     },
     "execution_count": 5,
     "metadata": {},
     "output_type": "execute_result"
    }
   ],
   "source": [
    "X = df.iloc[:,1:].values\n",
    "X"
   ]
  },
  {
   "cell_type": "code",
   "execution_count": 6,
   "id": "084d58b3",
   "metadata": {
    "scrolled": true
   },
   "outputs": [
    {
     "data": {
      "text/plain": [
       "array([ 8.        ,  9.30000019,  7.5       ,  8.89999962, 10.19999981,\n",
       "        8.30000019,  8.80000019,  8.80000019, 10.69999981, 11.69999981,\n",
       "        8.5       ,  8.30000019,  8.19999981,  7.9000001 , 10.30000019,\n",
       "        7.4000001 ,  9.60000038,  9.30000019, 10.60000038,  9.69999981,\n",
       "       11.60000038,  8.10000038,  9.80000019,  7.4000001 ,  9.39999962,\n",
       "       11.19999981,  9.10000038, 10.5       , 11.89999962,  8.39999962,\n",
       "        5.        ,  9.80000019,  9.80000019, 10.80000019, 10.10000038,\n",
       "       10.89999962,  9.19999981,  8.30000019,  7.30000019,  9.39999962,\n",
       "        9.39999962,  9.80000019,  3.5999999 ,  8.39999962, 10.80000019,\n",
       "       10.10000038,  9.        , 10.        , 11.30000019, 11.30000019,\n",
       "       12.80000019, 10.        ,  6.69999981])"
      ]
     },
     "execution_count": 6,
     "metadata": {},
     "output_type": "execute_result"
    }
   ],
   "source": [
    "y = df.iloc[:,0].values\n",
    "y"
   ]
  },
  {
   "cell_type": "code",
   "execution_count": 7,
   "id": "f2868691",
   "metadata": {},
   "outputs": [
    {
     "data": {
      "text/plain": [
       "(53, 5)"
      ]
     },
     "execution_count": 7,
     "metadata": {},
     "output_type": "execute_result"
    }
   ],
   "source": [
    "df.shape"
   ]
  },
  {
   "cell_type": "code",
   "execution_count": 8,
   "id": "42ae0971",
   "metadata": {},
   "outputs": [
    {
     "name": "stdout",
     "output_type": "stream",
     "text": [
      "x_shape : (53, 4)\n",
      "x_train_shape : (42, 4)\n",
      "x_test_shape : (11, 4)\n",
      "y_shape : (53,)\n",
      "y_train_shape : (42,)\n",
      "y_test_shape : (11,)\n"
     ]
    }
   ],
   "source": [
    "X_train,X_test,y_train,y_test = train_test_split(X,y,test_size=0.2,random_state=1)\n",
    "\n",
    "print('x_shape :',X.shape)\n",
    "print('x_train_shape :',X_train.shape)\n",
    "print('x_test_shape :',X_test.shape)\n",
    "print('y_shape :',y.shape)\n",
    "print('y_train_shape :',y_train.shape)\n",
    "print('y_test_shape :',y_test.shape)\n"
   ]
  },
  {
   "cell_type": "code",
   "execution_count": 9,
   "id": "bd208b24",
   "metadata": {},
   "outputs": [],
   "source": [
    "regressor = LinearRegression()\n",
    "regressor.fit(X_train,y_train)\n",
    "y_pred = regressor.predict(X_test)"
   ]
  },
  {
   "cell_type": "code",
   "execution_count": 10,
   "id": "5403c481",
   "metadata": {},
   "outputs": [
    {
     "data": {
      "text/plain": [
       "array([ 8.65654845, 10.57049948,  9.12926103,  9.56518501,  9.15397193,\n",
       "       10.19763099,  9.00579912, 10.3654805 ,  7.50633246,  9.20384247,\n",
       "        6.60848831])"
      ]
     },
     "execution_count": 10,
     "metadata": {},
     "output_type": "execute_result"
    }
   ],
   "source": [
    "y_pred"
   ]
  },
  {
   "cell_type": "code",
   "execution_count": 11,
   "id": "f6e55fc0",
   "metadata": {},
   "outputs": [
    {
     "data": {
      "text/plain": [
       "array([ 5.        ,  7.5       , 10.        ,  9.80000019,  9.80000019,\n",
       "        9.        , 10.10000038,  9.39999962, 10.10000038,  9.69999981,\n",
       "        8.5       ])"
      ]
     },
     "execution_count": 11,
     "metadata": {},
     "output_type": "execute_result"
    }
   ],
   "source": [
    "y_test"
   ]
  },
  {
   "cell_type": "code",
   "execution_count": 12,
   "id": "cc6173d7",
   "metadata": {},
   "outputs": [
    {
     "name": "stdout",
     "output_type": "stream",
     "text": [
      "    Birth Rate  Prediction  Difference\n",
      "0          5.0    8.656548   -3.656548\n",
      "1          7.5   10.570499   -3.070499\n",
      "2         10.0    9.129261    0.870739\n",
      "3          9.8    9.565185    0.234815\n",
      "4          9.8    9.153972    0.646028\n",
      "5          9.0   10.197631   -1.197631\n",
      "6         10.1    9.005799    1.094201\n",
      "7          9.4   10.365480   -0.965481\n",
      "8         10.1    7.506332    2.593668\n",
      "9          9.7    9.203842    0.496157\n",
      "10         8.5    6.608488    1.891512\n"
     ]
    }
   ],
   "source": [
    "df_y_test= pd.DataFrame(y_test, columns = ['Birth Rate'])\n",
    "df_y_test_pred =  pd.DataFrame(y_pred, columns = ['Prediction'])\n",
    "df_diff =df_y_test- df_y_test_pred\n",
    "y_test_pred = pd.concat ([df_y_test, df_y_test_pred ],axis =1)\n",
    "y_test_pred['Difference'] =df_y_test ['Birth Rate']- df_y_test_pred['Prediction']\n",
    "\n",
    "print (y_test_pred)\n"
   ]
  },
  {
   "cell_type": "code",
   "execution_count": 13,
   "id": "fa40e186",
   "metadata": {},
   "outputs": [
    {
     "data": {
      "text/plain": [
       "-0.5993833735307756"
      ]
     },
     "execution_count": 13,
     "metadata": {},
     "output_type": "execute_result"
    }
   ],
   "source": [
    "accuracy = r2_score(y_test,y_pred)\n",
    "accuracy"
   ]
  },
  {
   "cell_type": "code",
   "execution_count": 14,
   "id": "f71231f1",
   "metadata": {},
   "outputs": [
    {
     "data": {
      "text/plain": [
       "array([ 9.16830283,  9.06981045, 10.57049948, 10.48822982,  8.67884787,\n",
       "        8.08173424,  8.35938875,  9.24621142,  9.00537556, 10.10924015,\n",
       "        6.60848831,  8.82039276,  9.4246574 ,  8.32121054,  9.71259243,\n",
       "        7.66810144,  8.77961834,  8.51753078,  8.92410509,  9.20384247,\n",
       "       10.56963221, 10.10241672, 10.13597454,  8.75874067,  8.84854448,\n",
       "        9.62508144,  9.42764107,  8.83119857, 10.3674476 ,  9.07005095,\n",
       "        8.65654845,  9.15397193,  9.56518501,  9.69600677,  9.00579912,\n",
       "        9.82073492,  8.2822002 ,  9.85340539,  8.36367688, 10.3654805 ,\n",
       "        9.32686798,  9.60932803,  9.63004436,  9.60756789, 10.06314535,\n",
       "        7.50633246, 10.19763099,  9.77649655, 11.13822764, 10.49516297,\n",
       "       10.83918806,  9.12926103,  9.68587003])"
      ]
     },
     "execution_count": 14,
     "metadata": {},
     "output_type": "execute_result"
    }
   ],
   "source": [
    "y_pred = regressor.predict(X)\n",
    "y_pred"
   ]
  },
  {
   "cell_type": "code",
   "execution_count": 15,
   "id": "31191cb8",
   "metadata": {},
   "outputs": [
    {
     "data": {
      "text/plain": [
       "array([ 8.        ,  9.30000019,  7.5       ,  8.89999962, 10.19999981,\n",
       "        8.30000019,  8.80000019,  8.80000019, 10.69999981, 11.69999981,\n",
       "        8.5       ,  8.30000019,  8.19999981,  7.9000001 , 10.30000019,\n",
       "        7.4000001 ,  9.60000038,  9.30000019, 10.60000038,  9.69999981,\n",
       "       11.60000038,  8.10000038,  9.80000019,  7.4000001 ,  9.39999962,\n",
       "       11.19999981,  9.10000038, 10.5       , 11.89999962,  8.39999962,\n",
       "        5.        ,  9.80000019,  9.80000019, 10.80000019, 10.10000038,\n",
       "       10.89999962,  9.19999981,  8.30000019,  7.30000019,  9.39999962,\n",
       "        9.39999962,  9.80000019,  3.5999999 ,  8.39999962, 10.80000019,\n",
       "       10.10000038,  9.        , 10.        , 11.30000019, 11.30000019,\n",
       "       12.80000019, 10.        ,  6.69999981])"
      ]
     },
     "execution_count": 15,
     "metadata": {},
     "output_type": "execute_result"
    }
   ],
   "source": [
    "y"
   ]
  },
  {
   "cell_type": "code",
   "execution_count": 16,
   "id": "e0e9d761",
   "metadata": {},
   "outputs": [],
   "source": [
    "y_pred = pd.DataFrame(y_pred,columns= ['Prediction'])\n",
    "final = pd.concat([df,y_pred], axis =1)\n",
    "final['Difference'] =final['Birth Rate']- final['Prediction']"
   ]
  },
  {
   "cell_type": "code",
   "execution_count": 17,
   "id": "6b7065ac",
   "metadata": {},
   "outputs": [
    {
     "data": {
      "text/html": [
       "<div>\n",
       "<style scoped>\n",
       "    .dataframe tbody tr th:only-of-type {\n",
       "        vertical-align: middle;\n",
       "    }\n",
       "\n",
       "    .dataframe tbody tr th {\n",
       "        vertical-align: top;\n",
       "    }\n",
       "\n",
       "    .dataframe thead th {\n",
       "        text-align: right;\n",
       "    }\n",
       "</style>\n",
       "<table border=\"1\" class=\"dataframe\">\n",
       "  <thead>\n",
       "    <tr style=\"text-align: right;\">\n",
       "      <th></th>\n",
       "      <th>Birth Rate</th>\n",
       "      <th>No of Hospitlas</th>\n",
       "      <th>No of Doctors</th>\n",
       "      <th>Annual Income</th>\n",
       "      <th>Population Density</th>\n",
       "      <th>Prediction</th>\n",
       "      <th>Difference</th>\n",
       "    </tr>\n",
       "  </thead>\n",
       "  <tbody>\n",
       "    <tr>\n",
       "      <th>0</th>\n",
       "      <td>8.0</td>\n",
       "      <td>78</td>\n",
       "      <td>284</td>\n",
       "      <td>9.1</td>\n",
       "      <td>109</td>\n",
       "      <td>9.168303</td>\n",
       "      <td>-1.168303</td>\n",
       "    </tr>\n",
       "    <tr>\n",
       "      <th>1</th>\n",
       "      <td>9.3</td>\n",
       "      <td>68</td>\n",
       "      <td>433</td>\n",
       "      <td>8.7</td>\n",
       "      <td>144</td>\n",
       "      <td>9.069810</td>\n",
       "      <td>0.230190</td>\n",
       "    </tr>\n",
       "    <tr>\n",
       "      <th>2</th>\n",
       "      <td>7.5</td>\n",
       "      <td>70</td>\n",
       "      <td>739</td>\n",
       "      <td>7.2</td>\n",
       "      <td>113</td>\n",
       "      <td>10.570499</td>\n",
       "      <td>-3.070499</td>\n",
       "    </tr>\n",
       "    <tr>\n",
       "      <th>3</th>\n",
       "      <td>8.9</td>\n",
       "      <td>96</td>\n",
       "      <td>1792</td>\n",
       "      <td>8.9</td>\n",
       "      <td>97</td>\n",
       "      <td>10.488230</td>\n",
       "      <td>-1.588230</td>\n",
       "    </tr>\n",
       "    <tr>\n",
       "      <th>4</th>\n",
       "      <td>10.2</td>\n",
       "      <td>74</td>\n",
       "      <td>477</td>\n",
       "      <td>8.3</td>\n",
       "      <td>206</td>\n",
       "      <td>8.678848</td>\n",
       "      <td>1.521152</td>\n",
       "    </tr>\n",
       "  </tbody>\n",
       "</table>\n",
       "</div>"
      ],
      "text/plain": [
       "   Birth Rate  No of Hospitlas  No of Doctors  Annual Income  \\\n",
       "0         8.0               78            284            9.1   \n",
       "1         9.3               68            433            8.7   \n",
       "2         7.5               70            739            7.2   \n",
       "3         8.9               96           1792            8.9   \n",
       "4        10.2               74            477            8.3   \n",
       "\n",
       "   Population Density  Prediction  Difference  \n",
       "0                 109    9.168303   -1.168303  \n",
       "1                 144    9.069810    0.230190  \n",
       "2                 113   10.570499   -3.070499  \n",
       "3                  97   10.488230   -1.588230  \n",
       "4                 206    8.678848    1.521152  "
      ]
     },
     "execution_count": 17,
     "metadata": {},
     "output_type": "execute_result"
    }
   ],
   "source": [
    "final.head()"
   ]
  },
  {
   "cell_type": "code",
   "execution_count": 18,
   "id": "454564a2",
   "metadata": {},
   "outputs": [
    {
     "data": {
      "text/plain": [
       "0.08950585813004241"
      ]
     },
     "execution_count": 18,
     "metadata": {},
     "output_type": "execute_result"
    }
   ],
   "source": [
    "accuracy = r2_score(y,y_pred)\n",
    "accuracy"
   ]
  },
  {
   "cell_type": "code",
   "execution_count": 19,
   "id": "e0784d50",
   "metadata": {},
   "outputs": [
    {
     "data": {
      "text/plain": [
       "array([ 0.00501226,  0.00064205, -0.62914983, -0.01130558])"
      ]
     },
     "execution_count": 19,
     "metadata": {},
     "output_type": "execute_result"
    }
   ],
   "source": [
    "regressor.coef_"
   ]
  },
  {
   "cell_type": "code",
   "execution_count": 20,
   "id": "e644ec8f",
   "metadata": {},
   "outputs": [
    {
     "data": {
      "text/plain": [
       "15.552576766444297"
      ]
     },
     "execution_count": 20,
     "metadata": {},
     "output_type": "execute_result"
    }
   ],
   "source": [
    "regressor.intercept_"
   ]
  },
  {
   "cell_type": "code",
   "execution_count": 22,
   "id": "66923eec",
   "metadata": {},
   "outputs": [
    {
     "name": "stdout",
     "output_type": "stream",
     "text": [
      "                                 OLS Regression Results                                \n",
      "=======================================================================================\n",
      "Dep. Variable:                      y   R-squared (uncentered):                   0.954\n",
      "Model:                            OLS   Adj. R-squared (uncentered):              0.950\n",
      "Method:                 Least Squares   F-statistic:                              254.2\n",
      "Date:                Thu, 19 Sep 2024   Prob (F-statistic):                    4.15e-32\n",
      "Time:                        16:22:35   Log-Likelihood:                         -112.63\n",
      "No. Observations:                  53   AIC:                                      233.3\n",
      "Df Residuals:                      49   BIC:                                      241.1\n",
      "Df Model:                           4                                                  \n",
      "Covariance Type:            nonrobust                                                  \n",
      "==============================================================================\n",
      "                 coef    std err          t      P>|t|      [0.025      0.975]\n",
      "------------------------------------------------------------------------------\n",
      "x1             0.0017      0.009      0.184      0.855      -0.017       0.020\n",
      "x2             0.0014      0.001      1.486      0.144      -0.000       0.003\n",
      "x3             0.9456      0.137      6.892      0.000       0.670       1.221\n",
      "x4            -0.0070      0.006     -1.091      0.281      -0.020       0.006\n",
      "==============================================================================\n",
      "Omnibus:                        1.186   Durbin-Watson:                   1.675\n",
      "Prob(Omnibus):                  0.553   Jarque-Bera (JB):                0.537\n",
      "Skew:                           0.185   Prob(JB):                        0.765\n",
      "Kurtosis:                       3.325   Cond. No.                         328.\n",
      "==============================================================================\n",
      "\n",
      "Notes:\n",
      "[1] R² is computed without centering (uncentered) since the model does not contain a constant.\n",
      "[2] Standard Errors assume that the covariance matrix of the errors is correctly specified.\n"
     ]
    }
   ],
   "source": [
    "import statsmodels.api as sm\n",
    "reg_ols = sm.OLS (endog = y, exog = X)\n",
    "reg_ols = reg_ols.fit()\n",
    "print (reg_ols.summary())\n"
   ]
  },
  {
   "cell_type": "code",
   "execution_count": null,
   "id": "4bcf98c2",
   "metadata": {},
   "outputs": [],
   "source": []
  },
  {
   "cell_type": "code",
   "execution_count": null,
   "id": "91fabdb2",
   "metadata": {},
   "outputs": [],
   "source": []
  }
 ],
 "metadata": {
  "kernelspec": {
   "display_name": "Python 3 (ipykernel)",
   "language": "python",
   "name": "python3"
  },
  "language_info": {
   "codemirror_mode": {
    "name": "ipython",
    "version": 3
   },
   "file_extension": ".py",
   "mimetype": "text/x-python",
   "name": "python",
   "nbconvert_exporter": "python",
   "pygments_lexer": "ipython3",
   "version": "3.12.7"
  }
 },
 "nbformat": 4,
 "nbformat_minor": 5
}
