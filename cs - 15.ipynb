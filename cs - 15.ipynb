{
 "cells": [
  {
   "cell_type": "markdown",
   "id": "60a84e8c",
   "metadata": {},
   "source": [
    "1. Extract data from the given SalaryGender CSV file and store the data from each column in a separate NumPy array."
   ]
  },
  {
   "cell_type": "code",
   "execution_count": 55,
   "id": "689e48e6",
   "metadata": {},
   "outputs": [],
   "source": [
    "import numpy as np\n",
    "import pandas as pd\n",
    "import os \n",
    "import matplotlib.pyplot as plt\n",
    "import seaborn as sns"
   ]
  },
  {
   "cell_type": "code",
   "execution_count": 3,
   "id": "39ce7a6f",
   "metadata": {},
   "outputs": [
    {
     "data": {
      "text/plain": [
       "'C:\\\\Users\\\\USER\\\\Downloads\\\\Batch 98 Day 10\\\\CS 15 Ans -Data Transformation-1'"
      ]
     },
     "execution_count": 3,
     "metadata": {},
     "output_type": "execute_result"
    }
   ],
   "source": [
    "os.getcwd()\n",
    "os.chdir('C:/Users/USER/Downloads/Batch 98 Day 10/CS 15 Ans -Data Transformation-1')\n",
    "os.getcwd()\n"
   ]
  },
  {
   "cell_type": "code",
   "execution_count": 4,
   "id": "4e02771c",
   "metadata": {},
   "outputs": [],
   "source": [
    "df = pd.read_csv('SalaryGender.csv')"
   ]
  },
  {
   "cell_type": "code",
   "execution_count": 5,
   "id": "110faf69",
   "metadata": {},
   "outputs": [
    {
     "data": {
      "text/html": [
       "<div>\n",
       "<style scoped>\n",
       "    .dataframe tbody tr th:only-of-type {\n",
       "        vertical-align: middle;\n",
       "    }\n",
       "\n",
       "    .dataframe tbody tr th {\n",
       "        vertical-align: top;\n",
       "    }\n",
       "\n",
       "    .dataframe thead th {\n",
       "        text-align: right;\n",
       "    }\n",
       "</style>\n",
       "<table border=\"1\" class=\"dataframe\">\n",
       "  <thead>\n",
       "    <tr style=\"text-align: right;\">\n",
       "      <th></th>\n",
       "      <th>Salary</th>\n",
       "      <th>Gender</th>\n",
       "      <th>Age</th>\n",
       "      <th>PhD</th>\n",
       "    </tr>\n",
       "  </thead>\n",
       "  <tbody>\n",
       "    <tr>\n",
       "      <th>0</th>\n",
       "      <td>140.0</td>\n",
       "      <td>1</td>\n",
       "      <td>47</td>\n",
       "      <td>1</td>\n",
       "    </tr>\n",
       "    <tr>\n",
       "      <th>1</th>\n",
       "      <td>30.0</td>\n",
       "      <td>0</td>\n",
       "      <td>65</td>\n",
       "      <td>1</td>\n",
       "    </tr>\n",
       "    <tr>\n",
       "      <th>2</th>\n",
       "      <td>35.1</td>\n",
       "      <td>0</td>\n",
       "      <td>56</td>\n",
       "      <td>0</td>\n",
       "    </tr>\n",
       "    <tr>\n",
       "      <th>3</th>\n",
       "      <td>30.0</td>\n",
       "      <td>1</td>\n",
       "      <td>23</td>\n",
       "      <td>0</td>\n",
       "    </tr>\n",
       "    <tr>\n",
       "      <th>4</th>\n",
       "      <td>80.0</td>\n",
       "      <td>0</td>\n",
       "      <td>53</td>\n",
       "      <td>1</td>\n",
       "    </tr>\n",
       "  </tbody>\n",
       "</table>\n",
       "</div>"
      ],
      "text/plain": [
       "   Salary  Gender  Age  PhD\n",
       "0   140.0       1   47    1\n",
       "1    30.0       0   65    1\n",
       "2    35.1       0   56    0\n",
       "3    30.0       1   23    0\n",
       "4    80.0       0   53    1"
      ]
     },
     "execution_count": 5,
     "metadata": {},
     "output_type": "execute_result"
    }
   ],
   "source": [
    "df.head()"
   ]
  },
  {
   "cell_type": "code",
   "execution_count": 6,
   "id": "3bfbb72d",
   "metadata": {},
   "outputs": [],
   "source": [
    "salary = np.array(df['Salary'])\n",
    "gender = np.array(df['Gender'])\n",
    "age = np.array(df['Age'])\n",
    "phd = np.array(df['PhD'])"
   ]
  },
  {
   "cell_type": "code",
   "execution_count": 7,
   "id": "e0d5212f",
   "metadata": {},
   "outputs": [
    {
     "name": "stdout",
     "output_type": "stream",
     "text": [
      "[140.    30.    35.1   30.    80.    30.    60.    31.1  125.    51.\n",
      "   3.    46.   150.     3.   130.    15.   130.    84.   190.    74.\n",
      "  73.    10.    50.     7.     9.5   15.2   28.6   20.    72.    81.\n",
      " 100.    90.    90.    35.    30.    25.    52.     9.    63.    72.\n",
      "  16.    92.   106.     2.5    9.    32.    32.    55.    52.    28.\n",
      "  20.    14.7   22.3   34.8   84.    19.   160.    65.    55.     4.6\n",
      " 102.    20.    62.    55.    45.6   40.    24.    35.    48.    20.\n",
      "  40.7   15.     0.25 152.    39.8   12.    30.   120.     1.7   36.\n",
      "  96.    38.    90.     9.    25.8   22.    38.8   72.    89.    41.\n",
      "  89.    25.    52.   115.    66.    18.6  152.     1.8   35.     4.  ]\n"
     ]
    }
   ],
   "source": [
    "print(salary)"
   ]
  },
  {
   "cell_type": "code",
   "execution_count": 8,
   "id": "5ff787af",
   "metadata": {},
   "outputs": [
    {
     "name": "stdout",
     "output_type": "stream",
     "text": [
      "[1 0 0 1 0 0 1 0 1 1 1 1 1 1 1 0 1 0 1 1 0 0 0 0 0 1 1 0 0 1 0 0 0 1 0 1 0\n",
      " 0 1 1 1 0 1 1 0 0 0 1 1 0 0 0 1 0 0 1 1 0 0 1 1 1 0 1 1 0 0 1 0 0 0 1 0 1\n",
      " 0 0 1 1 1 1 1 0 1 1 0 0 0 1 1 0 1 0 1 0 0 1 1 1 0 0]\n"
     ]
    }
   ],
   "source": [
    "print(gender)"
   ]
  },
  {
   "cell_type": "code",
   "execution_count": 9,
   "id": "a1b17623",
   "metadata": {},
   "outputs": [
    {
     "name": "stdout",
     "output_type": "stream",
     "text": [
      "[47 65 56 23 53 27 53 30 44 63 22 59 60 28 65 25 65 47 66 45 46 24 60 63\n",
      " 27 66 36 30 51 65 45 52 54 30 52 26 49 22 34 60 28 58 77 67 27 48 45 49\n",
      " 36 65 32 49 67 22 49 43 61 43 52 51 66 29 62 56 61 56 41 24 60 43 57 23\n",
      " 53 71 20 27 69 58 37 32 33 32 60 71 30 62 54 42 62 51 71 29 55 54 55 26\n",
      " 56 28 44 24]\n"
     ]
    }
   ],
   "source": [
    "print(age)"
   ]
  },
  {
   "cell_type": "code",
   "execution_count": 10,
   "id": "3414310b",
   "metadata": {},
   "outputs": [
    {
     "name": "stdout",
     "output_type": "stream",
     "text": [
      "[1 1 0 0 1 0 0 0 1 1 0 0 1 0 0 0 0 1 1 1 0 0 0 0 0 1 1 0 1 1 1 1 1 0 0 0 0\n",
      " 0 1 0 0 1 1 0 0 1 0 1 0 1 0 0 0 0 1 0 1 1 0 0 1 0 0 1 0 0 0 0 0 0 0 0 0 1\n",
      " 0 0 1 1 0 1 1 1 0 0 0 0 0 1 0 1 1 0 1 0 1 0 1 0 0 0]\n"
     ]
    }
   ],
   "source": [
    "print(phd)"
   ]
  },
  {
   "cell_type": "markdown",
   "id": "4eb071fe",
   "metadata": {},
   "source": [
    "2. Find:\n",
    "\n",
    "The number of men with a PhD\n",
    "\n",
    "\n",
    "The number of women with a PhD\n"
   ]
  },
  {
   "cell_type": "code",
   "execution_count": 11,
   "id": "1dde947d",
   "metadata": {},
   "outputs": [
    {
     "name": "stdout",
     "output_type": "stream",
     "text": [
      "Total number of male are :- 24\n",
      "Total number of female are :- 15\n"
     ]
    }
   ],
   "source": [
    "male = 0\n",
    "female = 0\n",
    "\n",
    "for i in range(0,100):\n",
    "    if gender[i] == 1 and phd[i] == 1:\n",
    "        male += 1\n",
    "    elif gender[i] == 0 and phd[i] == 1:\n",
    "        female += 1   \n",
    "print(f'Total number of male are :- {male}')\n",
    "print(f'Total number of female are :- {female}')"
   ]
  },
  {
   "cell_type": "markdown",
   "id": "41f369d8",
   "metadata": {},
   "source": [
    "3. Use SalaryGender CSV file. Store the “Age” and “PhD” columns in one DataFrame and delete the data of all people who don’t have a PhD"
   ]
  },
  {
   "cell_type": "code",
   "execution_count": 12,
   "id": "48ae0ee3",
   "metadata": {},
   "outputs": [],
   "source": [
    "frame = pd.DataFrame()\n",
    "frame['Age'] = age\n",
    "frame['Phd'] = phd"
   ]
  },
  {
   "cell_type": "code",
   "execution_count": 13,
   "id": "5f925fb5",
   "metadata": {},
   "outputs": [],
   "source": [
    "for i in range(0,100):\n",
    "     if frame.loc[i]['Phd'] == 0:\n",
    "        frame = frame.drop(i)\n",
    "        \n"
   ]
  },
  {
   "cell_type": "code",
   "execution_count": 14,
   "id": "e45ea00c",
   "metadata": {},
   "outputs": [
    {
     "data": {
      "text/html": [
       "<div>\n",
       "<style scoped>\n",
       "    .dataframe tbody tr th:only-of-type {\n",
       "        vertical-align: middle;\n",
       "    }\n",
       "\n",
       "    .dataframe tbody tr th {\n",
       "        vertical-align: top;\n",
       "    }\n",
       "\n",
       "    .dataframe thead th {\n",
       "        text-align: right;\n",
       "    }\n",
       "</style>\n",
       "<table border=\"1\" class=\"dataframe\">\n",
       "  <thead>\n",
       "    <tr style=\"text-align: right;\">\n",
       "      <th></th>\n",
       "      <th>Age</th>\n",
       "      <th>Phd</th>\n",
       "    </tr>\n",
       "  </thead>\n",
       "  <tbody>\n",
       "    <tr>\n",
       "      <th>0</th>\n",
       "      <td>47</td>\n",
       "      <td>1</td>\n",
       "    </tr>\n",
       "    <tr>\n",
       "      <th>1</th>\n",
       "      <td>65</td>\n",
       "      <td>1</td>\n",
       "    </tr>\n",
       "    <tr>\n",
       "      <th>4</th>\n",
       "      <td>53</td>\n",
       "      <td>1</td>\n",
       "    </tr>\n",
       "    <tr>\n",
       "      <th>8</th>\n",
       "      <td>44</td>\n",
       "      <td>1</td>\n",
       "    </tr>\n",
       "    <tr>\n",
       "      <th>9</th>\n",
       "      <td>63</td>\n",
       "      <td>1</td>\n",
       "    </tr>\n",
       "  </tbody>\n",
       "</table>\n",
       "</div>"
      ],
      "text/plain": [
       "   Age  Phd\n",
       "0   47    1\n",
       "1   65    1\n",
       "4   53    1\n",
       "8   44    1\n",
       "9   63    1"
      ]
     },
     "execution_count": 14,
     "metadata": {},
     "output_type": "execute_result"
    }
   ],
   "source": [
    "frame.head(5)"
   ]
  },
  {
   "cell_type": "markdown",
   "id": "062b8561",
   "metadata": {},
   "source": [
    "4. Calculate the total number of people who have a PhD degree from SalaryGender CSV file."
   ]
  },
  {
   "cell_type": "code",
   "execution_count": 15,
   "id": "568cae1d",
   "metadata": {},
   "outputs": [],
   "source": [
    "Total = 0\n",
    "for i in range(0,100):\n",
    "    if phd[i] == 1:\n",
    "        Total += 1\n",
    "        "
   ]
  },
  {
   "cell_type": "code",
   "execution_count": 16,
   "id": "67e7954b",
   "metadata": {},
   "outputs": [
    {
     "name": "stdout",
     "output_type": "stream",
     "text": [
      "Total number of people who have a phd degree are :- 39\n"
     ]
    }
   ],
   "source": [
    "print(f'Total number of people who have a phd degree are :- {Total}')"
   ]
  },
  {
   "cell_type": "markdown",
   "id": "00030090",
   "metadata": {},
   "source": [
    "5. How do you Count The Number Of Times Each Value Appears In An Array Of Integers?\n",
    "\n",
    "[0, 5, 4, 0, 4, 4, 3, 0, 0, 5, 2, 1, 1, 9]\n",
    "\n",
    "Answer should be array\n",
    "\n",
    "([4, 2, 1, 1, 3, 2, 0, 0, 0, 1])\n",
    "\n",
    "which means 0 comes 4 times, 1 comes 2 times, 2 comes 1 time, 3 comes 1 time and so on.\n"
   ]
  },
  {
   "cell_type": "code",
   "execution_count": 17,
   "id": "10fbe5ec",
   "metadata": {},
   "outputs": [],
   "source": [
    "n = np.array([0, 5, 4, 0, 4, 4, 3, 0, 0, 5, 2, 1, 1, 9])"
   ]
  },
  {
   "cell_type": "code",
   "execution_count": 18,
   "id": "97e7df12",
   "metadata": {},
   "outputs": [],
   "source": [
    "repeat = np.bincount(n)"
   ]
  },
  {
   "cell_type": "code",
   "execution_count": 19,
   "id": "5af446f1",
   "metadata": {},
   "outputs": [
    {
     "name": "stdout",
     "output_type": "stream",
     "text": [
      "[4 2 1 1 3 2 0 0 0 1]\n"
     ]
    }
   ],
   "source": [
    "print(repeat)"
   ]
  },
  {
   "cell_type": "markdown",
   "id": "3a5a422c",
   "metadata": {},
   "source": [
    "6. Create a numpy array [[0, 1, 2], [ 3, 4, 5], [ 6, 7, 8],[ 9, 10, 11]]) and filter the elements greater than 5.\n",
    "\n",
    "        Array \n",
    "\n",
    "      Our array is:\n",
    "[[ 0  1  2]\n",
    " [ 3  4  5]\n",
    " [ 6  7  8]\n",
    " [ 9 10 11]]\n",
    "\n",
    "\n",
    "Result \n",
    "\n",
    "\n",
    " The items greater than 5 are:\n",
    "\n",
    "\n",
    "[ 6  7  8  9 10 11]\n"
   ]
  },
  {
   "cell_type": "code",
   "execution_count": 20,
   "id": "d4e8174c",
   "metadata": {},
   "outputs": [],
   "source": [
    "n = np.array([[0,1,2],[3,4,5],[6,7,8],[9,10,11]])"
   ]
  },
  {
   "cell_type": "code",
   "execution_count": 21,
   "id": "fb7606b8",
   "metadata": {},
   "outputs": [
    {
     "name": "stdout",
     "output_type": "stream",
     "text": [
      "[[ 0  1  2]\n",
      " [ 3  4  5]\n",
      " [ 6  7  8]\n",
      " [ 9 10 11]]\n"
     ]
    }
   ],
   "source": [
    "print(n)"
   ]
  },
  {
   "cell_type": "code",
   "execution_count": 22,
   "id": "abe36bda",
   "metadata": {},
   "outputs": [
    {
     "name": "stdout",
     "output_type": "stream",
     "text": [
      "[ 6  7  8  9 10 11]\n"
     ]
    }
   ],
   "source": [
    "print(n[n>5])"
   ]
  },
  {
   "cell_type": "markdown",
   "id": "81e258a1",
   "metadata": {},
   "source": [
    "7. Create a numpy array having NaN (Not a Number) and print it.\n",
    "\n",
    "array([ nan, 1., 2., nan, 3., 4., 5.])\n",
    "\n",
    "Print the same array omitting all elements which are nan\n"
   ]
  },
  {
   "cell_type": "code",
   "execution_count": 23,
   "id": "e2274545",
   "metadata": {},
   "outputs": [],
   "source": [
    "n = np.array([ np.nan, 1., 2., np.nan, 3., 4., 5.])"
   ]
  },
  {
   "cell_type": "code",
   "execution_count": 24,
   "id": "466e3133",
   "metadata": {},
   "outputs": [
    {
     "name": "stdout",
     "output_type": "stream",
     "text": [
      "[nan nan]\n"
     ]
    }
   ],
   "source": [
    "print(n[np.isnan(n)])"
   ]
  },
  {
   "cell_type": "markdown",
   "id": "f79e8065",
   "metadata": {},
   "source": [
    "8. Create a 10x10 array with random values and find the minimum and maximum values."
   ]
  },
  {
   "cell_type": "code",
   "execution_count": 25,
   "id": "71c29498",
   "metadata": {},
   "outputs": [],
   "source": [
    "n = np.random.random((10,10))"
   ]
  },
  {
   "cell_type": "code",
   "execution_count": 26,
   "id": "38885ee6",
   "metadata": {},
   "outputs": [
    {
     "name": "stdout",
     "output_type": "stream",
     "text": [
      "[[0.47599371 0.57026765 0.80957806 0.84436027 0.80169675 0.22356609\n",
      "  0.34934148 0.51899851 0.20970698 0.86751769]\n",
      " [0.40486851 0.71916423 0.77720297 0.59414635 0.9483921  0.79770417\n",
      "  0.59843702 0.53901271 0.76878275 0.60160095]\n",
      " [0.79788538 0.75751325 0.71161378 0.44712098 0.43037283 0.5724709\n",
      "  0.62449552 0.70357974 0.22864577 0.33924066]\n",
      " [0.87038984 0.24371282 0.01919577 0.79861455 0.95746709 0.59358227\n",
      "  0.25186042 0.47808198 0.55570354 0.41289846]\n",
      " [0.5381242  0.59999539 0.18445364 0.22122584 0.68681454 0.2281435\n",
      "  0.78750833 0.79233546 0.37770647 0.48617361]\n",
      " [0.42525803 0.25953313 0.36214331 0.15908685 0.84242476 0.12002183\n",
      "  0.32233017 0.01186806 0.97159241 0.03049099]\n",
      " [0.46070665 0.93253194 0.13890484 0.15428683 0.53447025 0.15802772\n",
      "  0.20577618 0.79875272 0.24554521 0.19207985]\n",
      " [0.31891961 0.20119047 0.59863563 0.68150221 0.92858685 0.06834768\n",
      "  0.95255591 0.54635587 0.70844752 0.47475435]\n",
      " [0.67167667 0.48277429 0.35456884 0.60971539 0.78779361 0.55545624\n",
      "  0.41740461 0.78270053 0.7128979  0.3362968 ]\n",
      " [0.83909973 0.88603299 0.58633614 0.32293275 0.9298334  0.35578513\n",
      "  0.08207199 0.25804026 0.60916668 0.51543384]]\n"
     ]
    }
   ],
   "source": [
    "print(n)"
   ]
  },
  {
   "cell_type": "code",
   "execution_count": 27,
   "id": "485fa30e",
   "metadata": {},
   "outputs": [],
   "source": [
    "maximum = n.max()\n",
    "minimum = n.min()"
   ]
  },
  {
   "cell_type": "code",
   "execution_count": 28,
   "id": "e17a066c",
   "metadata": {},
   "outputs": [
    {
     "name": "stdout",
     "output_type": "stream",
     "text": [
      "0.9715924101723044 0.011868062202370244\n"
     ]
    }
   ],
   "source": [
    "print(maximum,minimum)"
   ]
  },
  {
   "cell_type": "markdown",
   "id": "ac511b5f",
   "metadata": {},
   "source": [
    "9. Create a random vector of size 30 and find the mean value."
   ]
  },
  {
   "cell_type": "code",
   "execution_count": 29,
   "id": "15c56f91",
   "metadata": {},
   "outputs": [],
   "source": [
    "n = np.random.random(30)"
   ]
  },
  {
   "cell_type": "code",
   "execution_count": 30,
   "id": "433ba684",
   "metadata": {},
   "outputs": [],
   "source": [
    "mean = n.mean()"
   ]
  },
  {
   "cell_type": "code",
   "execution_count": 31,
   "id": "2aeaf665",
   "metadata": {},
   "outputs": [
    {
     "name": "stdout",
     "output_type": "stream",
     "text": [
      "0.4023831665077683\n"
     ]
    }
   ],
   "source": [
    "print(mean)"
   ]
  },
  {
   "cell_type": "markdown",
   "id": "c83f988e",
   "metadata": {},
   "source": [
    "10. Create numpy array having elements 0 to 10 And negate all the elements between 3 and 9\n",
    "\n",
    "\n",
    "Array\n",
    "\n",
    "[ 0  1  2  3  4  5  6  7  8  9 10]\n",
    "\n",
    "\n",
    "\n",
    "Negeted Array\n",
    "\n",
    "[ 0  1  2  3 -4 -5 -6 -7 -8  9 10]\n"
   ]
  },
  {
   "cell_type": "code",
   "execution_count": 32,
   "id": "bd9a18e9",
   "metadata": {},
   "outputs": [],
   "source": [
    "n = np.array([0,1,2,3,4,5,6,7,8,9,10])"
   ]
  },
  {
   "cell_type": "code",
   "execution_count": 33,
   "id": "57564e1a",
   "metadata": {},
   "outputs": [],
   "source": [
    "n[(3<n) & (n<=8)] *= -1"
   ]
  },
  {
   "cell_type": "code",
   "execution_count": 34,
   "id": "dc5ccfad",
   "metadata": {},
   "outputs": [
    {
     "name": "stdout",
     "output_type": "stream",
     "text": [
      "[ 0  1  2  3 -4 -5 -6 -7 -8  9 10]\n"
     ]
    }
   ],
   "source": [
    "print(n)"
   ]
  },
  {
   "cell_type": "markdown",
   "id": "926d2018",
   "metadata": {},
   "source": [
    "11. Create a random array of 3 rows and 3 columns and sort it according to 1st column, 2nd column or 3rd column.\n",
    "\n",
    "<< Z[:,1].argsort()    This statement sort based on column and return the index  of each sorted value \n",
    "\n",
    "Argsort - Returns the indices that would sort an array   >>"
   ]
  },
  {
   "cell_type": "code",
   "execution_count": 35,
   "id": "7cc3b495",
   "metadata": {},
   "outputs": [],
   "source": [
    "n = np.random.random([3,3])"
   ]
  },
  {
   "cell_type": "code",
   "execution_count": 36,
   "id": "b9ebcba2",
   "metadata": {},
   "outputs": [
    {
     "name": "stdout",
     "output_type": "stream",
     "text": [
      "[[0.16325686 0.44826656 0.30512152]\n",
      " [0.35420456 0.0395962  0.26928194]\n",
      " [0.27304926 0.01912771 0.43284389]]\n"
     ]
    }
   ],
   "source": [
    "print(n)"
   ]
  },
  {
   "cell_type": "code",
   "execution_count": 37,
   "id": "df49e84f",
   "metadata": {},
   "outputs": [],
   "source": [
    "sort = n[n[:,1].argsort()]"
   ]
  },
  {
   "cell_type": "code",
   "execution_count": 38,
   "id": "947c757e",
   "metadata": {},
   "outputs": [
    {
     "name": "stdout",
     "output_type": "stream",
     "text": [
      "[[0.27304926 0.01912771 0.43284389]\n",
      " [0.35420456 0.0395962  0.26928194]\n",
      " [0.16325686 0.44826656 0.30512152]]\n"
     ]
    }
   ],
   "source": [
    "print(sort)"
   ]
  },
  {
   "cell_type": "markdown",
   "id": "8acf3410",
   "metadata": {},
   "source": [
    "12. Create a four dimensions array (2,2,2,2) get sum over the last two axis at once.\n",
    "\n",
    "Four Dimension Array\n",
    "\n",
    "[[[[9 4]\n",
    "   [9 8]]\n",
    "   \n",
    "  [[1 3]\n",
    "   [5 3]]]\n",
    "   \n",
    " [[[9 8]\n",
    "   [5 4]]\n",
    "   \n",
    "  [[8 6]\n",
    "   [5 0]]]]\n",
    "\n",
    "Result\n",
    "\n",
    "[[30 12]\n",
    " [26 19]]"
   ]
  },
  {
   "cell_type": "code",
   "execution_count": 39,
   "id": "0fdbcb32",
   "metadata": {},
   "outputs": [],
   "source": [
    "n = np.random.randint(0,10,(2,2,2,2))"
   ]
  },
  {
   "cell_type": "code",
   "execution_count": 40,
   "id": "a98e1fe5",
   "metadata": {},
   "outputs": [
    {
     "name": "stdout",
     "output_type": "stream",
     "text": [
      "[[[[5 4]\n",
      "   [8 4]]\n",
      "\n",
      "  [[6 9]\n",
      "   [5 6]]]\n",
      "\n",
      "\n",
      " [[[4 4]\n",
      "   [5 0]]\n",
      "\n",
      "  [[9 0]\n",
      "   [6 1]]]]\n"
     ]
    }
   ],
   "source": [
    "print(n)"
   ]
  },
  {
   "cell_type": "code",
   "execution_count": 41,
   "id": "e5730d3c",
   "metadata": {},
   "outputs": [],
   "source": [
    "sum_ = n.reshape(n.shape[:-2] + (-1,)).sum(axis=-1)"
   ]
  },
  {
   "cell_type": "code",
   "execution_count": 42,
   "id": "7df6944f",
   "metadata": {},
   "outputs": [
    {
     "name": "stdout",
     "output_type": "stream",
     "text": [
      "[[21 26]\n",
      " [13 16]]\n"
     ]
    }
   ],
   "source": [
    "print(sum_)"
   ]
  },
  {
   "cell_type": "markdown",
   "id": "8ef22bcc",
   "metadata": {},
   "source": [
    "13. Create a random array ( 5,5) and swap two rows of an array.\n",
    "\n",
    "Random Array\n",
    "[[ 0  1  2  3  4]\n",
    " [ 5  6  7  8  9]\n",
    " [10 11 12 13 14]\n",
    " [15 16 17 18 19]\n",
    " [20 21 22 23 24]]\n",
    "\n",
    "\n",
    "Swapped Array\n",
    "[[ 5  6  7  8  9]\n",
    " [ 0  1  2  3  4]\n",
    " [10 11 12 13 14]\n",
    " [15 16 17 18 19]\n",
    " [20 21 22 23 24]]\n"
   ]
  },
  {
   "cell_type": "code",
   "execution_count": 43,
   "id": "8c7f08a3",
   "metadata": {},
   "outputs": [],
   "source": [
    "n = np.arange(25).reshape(5,5)"
   ]
  },
  {
   "cell_type": "code",
   "execution_count": 44,
   "id": "270d44fe",
   "metadata": {},
   "outputs": [
    {
     "name": "stdout",
     "output_type": "stream",
     "text": [
      "[[ 0  1  2  3  4]\n",
      " [ 5  6  7  8  9]\n",
      " [10 11 12 13 14]\n",
      " [15 16 17 18 19]\n",
      " [20 21 22 23 24]]\n"
     ]
    }
   ],
   "source": [
    "print(n)"
   ]
  },
  {
   "cell_type": "code",
   "execution_count": 45,
   "id": "230810c6",
   "metadata": {},
   "outputs": [],
   "source": [
    "n[[0,1]] = n[[1,0]]"
   ]
  },
  {
   "cell_type": "code",
   "execution_count": 46,
   "id": "1694fc8d",
   "metadata": {},
   "outputs": [
    {
     "name": "stdout",
     "output_type": "stream",
     "text": [
      "[[ 5  6  7  8  9]\n",
      " [ 0  1  2  3  4]\n",
      " [10 11 12 13 14]\n",
      " [15 16 17 18 19]\n",
      " [20 21 22 23 24]]\n"
     ]
    }
   ],
   "source": [
    "print(n)"
   ]
  },
  {
   "cell_type": "markdown",
   "id": "97e59673",
   "metadata": {},
   "source": [
    "14. Analyse various school outcomes in Tennessee using pandas. Suppose you are a public school administrator. Some schools in your state of Tennessee are performing below average academically. Your superintendent, under pressure from frustrated parents and voters, approached you with the task of understanding why these schools are under-performing. To improve school performance, you need to learn more about these schools and their students, just as a business needs to understand its own strengths and weaknesses and its customers. Though you is eager to build an impressive explanatory model, you know the importance of conducting preliminary research to prevent possible pitfalls or blind spots. Thus, you engages in a thorough exploratory analysis, which includes: a lit review, data collection, descriptive and inferential statistics, and data visualization."
   ]
  },
  {
   "cell_type": "markdown",
   "id": "1bbce443",
   "metadata": {},
   "source": [
    "Phase 1 - Data Collection\n",
    "\n",
    "Here is a data of every public school in middle Tennessee. The data also includes various demographic, school faculty, and income variables. You need to convert the data into useful information.\n"
   ]
  },
  {
   "cell_type": "code",
   "execution_count": 47,
   "id": "b467c5d2",
   "metadata": {},
   "outputs": [],
   "source": [
    "df = pd.read_csv('middle_tn_schools.csv')"
   ]
  },
  {
   "cell_type": "code",
   "execution_count": 48,
   "id": "4e3328dc",
   "metadata": {},
   "outputs": [
    {
     "data": {
      "text/html": [
       "<div>\n",
       "<style scoped>\n",
       "    .dataframe tbody tr th:only-of-type {\n",
       "        vertical-align: middle;\n",
       "    }\n",
       "\n",
       "    .dataframe tbody tr th {\n",
       "        vertical-align: top;\n",
       "    }\n",
       "\n",
       "    .dataframe thead th {\n",
       "        text-align: right;\n",
       "    }\n",
       "</style>\n",
       "<table border=\"1\" class=\"dataframe\">\n",
       "  <thead>\n",
       "    <tr style=\"text-align: right;\">\n",
       "      <th></th>\n",
       "      <th>name</th>\n",
       "      <th>school_rating</th>\n",
       "      <th>size</th>\n",
       "      <th>reduced_lunch</th>\n",
       "      <th>state_percentile_16</th>\n",
       "      <th>state_percentile_15</th>\n",
       "      <th>stu_teach_ratio</th>\n",
       "      <th>school_type</th>\n",
       "      <th>avg_score_15</th>\n",
       "      <th>avg_score_16</th>\n",
       "      <th>full_time_teachers</th>\n",
       "      <th>percent_black</th>\n",
       "      <th>percent_white</th>\n",
       "      <th>percent_asian</th>\n",
       "      <th>percent_hispanic</th>\n",
       "    </tr>\n",
       "  </thead>\n",
       "  <tbody>\n",
       "    <tr>\n",
       "      <th>0</th>\n",
       "      <td>Allendale Elementary School</td>\n",
       "      <td>5.0</td>\n",
       "      <td>851.0</td>\n",
       "      <td>10.0</td>\n",
       "      <td>90.2</td>\n",
       "      <td>95.8</td>\n",
       "      <td>15.7</td>\n",
       "      <td>Public</td>\n",
       "      <td>89.4</td>\n",
       "      <td>85.2</td>\n",
       "      <td>54.0</td>\n",
       "      <td>2.9</td>\n",
       "      <td>85.5</td>\n",
       "      <td>1.6</td>\n",
       "      <td>5.6</td>\n",
       "    </tr>\n",
       "    <tr>\n",
       "      <th>1</th>\n",
       "      <td>Anderson Elementary</td>\n",
       "      <td>2.0</td>\n",
       "      <td>412.0</td>\n",
       "      <td>71.0</td>\n",
       "      <td>32.8</td>\n",
       "      <td>37.3</td>\n",
       "      <td>12.8</td>\n",
       "      <td>Public</td>\n",
       "      <td>43.0</td>\n",
       "      <td>38.3</td>\n",
       "      <td>32.0</td>\n",
       "      <td>3.9</td>\n",
       "      <td>86.7</td>\n",
       "      <td>1.0</td>\n",
       "      <td>4.9</td>\n",
       "    </tr>\n",
       "    <tr>\n",
       "      <th>2</th>\n",
       "      <td>Avoca Elementary</td>\n",
       "      <td>4.0</td>\n",
       "      <td>482.0</td>\n",
       "      <td>43.0</td>\n",
       "      <td>78.4</td>\n",
       "      <td>83.6</td>\n",
       "      <td>16.6</td>\n",
       "      <td>Public</td>\n",
       "      <td>75.7</td>\n",
       "      <td>73.0</td>\n",
       "      <td>29.0</td>\n",
       "      <td>1.0</td>\n",
       "      <td>91.5</td>\n",
       "      <td>1.2</td>\n",
       "      <td>4.4</td>\n",
       "    </tr>\n",
       "    <tr>\n",
       "      <th>3</th>\n",
       "      <td>Bailey Middle</td>\n",
       "      <td>0.0</td>\n",
       "      <td>394.0</td>\n",
       "      <td>91.0</td>\n",
       "      <td>1.6</td>\n",
       "      <td>1.0</td>\n",
       "      <td>13.1</td>\n",
       "      <td>Public Magnet</td>\n",
       "      <td>2.1</td>\n",
       "      <td>4.4</td>\n",
       "      <td>30.0</td>\n",
       "      <td>80.7</td>\n",
       "      <td>11.7</td>\n",
       "      <td>2.3</td>\n",
       "      <td>4.3</td>\n",
       "    </tr>\n",
       "    <tr>\n",
       "      <th>4</th>\n",
       "      <td>Barfield Elementary</td>\n",
       "      <td>4.0</td>\n",
       "      <td>948.0</td>\n",
       "      <td>26.0</td>\n",
       "      <td>85.3</td>\n",
       "      <td>89.2</td>\n",
       "      <td>14.8</td>\n",
       "      <td>Public</td>\n",
       "      <td>81.3</td>\n",
       "      <td>79.6</td>\n",
       "      <td>64.0</td>\n",
       "      <td>11.8</td>\n",
       "      <td>71.2</td>\n",
       "      <td>7.1</td>\n",
       "      <td>6.0</td>\n",
       "    </tr>\n",
       "    <tr>\n",
       "      <th>...</th>\n",
       "      <td>...</td>\n",
       "      <td>...</td>\n",
       "      <td>...</td>\n",
       "      <td>...</td>\n",
       "      <td>...</td>\n",
       "      <td>...</td>\n",
       "      <td>...</td>\n",
       "      <td>...</td>\n",
       "      <td>...</td>\n",
       "      <td>...</td>\n",
       "      <td>...</td>\n",
       "      <td>...</td>\n",
       "      <td>...</td>\n",
       "      <td>...</td>\n",
       "      <td>...</td>\n",
       "    </tr>\n",
       "    <tr>\n",
       "      <th>342</th>\n",
       "      <td>Winfree Bryant Middle School</td>\n",
       "      <td>3.0</td>\n",
       "      <td>611.0</td>\n",
       "      <td>57.0</td>\n",
       "      <td>59.1</td>\n",
       "      <td>65.2</td>\n",
       "      <td>16.9</td>\n",
       "      <td>Public</td>\n",
       "      <td>61.4</td>\n",
       "      <td>57.7</td>\n",
       "      <td>36.0</td>\n",
       "      <td>15.2</td>\n",
       "      <td>66.3</td>\n",
       "      <td>1.5</td>\n",
       "      <td>15.7</td>\n",
       "    </tr>\n",
       "    <tr>\n",
       "      <th>343</th>\n",
       "      <td>Winstead Elementary School</td>\n",
       "      <td>5.0</td>\n",
       "      <td>515.0</td>\n",
       "      <td>8.0</td>\n",
       "      <td>93.9</td>\n",
       "      <td>97.0</td>\n",
       "      <td>14.3</td>\n",
       "      <td>Public</td>\n",
       "      <td>92.0</td>\n",
       "      <td>89.3</td>\n",
       "      <td>36.0</td>\n",
       "      <td>3.3</td>\n",
       "      <td>87.4</td>\n",
       "      <td>3.1</td>\n",
       "      <td>4.1</td>\n",
       "    </tr>\n",
       "    <tr>\n",
       "      <th>344</th>\n",
       "      <td>Woodland Elementary</td>\n",
       "      <td>4.0</td>\n",
       "      <td>424.0</td>\n",
       "      <td>55.0</td>\n",
       "      <td>84.8</td>\n",
       "      <td>76.7</td>\n",
       "      <td>14.1</td>\n",
       "      <td>Public</td>\n",
       "      <td>69.4</td>\n",
       "      <td>79.4</td>\n",
       "      <td>30.0</td>\n",
       "      <td>11.6</td>\n",
       "      <td>70.5</td>\n",
       "      <td>2.1</td>\n",
       "      <td>9.7</td>\n",
       "    </tr>\n",
       "    <tr>\n",
       "      <th>345</th>\n",
       "      <td>Woodland Middle School</td>\n",
       "      <td>5.0</td>\n",
       "      <td>866.0</td>\n",
       "      <td>2.0</td>\n",
       "      <td>93.3</td>\n",
       "      <td>97.1</td>\n",
       "      <td>19.2</td>\n",
       "      <td>Public</td>\n",
       "      <td>89.8</td>\n",
       "      <td>84.9</td>\n",
       "      <td>45.0</td>\n",
       "      <td>4.5</td>\n",
       "      <td>77.6</td>\n",
       "      <td>10.0</td>\n",
       "      <td>4.4</td>\n",
       "    </tr>\n",
       "    <tr>\n",
       "      <th>346</th>\n",
       "      <td>Wright Middle</td>\n",
       "      <td>0.0</td>\n",
       "      <td>829.0</td>\n",
       "      <td>89.0</td>\n",
       "      <td>4.5</td>\n",
       "      <td>1.2</td>\n",
       "      <td>16.5</td>\n",
       "      <td>Public</td>\n",
       "      <td>2.7</td>\n",
       "      <td>9.6</td>\n",
       "      <td>50.0</td>\n",
       "      <td>22.3</td>\n",
       "      <td>21.0</td>\n",
       "      <td>6.6</td>\n",
       "      <td>49.5</td>\n",
       "    </tr>\n",
       "  </tbody>\n",
       "</table>\n",
       "<p>347 rows × 15 columns</p>\n",
       "</div>"
      ],
      "text/plain": [
       "                             name  school_rating   size  reduced_lunch  \\\n",
       "0     Allendale Elementary School            5.0  851.0           10.0   \n",
       "1             Anderson Elementary            2.0  412.0           71.0   \n",
       "2                Avoca Elementary            4.0  482.0           43.0   \n",
       "3                   Bailey Middle            0.0  394.0           91.0   \n",
       "4             Barfield Elementary            4.0  948.0           26.0   \n",
       "..                            ...            ...    ...            ...   \n",
       "342  Winfree Bryant Middle School            3.0  611.0           57.0   \n",
       "343    Winstead Elementary School            5.0  515.0            8.0   \n",
       "344           Woodland Elementary            4.0  424.0           55.0   \n",
       "345        Woodland Middle School            5.0  866.0            2.0   \n",
       "346                 Wright Middle            0.0  829.0           89.0   \n",
       "\n",
       "     state_percentile_16  state_percentile_15  stu_teach_ratio    school_type  \\\n",
       "0                   90.2                 95.8             15.7         Public   \n",
       "1                   32.8                 37.3             12.8         Public   \n",
       "2                   78.4                 83.6             16.6         Public   \n",
       "3                    1.6                  1.0             13.1  Public Magnet   \n",
       "4                   85.3                 89.2             14.8         Public   \n",
       "..                   ...                  ...              ...            ...   \n",
       "342                 59.1                 65.2             16.9         Public   \n",
       "343                 93.9                 97.0             14.3         Public   \n",
       "344                 84.8                 76.7             14.1         Public   \n",
       "345                 93.3                 97.1             19.2         Public   \n",
       "346                  4.5                  1.2             16.5         Public   \n",
       "\n",
       "     avg_score_15  avg_score_16  full_time_teachers  percent_black  \\\n",
       "0            89.4          85.2                54.0            2.9   \n",
       "1            43.0          38.3                32.0            3.9   \n",
       "2            75.7          73.0                29.0            1.0   \n",
       "3             2.1           4.4                30.0           80.7   \n",
       "4            81.3          79.6                64.0           11.8   \n",
       "..            ...           ...                 ...            ...   \n",
       "342          61.4          57.7                36.0           15.2   \n",
       "343          92.0          89.3                36.0            3.3   \n",
       "344          69.4          79.4                30.0           11.6   \n",
       "345          89.8          84.9                45.0            4.5   \n",
       "346           2.7           9.6                50.0           22.3   \n",
       "\n",
       "     percent_white  percent_asian  percent_hispanic  \n",
       "0             85.5            1.6               5.6  \n",
       "1             86.7            1.0               4.9  \n",
       "2             91.5            1.2               4.4  \n",
       "3             11.7            2.3               4.3  \n",
       "4             71.2            7.1               6.0  \n",
       "..             ...            ...               ...  \n",
       "342           66.3            1.5              15.7  \n",
       "343           87.4            3.1               4.1  \n",
       "344           70.5            2.1               9.7  \n",
       "345           77.6           10.0               4.4  \n",
       "346           21.0            6.6              49.5  \n",
       "\n",
       "[347 rows x 15 columns]"
      ]
     },
     "execution_count": 48,
     "metadata": {},
     "output_type": "execute_result"
    }
   ],
   "source": [
    "df"
   ]
  },
  {
   "cell_type": "code",
   "execution_count": 49,
   "id": "a1d63d90",
   "metadata": {},
   "outputs": [
    {
     "name": "stdout",
     "output_type": "stream",
     "text": [
      "<class 'pandas.core.frame.DataFrame'>\n",
      "RangeIndex: 347 entries, 0 to 346\n",
      "Data columns (total 15 columns):\n",
      " #   Column               Non-Null Count  Dtype  \n",
      "---  ------               --------------  -----  \n",
      " 0   name                 347 non-null    object \n",
      " 1   school_rating        347 non-null    float64\n",
      " 2   size                 347 non-null    float64\n",
      " 3   reduced_lunch        347 non-null    float64\n",
      " 4   state_percentile_16  347 non-null    float64\n",
      " 5   state_percentile_15  341 non-null    float64\n",
      " 6   stu_teach_ratio      347 non-null    float64\n",
      " 7   school_type          347 non-null    object \n",
      " 8   avg_score_15         341 non-null    float64\n",
      " 9   avg_score_16         347 non-null    float64\n",
      " 10  full_time_teachers   347 non-null    float64\n",
      " 11  percent_black        347 non-null    float64\n",
      " 12  percent_white        347 non-null    float64\n",
      " 13  percent_asian        347 non-null    float64\n",
      " 14  percent_hispanic     347 non-null    float64\n",
      "dtypes: float64(13), object(2)\n",
      "memory usage: 40.8+ KB\n"
     ]
    }
   ],
   "source": [
    "df.info()"
   ]
  },
  {
   "cell_type": "code",
   "execution_count": 50,
   "id": "695a9071",
   "metadata": {},
   "outputs": [
    {
     "data": {
      "text/html": [
       "<div>\n",
       "<style scoped>\n",
       "    .dataframe tbody tr th:only-of-type {\n",
       "        vertical-align: middle;\n",
       "    }\n",
       "\n",
       "    .dataframe tbody tr th {\n",
       "        vertical-align: top;\n",
       "    }\n",
       "\n",
       "    .dataframe thead th {\n",
       "        text-align: right;\n",
       "    }\n",
       "</style>\n",
       "<table border=\"1\" class=\"dataframe\">\n",
       "  <thead>\n",
       "    <tr style=\"text-align: right;\">\n",
       "      <th></th>\n",
       "      <th>school_rating</th>\n",
       "      <th>size</th>\n",
       "      <th>reduced_lunch</th>\n",
       "      <th>state_percentile_16</th>\n",
       "      <th>state_percentile_15</th>\n",
       "      <th>stu_teach_ratio</th>\n",
       "      <th>avg_score_15</th>\n",
       "      <th>avg_score_16</th>\n",
       "      <th>full_time_teachers</th>\n",
       "      <th>percent_black</th>\n",
       "      <th>percent_white</th>\n",
       "      <th>percent_asian</th>\n",
       "      <th>percent_hispanic</th>\n",
       "    </tr>\n",
       "  </thead>\n",
       "  <tbody>\n",
       "    <tr>\n",
       "      <th>count</th>\n",
       "      <td>347.000000</td>\n",
       "      <td>347.000000</td>\n",
       "      <td>347.000000</td>\n",
       "      <td>347.000000</td>\n",
       "      <td>341.000000</td>\n",
       "      <td>347.000000</td>\n",
       "      <td>341.000000</td>\n",
       "      <td>347.000000</td>\n",
       "      <td>347.000000</td>\n",
       "      <td>347.000000</td>\n",
       "      <td>347.000000</td>\n",
       "      <td>347.000000</td>\n",
       "      <td>347.000000</td>\n",
       "    </tr>\n",
       "    <tr>\n",
       "      <th>mean</th>\n",
       "      <td>2.968300</td>\n",
       "      <td>699.472622</td>\n",
       "      <td>50.279539</td>\n",
       "      <td>58.801729</td>\n",
       "      <td>58.249267</td>\n",
       "      <td>15.461671</td>\n",
       "      <td>57.004692</td>\n",
       "      <td>57.049856</td>\n",
       "      <td>44.939481</td>\n",
       "      <td>21.197983</td>\n",
       "      <td>61.673487</td>\n",
       "      <td>2.642651</td>\n",
       "      <td>11.164553</td>\n",
       "    </tr>\n",
       "    <tr>\n",
       "      <th>std</th>\n",
       "      <td>1.690377</td>\n",
       "      <td>400.598636</td>\n",
       "      <td>25.480236</td>\n",
       "      <td>32.540747</td>\n",
       "      <td>32.702630</td>\n",
       "      <td>5.725170</td>\n",
       "      <td>26.696450</td>\n",
       "      <td>27.968974</td>\n",
       "      <td>22.053386</td>\n",
       "      <td>23.562538</td>\n",
       "      <td>27.274859</td>\n",
       "      <td>3.109629</td>\n",
       "      <td>12.030608</td>\n",
       "    </tr>\n",
       "    <tr>\n",
       "      <th>min</th>\n",
       "      <td>0.000000</td>\n",
       "      <td>53.000000</td>\n",
       "      <td>2.000000</td>\n",
       "      <td>0.200000</td>\n",
       "      <td>0.600000</td>\n",
       "      <td>4.700000</td>\n",
       "      <td>1.500000</td>\n",
       "      <td>0.100000</td>\n",
       "      <td>2.000000</td>\n",
       "      <td>0.000000</td>\n",
       "      <td>1.100000</td>\n",
       "      <td>0.000000</td>\n",
       "      <td>0.000000</td>\n",
       "    </tr>\n",
       "    <tr>\n",
       "      <th>25%</th>\n",
       "      <td>2.000000</td>\n",
       "      <td>420.500000</td>\n",
       "      <td>30.000000</td>\n",
       "      <td>30.950000</td>\n",
       "      <td>27.100000</td>\n",
       "      <td>13.700000</td>\n",
       "      <td>37.600000</td>\n",
       "      <td>37.000000</td>\n",
       "      <td>30.000000</td>\n",
       "      <td>3.600000</td>\n",
       "      <td>40.600000</td>\n",
       "      <td>0.750000</td>\n",
       "      <td>3.800000</td>\n",
       "    </tr>\n",
       "    <tr>\n",
       "      <th>50%</th>\n",
       "      <td>3.000000</td>\n",
       "      <td>595.000000</td>\n",
       "      <td>51.000000</td>\n",
       "      <td>66.400000</td>\n",
       "      <td>65.800000</td>\n",
       "      <td>15.000000</td>\n",
       "      <td>61.800000</td>\n",
       "      <td>60.700000</td>\n",
       "      <td>40.000000</td>\n",
       "      <td>13.500000</td>\n",
       "      <td>68.700000</td>\n",
       "      <td>1.600000</td>\n",
       "      <td>6.400000</td>\n",
       "    </tr>\n",
       "    <tr>\n",
       "      <th>75%</th>\n",
       "      <td>4.000000</td>\n",
       "      <td>851.000000</td>\n",
       "      <td>71.500000</td>\n",
       "      <td>88.000000</td>\n",
       "      <td>88.600000</td>\n",
       "      <td>16.700000</td>\n",
       "      <td>79.600000</td>\n",
       "      <td>80.250000</td>\n",
       "      <td>54.000000</td>\n",
       "      <td>28.350000</td>\n",
       "      <td>85.950000</td>\n",
       "      <td>3.100000</td>\n",
       "      <td>13.800000</td>\n",
       "    </tr>\n",
       "    <tr>\n",
       "      <th>max</th>\n",
       "      <td>5.000000</td>\n",
       "      <td>2314.000000</td>\n",
       "      <td>98.000000</td>\n",
       "      <td>99.800000</td>\n",
       "      <td>99.800000</td>\n",
       "      <td>111.000000</td>\n",
       "      <td>99.000000</td>\n",
       "      <td>98.900000</td>\n",
       "      <td>140.000000</td>\n",
       "      <td>97.400000</td>\n",
       "      <td>99.700000</td>\n",
       "      <td>21.100000</td>\n",
       "      <td>65.200000</td>\n",
       "    </tr>\n",
       "  </tbody>\n",
       "</table>\n",
       "</div>"
      ],
      "text/plain": [
       "       school_rating         size  reduced_lunch  state_percentile_16  \\\n",
       "count     347.000000   347.000000     347.000000           347.000000   \n",
       "mean        2.968300   699.472622      50.279539            58.801729   \n",
       "std         1.690377   400.598636      25.480236            32.540747   \n",
       "min         0.000000    53.000000       2.000000             0.200000   \n",
       "25%         2.000000   420.500000      30.000000            30.950000   \n",
       "50%         3.000000   595.000000      51.000000            66.400000   \n",
       "75%         4.000000   851.000000      71.500000            88.000000   \n",
       "max         5.000000  2314.000000      98.000000            99.800000   \n",
       "\n",
       "       state_percentile_15  stu_teach_ratio  avg_score_15  avg_score_16  \\\n",
       "count           341.000000       347.000000    341.000000    347.000000   \n",
       "mean             58.249267        15.461671     57.004692     57.049856   \n",
       "std              32.702630         5.725170     26.696450     27.968974   \n",
       "min               0.600000         4.700000      1.500000      0.100000   \n",
       "25%              27.100000        13.700000     37.600000     37.000000   \n",
       "50%              65.800000        15.000000     61.800000     60.700000   \n",
       "75%              88.600000        16.700000     79.600000     80.250000   \n",
       "max              99.800000       111.000000     99.000000     98.900000   \n",
       "\n",
       "       full_time_teachers  percent_black  percent_white  percent_asian  \\\n",
       "count          347.000000     347.000000     347.000000     347.000000   \n",
       "mean            44.939481      21.197983      61.673487       2.642651   \n",
       "std             22.053386      23.562538      27.274859       3.109629   \n",
       "min              2.000000       0.000000       1.100000       0.000000   \n",
       "25%             30.000000       3.600000      40.600000       0.750000   \n",
       "50%             40.000000      13.500000      68.700000       1.600000   \n",
       "75%             54.000000      28.350000      85.950000       3.100000   \n",
       "max            140.000000      97.400000      99.700000      21.100000   \n",
       "\n",
       "       percent_hispanic  \n",
       "count        347.000000  \n",
       "mean          11.164553  \n",
       "std           12.030608  \n",
       "min            0.000000  \n",
       "25%            3.800000  \n",
       "50%            6.400000  \n",
       "75%           13.800000  \n",
       "max           65.200000  "
      ]
     },
     "execution_count": 50,
     "metadata": {},
     "output_type": "execute_result"
    }
   ],
   "source": [
    "df.describe()"
   ]
  },
  {
   "cell_type": "markdown",
   "id": "56558ddf",
   "metadata": {},
   "source": [
    "Phase 2 - Group data by school ratings\n",
    "\n",
    "Chooses indicators that describe the student body (for example, reduced_lunch) or school administration (stu_teach_ratio) hoping they will explain school_rating. reduced_lunch is a variable measuring the average percentage of students per school enrolled in a federal program that provides lunches for students from lower-income households. In short, reduced_lunch is a good proxy for household income.Isolates ‘reduced_lunch’ and groups the data by ‘school_rating’ using pandas groupby method and then uses describe on the re-shaped data\n"
   ]
  },
  {
   "cell_type": "code",
   "execution_count": 51,
   "id": "7e9b6634",
   "metadata": {},
   "outputs": [
    {
     "data": {
      "text/plain": [
       "                      school_rating\n",
       "reduced_lunch  count  0.0              43.000000\n",
       "                      1.0              40.000000\n",
       "                      2.0              44.000000\n",
       "                      3.0              56.000000\n",
       "                      4.0              86.000000\n",
       "                      5.0              78.000000\n",
       "               mean   0.0              83.581395\n",
       "                      1.0              74.950000\n",
       "                      2.0              64.272727\n",
       "                      3.0              50.285714\n",
       "                      4.0              41.000000\n",
       "                      5.0              21.602564\n",
       "               std    0.0               8.813498\n",
       "                      1.0              11.644191\n",
       "                      2.0              11.956051\n",
       "                      3.0              13.550866\n",
       "                      4.0              16.681092\n",
       "                      5.0              17.651268\n",
       "               min    0.0              53.000000\n",
       "                      1.0              53.000000\n",
       "                      2.0              37.000000\n",
       "                      3.0              24.000000\n",
       "                      4.0               4.000000\n",
       "                      5.0               2.000000\n",
       "               25%    0.0              79.500000\n",
       "                      1.0              65.000000\n",
       "                      2.0              54.750000\n",
       "                      3.0              41.000000\n",
       "                      4.0              30.000000\n",
       "                      5.0               8.000000\n",
       "               50%    0.0              86.000000\n",
       "                      1.0              74.500000\n",
       "                      2.0              62.500000\n",
       "                      3.0              48.500000\n",
       "                      4.0              41.500000\n",
       "                      5.0              19.000000\n",
       "               75%    0.0              90.000000\n",
       "                      1.0              84.250000\n",
       "                      2.0              74.000000\n",
       "                      3.0              63.000000\n",
       "                      4.0              50.000000\n",
       "                      5.0              29.750000\n",
       "               max    0.0              98.000000\n",
       "                      1.0              98.000000\n",
       "                      2.0              88.000000\n",
       "                      3.0              78.000000\n",
       "                      4.0              87.000000\n",
       "                      5.0              87.000000\n",
       "dtype: float64"
      ]
     },
     "execution_count": 51,
     "metadata": {},
     "output_type": "execute_result"
    }
   ],
   "source": [
    "df[['reduced_lunch', 'school_rating']].groupby(['school_rating']).describe().unstack()"
   ]
  },
  {
   "cell_type": "markdown",
   "id": "32a8a6d9",
   "metadata": {},
   "source": [
    "Phase 3 – Correlation analysis\n",
    "\n",
    "Find the correlation between ‘reduced_lunch’ and ‘school_rating’. The values in the correlation matrix table will be between -1 and 1. A value of -1 indicates the strongest possible negative correlation, meaning as one variable decreases the other increases. And a value of 1 indicates the opposite.\n"
   ]
  },
  {
   "cell_type": "code",
   "execution_count": 52,
   "id": "c8662a46",
   "metadata": {},
   "outputs": [
    {
     "data": {
      "text/html": [
       "<div>\n",
       "<style scoped>\n",
       "    .dataframe tbody tr th:only-of-type {\n",
       "        vertical-align: middle;\n",
       "    }\n",
       "\n",
       "    .dataframe tbody tr th {\n",
       "        vertical-align: top;\n",
       "    }\n",
       "\n",
       "    .dataframe thead th {\n",
       "        text-align: right;\n",
       "    }\n",
       "</style>\n",
       "<table border=\"1\" class=\"dataframe\">\n",
       "  <thead>\n",
       "    <tr style=\"text-align: right;\">\n",
       "      <th></th>\n",
       "      <th>reduced_lunch</th>\n",
       "      <th>school_rating</th>\n",
       "    </tr>\n",
       "  </thead>\n",
       "  <tbody>\n",
       "    <tr>\n",
       "      <th>reduced_lunch</th>\n",
       "      <td>1.000000</td>\n",
       "      <td>-0.815757</td>\n",
       "    </tr>\n",
       "    <tr>\n",
       "      <th>school_rating</th>\n",
       "      <td>-0.815757</td>\n",
       "      <td>1.000000</td>\n",
       "    </tr>\n",
       "  </tbody>\n",
       "</table>\n",
       "</div>"
      ],
      "text/plain": [
       "               reduced_lunch  school_rating\n",
       "reduced_lunch       1.000000      -0.815757\n",
       "school_rating      -0.815757       1.000000"
      ]
     },
     "execution_count": 52,
     "metadata": {},
     "output_type": "execute_result"
    }
   ],
   "source": [
    "df[['reduced_lunch', 'school_rating']].corr()"
   ]
  },
  {
   "cell_type": "markdown",
   "id": "9d410a9b",
   "metadata": {},
   "source": [
    "\n",
    "Phase 4 – Scatter Plot\n",
    "\n",
    "Find the relationship between school_rating and reduced_lunch, Plot a graph with the two variables on a scatter plot. Each dot represents a school. The placement of the dot represents that school's rating (Y-axis) and the percentage of its students on reduced lunch (x-axis). The downward trend line shows the negative correlation between school_rating and reduced_lunch (as one increases, the other decreases). The slope of the trend line indicates how much school_rating decreases\n",
    "\n",
    "as reduced_lunch increases. A steeper slope would indicate that a small change in reduced_lunch has a big impact on school_rating while a more horizontal slope would indicate that the same small change in reduced_lunch has a smaller impact on school_rating.\n"
   ]
  },
  {
   "cell_type": "code",
   "execution_count": 61,
   "id": "4f1bbec6",
   "metadata": {},
   "outputs": [
    {
     "data": {
      "image/png": "[encoded data removed]",
      "text/plain": [
       "<Figure size 1400x800 with 1 Axes>"
      ]
     },
     "metadata": {},
     "output_type": "display_data"
    }
   ],
   "source": [
    "plt.figure(figsize=(14,8))\n",
    "sns.regplot(data = df,x='reduced_lunch',y='school_rating')\n",
    "plt.show()"
   ]
  },
  {
   "cell_type": "markdown",
   "id": "fa63c796",
   "metadata": {},
   "source": [
    "Phase 5 – Correlation Matrix\n",
    "\n",
    "An efficient graph for assessing relationships is the correlation matrix, as seen below; its color-coded cells make it easier to interpret than the tabular correlation matrix above. Red cells indicate positive correlation; blue cells indicate negative correlation; white cells indicate no correlation. The darker the colors, the stronger the correlation (positive or negative) between those two variables. Draw a graph of correlation matrix having all important fields of data frame.\n"
   ]
  },
  {
   "cell_type": "code",
   "execution_count": 62,
   "id": "16da8c72",
   "metadata": {},
   "outputs": [],
   "source": [
    "df1 =df.drop('name',axis =1).drop('school_type',axis =1)"
   ]
  },
  {
   "cell_type": "code",
   "execution_count": 66,
   "id": "1ed42511",
   "metadata": {},
   "outputs": [
    {
     "data": {
      "image/png": "[encoded data removed]",
      "text/plain": [
       "<Figure size 640x480 with 2 Axes>"
      ]
     },
     "metadata": {},
     "output_type": "display_data"
    }
   ],
   "source": [
    "corr = df1.corr()\n",
    "# graph correlation matrix\n",
    "sns.heatmap(corr,xticklabels=corr.columns.values, yticklabels=corr.columns.values)\n",
    "plt.show()\n"
   ]
  },
  {
   "cell_type": "code",
   "execution_count": null,
   "id": "def9dd34",
   "metadata": {},
   "outputs": [],
   "source": []
  },
  {
   "cell_type": "code",
   "execution_count": null,
   "id": "233c9fd9",
   "metadata": {},
   "outputs": [],
   "source": []
  }
 ],
 "metadata": {
  "kernelspec": {
   "display_name": "Python 3 (ipykernel)",
   "language": "python",
   "name": "python3"
  },
  "language_info": {
   "codemirror_mode": {
    "name": "ipython",
    "version": 3
   },
   "file_extension": ".py",
   "mimetype": "text/x-python",
   "name": "python",
   "nbconvert_exporter": "python",
   "pygments_lexer": "ipython3",
   "version": "3.11.5"
  }
 },
 "nbformat": 4,
 "nbformat_minor": 5
}
