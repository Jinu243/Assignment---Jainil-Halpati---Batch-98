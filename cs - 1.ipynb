{
 "cells": [
  {
   "cell_type": "markdown",
   "id": "8a026a06",
   "metadata": {},
   "source": [
    "1. Write a Python program to get the Python version you are using."
   ]
  },
  {
   "cell_type": "code",
   "execution_count": 8,
   "id": "8d41a441",
   "metadata": {},
   "outputs": [],
   "source": [
    "import sys"
   ]
  },
  {
   "cell_type": "code",
   "execution_count": 9,
   "id": "8e5d27aa",
   "metadata": {},
   "outputs": [
    {
     "name": "stdout",
     "output_type": "stream",
     "text": [
      "python Version\n",
      "3.11.5 | packaged by Anaconda, Inc. | (main, Sep 11 2023, 13:26:23) [MSC v.1916 64 bit (AMD64)]\n",
      "Version info.\n",
      "sys.version_info(major=3, minor=11, micro=5, releaselevel='final', serial=0)\n"
     ]
    }
   ],
   "source": [
    "print('python Version')\n",
    "print(sys.version)\n",
    "print('Version info.')\n",
    "print(sys.version_info)"
   ]
  },
  {
   "cell_type": "markdown",
   "id": "353618b1",
   "metadata": {},
   "source": [
    "List all modules in Python "
   ]
  },
  {
   "cell_type": "code",
   "execution_count": 10,
   "id": "e8aad97d",
   "metadata": {},
   "outputs": [
    {
     "name": "stdout",
     "output_type": "stream",
     "text": [
      "\n",
      "Please wait a moment while I gather a list of all available modules...\n",
      "\n",
      "IPython             commctrl            mccabe              smtplib\n",
      "OpenSSL             compileall          mdit_py_plugins     snappy\n",
      "PIL                 concurrent          mdurl               sndhdr\n",
      "PyQt5               conda               menuinst            sniffio\n",
      "TBB                 conda_build         mimetypes           snowballstemmer\n",
      "__future__          conda_content_trust mistune             socket\n",
      "__hello__           conda_env           mkl                 socketserver\n",
      "__phello__          conda_index         mkl_fft             socks\n",
      "_abc                conda_libmamba_solver mmap                sockshandler\n",
      "_aix_support        conda_pack          mmapfile            sortedcontainers\n",
      "_argon2_cffi_bindings conda_package_handling mmsystem            soupsieve\n",
      "_ast                conda_package_streaming modulefinder        sphinx\n",
      "_asyncio            conda_token         more_itertools      sphinxify\n",
      "_bisect             conda_verify        mpmath              sphinxthread\n",
      "_black_version      conf                msgpack             spyder\n",
      "_blake2             configparser        msilib              spyder_kernels\n",
      "_bootsubprocess     constantly          msvcrt              sqlalchemy\n",
      "_bz2                contextlib          multidict           sqlite3\n",
      "_cffi_backend       contextvars         multipledispatch    sre_compile\n",
      "_codecs             contourpy           multiprocess        sre_constants\n",
      "_codecs_cn          cookiecutter        multiprocessing     sre_parse\n",
      "_codecs_hk          copy                munkres             ssl\n",
      "_codecs_iso2022     copyreg             mypy_extensions     sspi\n",
      "_codecs_jp          cpuinfo             mysql               sspicon\n",
      "_codecs_kr          crypt               nacl                stack_data\n",
      "_codecs_tw          cryptography        navigator_updater   stat\n",
      "_collections        cssselect           nbclassic           statistics\n",
      "_collections_abc    csv                 nbclient            statsmodels\n",
      "_compat_pickle      ctypes              nbconvert           string\n",
      "_compression        cufflinks           nbformat            stringprep\n",
      "_contextvars        curl                nest_asyncio        struct\n",
      "_csv                curses              netbios             subprocess\n",
      "_ctypes             cwp                 netrc               sunau\n",
      "_ctypes_test        cycler              networkx            sympy\n",
      "_datetime           cytoolz             nltk                symtable\n",
      "_decimal            daal4py             nntplib             sys\n",
      "_distutils_hack     dask                notebook            sysconfig\n",
      "_elementtree        dataclasses         notebook_shim       tables\n",
      "_functools          datasets            nt                  tabnanny\n",
      "_hashlib            datashader          ntpath              tabulate\n",
      "_heapq              datashape           ntsecuritycon       tarfile\n",
      "_imp                datetime            nturl2path          tbb\n",
      "_io                 dateutil            numba               tblib\n",
      "_json               dbi                 numbergen           telnetlib\n",
      "_locale             dbm                 numbers             tempfile\n",
      "_lsprof             dde                 numexpr             tenacity\n",
      "_lzma               debugpy             numpy               terminado\n",
      "_markupbase         decimal             numpydoc            test\n",
      "_md5                decorator           odbc                test_pycosat\n",
      "_msi                defusedxml          onedal              text_unidecode\n",
      "_multibytecodec     diff_match_patch    opcode              textdistance\n",
      "_multiprocess       difflib             openpyxl            textwrap\n",
      "_multiprocessing    dill                operator            this\n",
      "_mysql_connector    dis                 optparse            threading\n",
      "_nsis               distributed         os                  threadpoolctl\n",
      "_opcode             distutils           packaging           three_merge\n",
      "_operator           docstring_to_markdown pandas              tifffile\n",
      "_osx_support        doctest             pandocfilters       time\n",
      "_overlapped         docutils            panel               timeit\n",
      "_pickle             dotenv              param               timer\n",
      "_plotly_future_     email               paramiko            tinycss2\n",
      "_plotly_utils       encodings           parsel              tkinter\n",
      "_py_abc             ensurepip           parso               tldextract\n",
      "_pydecimal          entrypoints         partd               tlz\n",
      "_pyio               enum                past                token\n",
      "_pyrsistent_version erfa                pathlib             tokenize\n",
      "_pytest             errno               pathspec            tokenizers\n",
      "_queue              et_xmlfile          patsy               toml\n",
      "_random             executing           pdb                 tomlkit\n",
      "_sha1               fastjsonschema      pep8                tomllib\n",
      "_sha256             faulthandler        perfmon             toolz\n",
      "_sha3               filecmp             pexpect             tornado\n",
      "_sha512             fileinput           pickle              tqdm\n",
      "_signal             filelock            pickleshare         trace\n",
      "_sitebuiltins       flake8              pickletools         traceback\n",
      "_socket             flask               pip                 tracemalloc\n",
      "_sqlite3            fnmatch             pipes               traitlets\n",
      "_sre                fontTools           pkce                transformers\n",
      "_ssl                fractions           pkg_resources       tty\n",
      "_stat               frozenlist          pkginfo             turtle\n",
      "_statistics         fsspec              pkgutil             turtledemo\n",
      "_string             ftplib              platform            twisted\n",
      "_strptime           functools           platformdirs        types\n",
      "_struct             future              plistlib            typing\n",
      "_symtable           gc                  plotly              typing_extensions\n",
      "_system_path        genericpath         pluggy              tzdata\n",
      "_testbuffer         gensim              ply                 uc_micro\n",
      "_testcapi           getopt              poplib              ujson\n",
      "_testconsole        getpass             posixpath           unicodedata\n",
      "_testimportmultiple gettext             poyo                unidecode\n",
      "_testinternalcapi   glob                pprint              unittest\n",
      "_testmultiphase     glob2               profile             urllib\n",
      "_thread             graphlib            prometheus_client   urllib3\n",
      "_threading_local    greenlet            prompt_toolkit      uu\n",
      "_tkinter            gzip                protego             uuid\n",
      "_tokenize           h11                 pstats              venv\n",
      "_tracemalloc        h5py                psutil              w3lib\n",
      "_typing             hashlib             pty                 warnings\n",
      "_uuid               heapdict            ptyprocess          watchdog\n",
      "_warnings           heapq               pure_eval           wave\n",
      "_weakref            hmac                pvectorc            wcwidth\n",
      "_weakrefset         holoviews           py                  weakref\n",
      "_win32sysloader     html                py_compile          webbrowser\n",
      "_winapi             http                pyarrow             webencodings\n",
      "_winxptheme         httpcore            pyasn1              websocket\n",
      "_xxsubinterpreters  httpx               pyasn1_modules      werkzeug\n",
      "_yaml               huggingface_hub     pyclbr              whatthepatch\n",
      "_zoneinfo           hvplot              pycodestyle         wheel\n",
      "abc                 hyperlink           pycosat             widgetsnbextension\n",
      "adodbapi            idlelib             pycparser           win2kras\n",
      "aext_assistant      idna                pyct                win32api\n",
      "aext_assistant_server imagecodecs         pycurl              win32clipboard\n",
      "aext_core           imageio             pydantic            win32com\n",
      "aext_core_server    imagesize           pydispatch          win32con\n",
      "aext_shared         imaplib             pydoc               win32console\n",
      "afxres              imblearn            pydoc_data          win32cred\n",
      "aifc                imghdr              pydocstyle          win32crypt\n",
      "aiobotocore         imp                 pyexpat             win32cryptcon\n",
      "aiofiles            importlib           pyflakes            win32ctypes\n",
      "aiohttp             importlib_metadata  pygments            win32event\n",
      "aioitertools        incremental         pylab               win32evtlog\n",
      "aiosignal           inflection          pylint              win32evtlogutil\n",
      "aiosqlite           iniconfig           pylint_venv         win32file\n",
      "alabaster           inspect             pyls_spyder         win32gui\n",
      "anaconda_anon_usage intake              pylsp               win32gui_struct\n",
      "anaconda_catalogs   intervaltree        pylsp_black         win32help\n",
      "anaconda_cloud_auth io                  pylsp_jsonrpc       win32inet\n",
      "anaconda_navigator  ipaddress           pyodbc              win32inetcon\n",
      "anaconda_project    ipykernel           pyparsing           win32job\n",
      "antigravity         ipykernel_launcher  pyrsistent          win32lz\n",
      "anyio               ipython_genutils    pytest              win32net\n",
      "appdirs             ipywidgets          pythoncom           win32netcon\n",
      "argon2              isapi               pythonjsonlogger    win32pdh\n",
      "argparse            isort               pytoolconfig        win32pdhquery\n",
      "array               isympy              pytz                win32pdhutil\n",
      "arrow               itemadapter         pyviz_comms         win32pipe\n",
      "ast                 itemloaders         pywin               win32print\n",
      "astroid             itertools           pywin32_bootstrap   win32process\n",
      "astropy             itsdangerous        pywin32_testutil    win32profile\n",
      "asttokens           jedi                pywintypes          win32ras\n",
      "async_timeout       jellyfish           pywt                win32rcparser\n",
      "asynchat            jinja2              qdarkstyle          win32security\n",
      "asyncio             jinja2_time         qstylizer           win32service\n",
      "asyncore            jmespath            qtawesome           win32serviceutil\n",
      "atexit              joblib              qtconsole           win32timezone\n",
      "atomicwrites        json                qtpy                win32trace\n",
      "attr                json5               queue               win32traceutil\n",
      "attrs               jsonpatch           queuelib            win32transaction\n",
      "audioop             jsonpointer         quopri              win32ts\n",
      "automat             jsonschema          random              win32ui\n",
      "autopep8            jupyter             random_number       win32uiole\n",
      "babel               jupyter_client      rasutil             win32verstamp\n",
      "backcall            jupyter_console     re                  win32wnet\n",
      "backports           jupyter_core        regcheck            win_inet_pton\n",
      "base64              jupyter_events      regex               winerror\n",
      "bcrypt              jupyter_server      regutil             winioctlcon\n",
      "bdb                 jupyter_server_fileid repo_cli            winnt\n",
      "binaryornot         jupyter_server_ydoc reprlib             winperf\n",
      "binascii            jupyter_ydoc        requests            winpty\n",
      "binstar_client      jupyterlab          requests_file       winreg\n",
      "bisect              jupyterlab_plotly   requests_toolbelt   winsound\n",
      "black               jupyterlab_pygments responses           winxpgui\n",
      "blackd              jupyterlab_server   rfc3339_validator   winxptheme\n",
      "bleach              jupyterlab_widgets  rfc3986_validator   wrapt\n",
      "blib2to3            jwt                 rlcompleter         wsgiref\n",
      "bokeh               kaleido             rope                xarray\n",
      "boltons             keyring             rtree               xdrlib\n",
      "botocore            keyword             ruamel_yaml         xlwings\n",
      "bottleneck          kiwisolver          runpy               xml\n",
      "brotli              lazy_loader         s3fs                xmlrpc\n",
      "bs4                 lazy_object_proxy   safetensors         xxhash\n",
      "builtins            lib2to3             sched               xxlimited\n",
      "bz2                 libarchive          scipy               xxlimited_35\n",
      "cProfile            libfuturize         scrapy              xxsubtype\n",
      "calendar            libmambapy          seaborn             xyzservices\n",
      "certifi             libpasteurize       secrets             y_py\n",
      "cffi                lief                select              yaml\n",
      "cgi                 linecache           selectors           yapf\n",
      "cgitb               linkify_it          semver              yapftests\n",
      "chardet             llvmlite            send2trash          yarl\n",
      "charset_normalizer  lmdb                service_identity    ypy_websocket\n",
      "chunk               locale              servicemanager      zict\n",
      "click               locket              setuptools          zipapp\n",
      "cloudpickle         logging             shelve              zipfile\n",
      "clyent              lxml                shlex               zipimport\n",
      "cmath               lz4                 shutil              zipp\n",
      "cmd                 lzma                signal              zlib\n",
      "code                mailbox             sipbuild            zmq\n",
      "codecs              mailcap             site                zoneinfo\n",
      "codeop              markdown            six                 zope\n",
      "collections         markdown_it         skimage             zstandard\n",
      "colorama            markupsafe          sklearn             ~lotly\n",
      "colorcet            marshal             sklearnex           ~plotly_future_\n",
      "colorlover          math                slugify             ~plotly_utils\n",
      "colorsys            matplotlib          smart_open          ~upyterlab_plotly\n",
      "comm                matplotlib_inline   smtpd               \n",
      "\n",
      "Enter any module name to get more help.  Or, type \"modules spam\" to search\n",
      "for modules whose name or summary contain the string \"spam\".\n",
      "\n"
     ]
    }
   ],
   "source": [
    "help('modules')"
   ]
  },
  {
   "cell_type": "markdown",
   "id": "09b1c14c",
   "metadata": {},
   "source": [
    "2. Write a Python program to display the current date and time.\n"
   ]
  },
  {
   "cell_type": "code",
   "execution_count": 11,
   "id": "650947af",
   "metadata": {},
   "outputs": [],
   "source": [
    "import datetime"
   ]
  },
  {
   "cell_type": "code",
   "execution_count": 12,
   "id": "ca05cf31",
   "metadata": {},
   "outputs": [],
   "source": [
    "now_1 = datetime.datetime.now()"
   ]
  },
  {
   "cell_type": "code",
   "execution_count": 13,
   "id": "09c47500",
   "metadata": {},
   "outputs": [
    {
     "data": {
      "text/plain": [
       "datetime.datetime(2024, 4, 26, 21, 30, 58, 537205)"
      ]
     },
     "execution_count": 13,
     "metadata": {},
     "output_type": "execute_result"
    }
   ],
   "source": [
    "now_1"
   ]
  },
  {
   "cell_type": "code",
   "execution_count": 15,
   "id": "953733e3",
   "metadata": {},
   "outputs": [
    {
     "name": "stdout",
     "output_type": "stream",
     "text": [
      "Current date and time : \n",
      "2024-04-26 21:31:15\n"
     ]
    }
   ],
   "source": [
    "now_2 = datetime.datetime.now()\n",
    "print (\"Current date and time : \")\n",
    "print (now_2.strftime(\"%Y-%m-%d %H:%M:%S\"))\n"
   ]
  },
  {
   "cell_type": "markdown",
   "id": "81e0ddc0",
   "metadata": {},
   "source": [
    "3. Write a Python program which accepts the radius of a circle from the user and compute the area."
   ]
  },
  {
   "cell_type": "code",
   "execution_count": 16,
   "id": "205135c7",
   "metadata": {},
   "outputs": [
    {
     "name": "stdout",
     "output_type": "stream",
     "text": [
      "Enter the radius of a circle: 3\n",
      "28.27431\n"
     ]
    }
   ],
   "source": [
    "radius = int(input(('Enter the radius of a circle: ')))\n",
    "\n",
    "Area = 3.14159 * (radius**2)\n",
    "print(Area)"
   ]
  },
  {
   "cell_type": "markdown",
   "id": "65d649e7",
   "metadata": {},
   "source": [
    "4.Write a Python program which accepts the user's first and last name and print them in reverse order with a space between them "
   ]
  },
  {
   "cell_type": "code",
   "execution_count": 17,
   "id": "ac975052",
   "metadata": {},
   "outputs": [
    {
     "name": "stdout",
     "output_type": "stream",
     "text": [
      "Enter your First Name: hello hi\n",
      "Enter your Last Name: hi hello\n",
      "hi hello hello hi\n"
     ]
    }
   ],
   "source": [
    "first_name = input('Enter your First Name: ')\n",
    "last_name = input('Enter your Last Name: ')\n",
    "\n",
    "print(f'{last_name} {first_name}')"
   ]
  },
  {
   "cell_type": "markdown",
   "id": "126de3d2",
   "metadata": {},
   "source": [
    "5.Write a Python program which accepts a sequence of comma-separated numbers from user and generate a list and a tuple with those numbers\n"
   ]
  },
  {
   "cell_type": "code",
   "execution_count": 18,
   "id": "5f33bf6b",
   "metadata": {},
   "outputs": [
    {
     "name": "stdout",
     "output_type": "stream",
     "text": [
      "Enter a Sequence: hello how are you\n"
     ]
    }
   ],
   "source": [
    "sequence = input('Enter a Sequence: ')\n",
    "sequence_split=sequence.split()\n"
   ]
  },
  {
   "cell_type": "code",
   "execution_count": 21,
   "id": "f71a234f",
   "metadata": {},
   "outputs": [
    {
     "name": "stdout",
     "output_type": "stream",
     "text": [
      "['hello', 'how', 'are', 'you']\n"
     ]
    }
   ],
   "source": [
    "print(list(sequence_split))"
   ]
  },
  {
   "cell_type": "code",
   "execution_count": 22,
   "id": "504a4932",
   "metadata": {},
   "outputs": [
    {
     "name": "stdout",
     "output_type": "stream",
     "text": [
      "('hello', 'how', 'are', 'you')\n"
     ]
    }
   ],
   "source": [
    "print(tuple(sequence_split))"
   ]
  },
  {
   "cell_type": "markdown",
   "id": "6c896b84",
   "metadata": {},
   "source": [
    "6.Write a Python program to accept a filename from the user and print the extension of that.\n"
   ]
  },
  {
   "cell_type": "code",
   "execution_count": 31,
   "id": "6585fc32",
   "metadata": {},
   "outputs": [
    {
     "name": "stdout",
     "output_type": "stream",
     "text": [
      "Enter your file name: hello.Java\n"
     ]
    }
   ],
   "source": [
    "filename = input('Enter your file name: ')\n",
    "filename_split = filename.split('.')"
   ]
  },
  {
   "cell_type": "code",
   "execution_count": 32,
   "id": "c4781d92",
   "metadata": {},
   "outputs": [
    {
     "name": "stdout",
     "output_type": "stream",
     "text": [
      "Your File Extention is :- Java\n"
     ]
    }
   ],
   "source": [
    "print(f'Your File Extention is :- {filename_split[-1]}')"
   ]
  },
  {
   "cell_type": "markdown",
   "id": "c4fc42f8",
   "metadata": {},
   "source": [
    "\n",
    "\n",
    "7.Write a Python program to display the first and last colors from the following list.\n"
   ]
  },
  {
   "cell_type": "code",
   "execution_count": 33,
   "id": "e7c7e32b",
   "metadata": {},
   "outputs": [
    {
     "name": "stdout",
     "output_type": "stream",
     "text": [
      "['Red', 'Black']\n"
     ]
    }
   ],
   "source": [
    "color_list = [\"Red\",\"Green\",\"White\" ,\"Black\"]\n",
    "\n",
    "lst = [color_list[0],color_list[-1]]\n",
    "print(lst)"
   ]
  },
  {
   "cell_type": "markdown",
   "id": "ff95aa20",
   "metadata": {},
   "source": [
    "8.Write a Python program that accepts an integer (n) and computes the value of n+nn+nnn."
   ]
  },
  {
   "cell_type": "code",
   "execution_count": 1,
   "id": "a18f88ea",
   "metadata": {},
   "outputs": [
    {
     "name": "stdout",
     "output_type": "stream",
     "text": [
      "Enter a value of n: 5\n",
      "The value of n in the form of n+nn+nnn is 615\n"
     ]
    }
   ],
   "source": [
    "integer = int(input('Enter a value of n: '))\n",
    "\n",
    "result = integer+(integer*11)+(integer*111)\n",
    "\n",
    "print(f'The value of n in the form of n+nn+nnn is {result}')"
   ]
  },
  {
   "cell_type": "markdown",
   "id": "b87be90b",
   "metadata": {},
   "source": [
    "9.Write a Python program to get the volume of a sphere with radius 6."
   ]
  },
  {
   "cell_type": "code",
   "execution_count": 5,
   "id": "7206616f",
   "metadata": {},
   "outputs": [
    {
     "name": "stdout",
     "output_type": "stream",
     "text": [
      "the Volumne of the sphere with the given radius is :- 904.3199999999999\n"
     ]
    }
   ],
   "source": [
    "radius = 6\n",
    "\n",
    "Volume = (4/3)*(3.14)*(radius**3)\n",
    "\n",
    "print(f'the Volumne of the sphere with the given radius is :- {Volume}')"
   ]
  },
  {
   "cell_type": "markdown",
   "id": "13d81cce",
   "metadata": {},
   "source": [
    "10. Write a Python program to convert seconds to day, hour, minutes and seconds."
   ]
  },
  {
   "cell_type": "code",
   "execution_count": 8,
   "id": "28e8a364",
   "metadata": {},
   "outputs": [
    {
     "name": "stdout",
     "output_type": "stream",
     "text": [
      "seconds converter: 60\n",
      "60 seconds are converted to 0.0006944444444444445 days, 0.016666666666666666 hours and 1.0 minutes\n"
     ]
    }
   ],
   "source": [
    "seconds = int(input('seconds converter: '))\n",
    "\n",
    "day = seconds/86400\n",
    "hour = seconds/3600\n",
    "minutes = seconds/60\n",
    "\n",
    "print(f'{seconds} seconds are converted to {day} days, {hour} hours and {minutes} minutes')"
   ]
  },
  {
   "cell_type": "code",
   "execution_count": null,
   "id": "716eef67",
   "metadata": {},
   "outputs": [],
   "source": []
  }
 ],
 "metadata": {
  "kernelspec": {
   "display_name": "Python 3 (ipykernel)",
   "language": "python",
   "name": "python3"
  },
  "language_info": {
   "codemirror_mode": {
    "name": "ipython",
    "version": 3
   },
   "file_extension": ".py",
   "mimetype": "text/x-python",
   "name": "python",
   "nbconvert_exporter": "python",
   "pygments_lexer": "ipython3",
   "version": "3.11.5"
  }
 },
 "nbformat": 4,
 "nbformat_minor": 5
}
