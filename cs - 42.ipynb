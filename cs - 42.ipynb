{
 "cells": [
  {
   "cell_type": "markdown",
   "id": "3dee7d00-6970-4c88-80bc-ec38bed182b0",
   "metadata": {},
   "source": [
    "Dimension Reduction – LDA \n",
    "Case Study -1 (CS 42)\n",
    "Case Study\n",
    "\n",
    "\n",
    "Objective:\n",
    "\n",
    "\n",
    "\n",
    "•\tUnderstand and practice linear discriminant analysis using scikit learn.\n",
    "\n",
    "\n",
    "\n",
    "\n",
    "\n",
    "Questions:\n",
    "\n",
    "\n",
    "\n",
    "1.\tWe shall use the same dataset used in previous assignment - digits. Make a 80-20 train/test split.\n",
    "\n",
    "[Hint: Explore datasets module from scikit learn]\n",
    "\n",
    "\n",
    "\n",
    "2.\tUsing scikit learn perform a LDA on the dataset. Find out the number of components in the projected subspace.\n",
    "\n",
    "[Hint: Refer to discriminant analysis module of scikit learn]\n",
    "\n",
    "\n",
    "\n",
    "3.\tTransform the dataset and fit a logistic regression and observe the accuracy. Compare it with the previous model based on PCA in terms of accuracy and model complexity.\n",
    "\n",
    "[Hint: Project both the train and test samples to the new subspace]"
   ]
  },
  {
   "cell_type": "code",
   "execution_count": 1,
   "id": "55aad92e-3cb1-4ad3-a704-9e9ea71d7ac8",
   "metadata": {},
   "outputs": [],
   "source": [
    "import sklearn\n",
    "from sklearn.datasets import  load_digits\n",
    "from sklearn.model_selection import train_test_split\n",
    "from sklearn.discriminant_analysis import LinearDiscriminantAnalysis as lda\n",
    "from sklearn.linear_model import LogisticRegression\n",
    "from sklearn.metrics import classification_report\n",
    "from sklearn.metrics import confusion_matrix\n",
    "from sklearn.metrics import accuracy_score\n",
    "import numpy as np"
   ]
  },
  {
   "cell_type": "code",
   "execution_count": 2,
   "id": "651e8b74-9b05-44ec-98f2-34dbbf83d403",
   "metadata": {},
   "outputs": [],
   "source": [
    "digits = load_digits()\n",
    "\n",
    "X = digits.data\n",
    "y = digits.target"
   ]
  },
  {
   "cell_type": "code",
   "execution_count": 3,
   "id": "3cf496a6-014f-4984-8927-54348144af6a",
   "metadata": {},
   "outputs": [
    {
     "name": "stdout",
     "output_type": "stream",
     "text": [
      "(1437, 64)\n"
     ]
    }
   ],
   "source": [
    "X_train, X_test, y_train, y_test = train_test_split(X, y, test_size=0.2, random_state=1)\n",
    "print(X_train.shape)"
   ]
  },
  {
   "cell_type": "code",
   "execution_count": 4,
   "id": "dab8814c-4f29-44b5-8b81-031b2cc0e811",
   "metadata": {},
   "outputs": [
    {
     "name": "stdout",
     "output_type": "stream",
     "text": [
      "(1437, 9)\n",
      "Number of components in transformed shape 9\n"
     ]
    }
   ],
   "source": [
    "sklearn_lda = lda()\n",
    "sklearn_lda.fit(X_train,y_train)\n",
    "X_train = sklearn_lda.transform(X_train)\n",
    "print (X_train.shape)\n",
    "print(\"Number of components in transformed shape {}\".format(X_train.shape[1]))"
   ]
  },
  {
   "cell_type": "code",
   "execution_count": 5,
   "id": "e7b27db6-196b-40cc-8590-0d93d1c0801f",
   "metadata": {},
   "outputs": [
    {
     "name": "stdout",
     "output_type": "stream",
     "text": [
      "(360, 9)\n"
     ]
    }
   ],
   "source": [
    "X_test =sklearn_lda.transform(X_test)\n",
    "print(X_test.shape)"
   ]
  },
  {
   "cell_type": "code",
   "execution_count": 6,
   "id": "3da1e676-4fb3-4160-b96b-88491b19d94b",
   "metadata": {},
   "outputs": [],
   "source": [
    "lr = LogisticRegression()\n",
    "lr.fit(X_train,y_train)\n",
    "y_predict = lr.predict(X_test)"
   ]
  },
  {
   "cell_type": "code",
   "execution_count": 7,
   "id": "3205e73e-1b84-4c1b-8877-b92b03bb4947",
   "metadata": {},
   "outputs": [
    {
     "name": "stdout",
     "output_type": "stream",
     "text": [
      "0.95\n"
     ]
    }
   ],
   "source": [
    "print (accuracy_score(y_predict,y_test))"
   ]
  },
  {
   "cell_type": "code",
   "execution_count": 8,
   "id": "02a55d08-fb3c-4704-8b83-c2431e25bcd0",
   "metadata": {},
   "outputs": [
    {
     "name": "stdout",
     "output_type": "stream",
     "text": [
      "[[41  0  0  0  0  0  0  0  0  0]\n",
      " [ 0 32  1  0  0  1  0  1  0  0]\n",
      " [ 0  0 35  0  0  0  0  0  0  0]\n",
      " [ 0  0  0 40  0  0  0  0  0  0]\n",
      " [ 1  1  0  0 38  0  0  1  0  1]\n",
      " [ 0  0  0  0  0 28  0  0  1  1]\n",
      " [ 1  0  0  0  0  0 37  0  0  0]\n",
      " [ 0  0  0  0  0  0  0 34  0  0]\n",
      " [ 0  1  0  1  0  0  0  0 26  1]\n",
      " [ 0  1  0  0  0  1  0  1  2 31]]\n"
     ]
    }
   ],
   "source": [
    "conf_mat =confusion_matrix(y_predict,y_test)\n",
    "print (conf_mat)"
   ]
  },
  {
   "cell_type": "code",
   "execution_count": 9,
   "id": "5b5665b0-fe8e-4ab4-904c-c91c76841362",
   "metadata": {},
   "outputs": [
    {
     "name": "stdout",
     "output_type": "stream",
     "text": [
      "              precision    recall  f1-score   support\n",
      "\n",
      "           0       0.95      1.00      0.98        41\n",
      "           1       0.91      0.91      0.91        35\n",
      "           2       0.97      1.00      0.99        35\n",
      "           3       0.98      1.00      0.99        40\n",
      "           4       1.00      0.90      0.95        42\n",
      "           5       0.93      0.93      0.93        30\n",
      "           6       1.00      0.97      0.99        38\n",
      "           7       0.92      1.00      0.96        34\n",
      "           8       0.90      0.90      0.90        29\n",
      "           9       0.91      0.86      0.89        36\n",
      "\n",
      "    accuracy                           0.95       360\n",
      "   macro avg       0.95      0.95      0.95       360\n",
      "weighted avg       0.95      0.95      0.95       360\n",
      "\n"
     ]
    }
   ],
   "source": [
    "print (classification_report(y_predict,y_test))"
   ]
  },
  {
   "cell_type": "code",
   "execution_count": 10,
   "id": "6bd6a2cb-8597-464f-af93-a274f00803ef",
   "metadata": {},
   "outputs": [
    {
     "data": {
      "text/plain": [
       "(array([ 21,  58,  88, 108, 130, 155, 172, 173, 174, 178, 193, 208, 249,\n",
       "        281, 285, 320, 321, 347], dtype=int64),)"
      ]
     },
     "execution_count": 10,
     "metadata": {},
     "output_type": "execute_result"
    }
   ],
   "source": [
    "np.where(y_predict != y_test)"
   ]
  },
  {
   "cell_type": "code",
   "execution_count": null,
   "id": "158ff553-4bc1-4e14-b24a-6ac0d354aef2",
   "metadata": {},
   "outputs": [],
   "source": []
  }
 ],
 "metadata": {
  "kernelspec": {
   "display_name": "Python 3 (ipykernel)",
   "language": "python",
   "name": "python3"
  },
  "language_info": {
   "codemirror_mode": {
    "name": "ipython",
    "version": 3
   },
   "file_extension": ".py",
   "mimetype": "text/x-python",
   "name": "python",
   "nbconvert_exporter": "python",
   "pygments_lexer": "ipython3",
   "version": "3.12.7"
  }
 },
 "nbformat": 4,
 "nbformat_minor": 5
}
