{
 "cells": [
  {
   "cell_type": "markdown",
   "id": "a85aeba9",
   "metadata": {},
   "source": [
    "1. Write a Python program to count the number 4 in a given list."
   ]
  },
  {
   "cell_type": "code",
   "execution_count": 1,
   "id": "c4a69f10",
   "metadata": {},
   "outputs": [],
   "source": [
    "lst_1 = [1, 4, 6, 7, 4]\n",
    "lst_2 = [1, 4, 6, 4, 7, 4]"
   ]
  },
  {
   "cell_type": "code",
   "execution_count": 2,
   "id": "06a2ec4a",
   "metadata": {},
   "outputs": [
    {
     "data": {
      "text/plain": [
       "2"
      ]
     },
     "execution_count": 2,
     "metadata": {},
     "output_type": "execute_result"
    }
   ],
   "source": [
    "lst_1.count(4)"
   ]
  },
  {
   "cell_type": "code",
   "execution_count": 3,
   "id": "ffc35219",
   "metadata": {},
   "outputs": [
    {
     "data": {
      "text/plain": [
       "3"
      ]
     },
     "execution_count": 3,
     "metadata": {},
     "output_type": "execute_result"
    }
   ],
   "source": [
    "lst_2.count(4)"
   ]
  },
  {
   "cell_type": "markdown",
   "id": "be663693",
   "metadata": {},
   "source": [
    "2. Write a Python program to test whether a passed letter is a vowel or not. "
   ]
  },
  {
   "cell_type": "code",
   "execution_count": 7,
   "id": "3205156c",
   "metadata": {},
   "outputs": [],
   "source": [
    "def vowels(letter):\n",
    "    if letter == ('a'or'e'or'i'or'o'or'u'):\n",
    "        return (f'The given letter {letter} is a Vowel')\n",
    "    else:\n",
    "        return (f'The given letter {letter} is not a Vowel')"
   ]
  },
  {
   "cell_type": "code",
   "execution_count": 10,
   "id": "4e5bb99a",
   "metadata": {},
   "outputs": [
    {
     "name": "stdout",
     "output_type": "stream",
     "text": [
      "Enter a letter: B\n"
     ]
    },
    {
     "data": {
      "text/plain": [
       "'The given letter b is not a Vowel'"
      ]
     },
     "execution_count": 10,
     "metadata": {},
     "output_type": "execute_result"
    }
   ],
   "source": [
    "letter = input('Enter a letter: ').lower()\n",
    "vowels(letter)"
   ]
  },
  {
   "cell_type": "markdown",
   "id": "ca9b76ca",
   "metadata": {},
   "source": [
    "3. Write a Python program to check whether a specified value is contained in a group of values. "
   ]
  },
  {
   "cell_type": "code",
   "execution_count": 52,
   "id": "6f255027",
   "metadata": {},
   "outputs": [],
   "source": [
    "def check(group_values,number):\n",
    "    for values in group_values:\n",
    "        if number == values:\n",
    "            return True\n",
    "    return False"
   ]
  },
  {
   "cell_type": "code",
   "execution_count": 59,
   "id": "9644f3b2",
   "metadata": {},
   "outputs": [
    {
     "data": {
      "text/plain": [
       "False"
      ]
     },
     "execution_count": 59,
     "metadata": {},
     "output_type": "execute_result"
    }
   ],
   "source": [
    "lst = [1, 5, 8, 3]\n",
    "check(lst,7)"
   ]
  },
  {
   "cell_type": "markdown",
   "id": "4c6a6871",
   "metadata": {},
   "source": [
    "4. Write a Python program to create a histogram from a given list of integers."
   ]
  },
  {
   "cell_type": "code",
   "execution_count": 61,
   "id": "07782047",
   "metadata": {},
   "outputs": [],
   "source": [
    "hist = [2,3,6,5]"
   ]
  },
  {
   "cell_type": "code",
   "execution_count": 65,
   "id": "5bb06573",
   "metadata": {},
   "outputs": [
    {
     "name": "stdout",
     "output_type": "stream",
     "text": [
      "$$\n",
      "$$$\n",
      "$$$$$$\n",
      "$$$$$\n"
     ]
    }
   ],
   "source": [
    "for n in hist:\n",
    "    output = ''\n",
    "    times = n\n",
    "    while times>0:\n",
    "        output += '$'\n",
    "        times = times - 1\n",
    "    print(output)"
   ]
  },
  {
   "cell_type": "markdown",
   "id": "ec580d26",
   "metadata": {},
   "source": [
    "5.Write a Python program to concatenate all elements in a list into a string and return it."
   ]
  },
  {
   "cell_type": "code",
   "execution_count": 68,
   "id": "8ae57b5a",
   "metadata": {},
   "outputs": [],
   "source": [
    "elements = [1, 5, 12, 2]\n",
    "string_elements = []"
   ]
  },
  {
   "cell_type": "code",
   "execution_count": 69,
   "id": "24aa0da2",
   "metadata": {},
   "outputs": [],
   "source": [
    "for n in elements:\n",
    "    string = str(n)\n",
    "    string_elements.append(string)\n",
    "    "
   ]
  },
  {
   "cell_type": "code",
   "execution_count": 70,
   "id": "54bf7967",
   "metadata": {},
   "outputs": [
    {
     "data": {
      "text/plain": [
       "['1', '5', '12', '2']"
      ]
     },
     "execution_count": 70,
     "metadata": {},
     "output_type": "execute_result"
    }
   ],
   "source": [
    "string_elements"
   ]
  },
  {
   "cell_type": "markdown",
   "id": "8f17405b",
   "metadata": {},
   "source": [
    "6 Write a Python program that will accept the base and height of a triangle and compute the area."
   ]
  },
  {
   "cell_type": "code",
   "execution_count": 71,
   "id": "94acdeee",
   "metadata": {},
   "outputs": [
    {
     "name": "stdout",
     "output_type": "stream",
     "text": [
      "Enter a base of a trianlge: 2\n",
      "Enter a height of a triangle: 4\n"
     ]
    }
   ],
   "source": [
    "base = int(input('Enter a base of a trianlge: '))\n",
    "height = int(input('Enter a height of a triangle: '))\n",
    "\n",
    "area = (height*base)/2"
   ]
  },
  {
   "cell_type": "code",
   "execution_count": 72,
   "id": "338e5969",
   "metadata": {},
   "outputs": [
    {
     "name": "stdout",
     "output_type": "stream",
     "text": [
      "the area of a trianle is 4.0\n"
     ]
    }
   ],
   "source": [
    "print(f'the area of a trianle is {area}')"
   ]
  },
  {
   "cell_type": "markdown",
   "id": "8cc99620",
   "metadata": {},
   "source": [
    "7. Write a Python program to sum of three given integers. However, if two values are equal sum will be zero."
   ]
  },
  {
   "cell_type": "code",
   "execution_count": 8,
   "id": "3aaff9c1",
   "metadata": {},
   "outputs": [
    {
     "name": "stdout",
     "output_type": "stream",
     "text": [
      "Enter first integer: 7\n",
      "Enter second integer: 5\n",
      "Enter third integer: 5\n"
     ]
    }
   ],
   "source": [
    "a = int(input('Enter first integer: '))\n",
    "b = int(input('Enter second integer: '))\n",
    "c = int(input('Enter third integer: '))\n",
    "\n",
    "def zero(a,b,c):\n",
    "    if a == b or b==c or a == c:\n",
    "        sum = 0\n",
    "    else:\n",
    "        sum = a+b+c\n",
    "    return sum\n"
   ]
  },
  {
   "cell_type": "code",
   "execution_count": 9,
   "id": "0ac0c520",
   "metadata": {},
   "outputs": [
    {
     "data": {
      "text/plain": [
       "0"
      ]
     },
     "execution_count": 9,
     "metadata": {},
     "output_type": "execute_result"
    }
   ],
   "source": [
    "zero(a,b,c)"
   ]
  },
  {
   "cell_type": "markdown",
   "id": "c328aa54",
   "metadata": {},
   "source": [
    "8. Write a Python program to sum of two given integers. However, if the sum is between 15 to 20 it will return 20."
   ]
  },
  {
   "cell_type": "code",
   "execution_count": 12,
   "id": "3ef3b33b",
   "metadata": {},
   "outputs": [
    {
     "name": "stdout",
     "output_type": "stream",
     "text": [
      "Enter first integer: 4\n",
      "Enter second integer: 8\n"
     ]
    }
   ],
   "source": [
    "a = int(input('Enter first integer: '))\n",
    "b = int(input('Enter second integer: '))\n",
    "\n",
    "def btw(a,b):\n",
    "    sum = a + b\n",
    "    if sum >=15 and sum<=20:\n",
    "        sum = 20\n",
    "    else:\n",
    "        return sum\n",
    "    return sum"
   ]
  },
  {
   "cell_type": "code",
   "execution_count": 13,
   "id": "82742d37",
   "metadata": {},
   "outputs": [
    {
     "data": {
      "text/plain": [
       "12"
      ]
     },
     "execution_count": 13,
     "metadata": {},
     "output_type": "execute_result"
    }
   ],
   "source": [
    "btw(a,b)"
   ]
  },
  {
   "cell_type": "markdown",
   "id": "40d33d2e",
   "metadata": {},
   "source": [
    "9. Write a Python program that will return true if the two given integer values are equal or their sum or difference is 5."
   ]
  },
  {
   "cell_type": "code",
   "execution_count": 8,
   "id": "aa379692",
   "metadata": {},
   "outputs": [
    {
     "name": "stdout",
     "output_type": "stream",
     "text": [
      "Enter first integer: 3\n",
      "Enter second integer: 8\n"
     ]
    }
   ],
   "source": [
    "a = int(input('Enter first integer: '))\n",
    "b = int(input('Enter second integer: '))\n",
    "\n",
    "def equal(a,b):\n",
    "    sum = a+b\n",
    "    diff = a - b\n",
    "    if a == b or sum == 5 or diff == 5:\n",
    "        return True\n",
    "    else:\n",
    "        return False"
   ]
  },
  {
   "cell_type": "code",
   "execution_count": 9,
   "id": "6a30b14e",
   "metadata": {},
   "outputs": [
    {
     "data": {
      "text/plain": [
       "False"
      ]
     },
     "execution_count": 9,
     "metadata": {},
     "output_type": "execute_result"
    }
   ],
   "source": [
    "equal(a,b)"
   ]
  },
  {
   "cell_type": "markdown",
   "id": "658812bc",
   "metadata": {},
   "source": [
    "10. Write a Python program to compute the distance between the points (x1, y1) and (x2, y2)."
   ]
  },
  {
   "cell_type": "code",
   "execution_count": 12,
   "id": "1dcd9961",
   "metadata": {},
   "outputs": [
    {
     "name": "stdout",
     "output_type": "stream",
     "text": [
      "12.165525060596439\n"
     ]
    }
   ],
   "source": [
    "import math\n",
    "p1 = [8, 0]\n",
    "p2 = [10, 12]\n",
    "distance = math.sqrt( ((p1[0]-p2[0])**2)+((p1[1]-p2[1])**2) )\n",
    "\n",
    "print(distance)"
   ]
  },
  {
   "cell_type": "code",
   "execution_count": null,
   "id": "f0c87ea9",
   "metadata": {},
   "outputs": [],
   "source": []
  }
 ],
 "metadata": {
  "kernelspec": {
   "display_name": "Python 3 (ipykernel)",
   "language": "python",
   "name": "python3"
  },
  "language_info": {
   "codemirror_mode": {
    "name": "ipython",
    "version": 3
   },
   "file_extension": ".py",
   "mimetype": "text/x-python",
   "name": "python",
   "nbconvert_exporter": "python",
   "pygments_lexer": "ipython3",
   "version": "3.11.5"
  }
 },
 "nbformat": 4,
 "nbformat_minor": 5
}
