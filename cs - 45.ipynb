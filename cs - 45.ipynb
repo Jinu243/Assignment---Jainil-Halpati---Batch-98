{
 "cells": [
  {
   "cell_type": "markdown",
   "id": "f9f30434-8daf-45eb-b42f-04f7eba0f254",
   "metadata": {},
   "source": [
    "Model Selection and Boosting \n",
    "Case Study -3 (CS 45)\n",
    "\n",
    "Case Study\n",
    "\n",
    "\n",
    "Questions:\n",
    "\n",
    "\n",
    "1.The data file contains numerical attributes that describe a letter and its corresponding class. Read the datafile “letterCG.bin” and set all the numerical attributes as features. Split the data in to train and test sets.\n"
   ]
  },
  {
   "cell_type": "code",
   "execution_count": 1,
   "id": "1dae07b1-fc86-44c6-ac50-6138bd7b721a",
   "metadata": {},
   "outputs": [],
   "source": [
    "import pandas as pd\n",
    "import matplotlib.pyplot as plot\n",
    "%matplotlib inline\n",
    "import os\n",
    "from sklearn.model_selection import train_test_split\n",
    "from sklearn.ensemble import AdaBoostClassifier\n",
    "from sklearn.metrics import accuracy_score\n",
    "from sklearn.tree import DecisionTreeClassifier"
   ]
  },
  {
   "cell_type": "code",
   "execution_count": 2,
   "id": "7f8623d8-4f8f-4b2d-b359-3dcab42a3824",
   "metadata": {},
   "outputs": [],
   "source": [
    "os.chdir('D:\\\\top mentor assignment\\\\Batch 98 Day 57\\\\ML Case Studies with Answer\\\\CS 45 Ans - Model Selection and Boosting-3\\\\')"
   ]
  },
  {
   "cell_type": "code",
   "execution_count": 3,
   "id": "68f539e1-4e4b-4434-9fac-7ca7300d50c7",
   "metadata": {},
   "outputs": [
    {
     "data": {
      "text/plain": [
       "'D:\\\\top mentor assignment\\\\Batch 98 Day 57\\\\ML Case Studies with Answer\\\\CS 45 Ans - Model Selection and Boosting-3'"
      ]
     },
     "execution_count": 3,
     "metadata": {},
     "output_type": "execute_result"
    }
   ],
   "source": [
    "os.getcwd()"
   ]
  },
  {
   "cell_type": "code",
   "execution_count": 4,
   "id": "b77ae469-ff32-4e8c-89b5-67f674baa455",
   "metadata": {},
   "outputs": [
    {
     "data": {
      "text/html": [
       "<div>\n",
       "<style scoped>\n",
       "    .dataframe tbody tr th:only-of-type {\n",
       "        vertical-align: middle;\n",
       "    }\n",
       "\n",
       "    .dataframe tbody tr th {\n",
       "        vertical-align: top;\n",
       "    }\n",
       "\n",
       "    .dataframe thead th {\n",
       "        text-align: right;\n",
       "    }\n",
       "</style>\n",
       "<table border=\"1\" class=\"dataframe\">\n",
       "  <thead>\n",
       "    <tr style=\"text-align: right;\">\n",
       "      <th></th>\n",
       "      <th>Class</th>\n",
       "      <th>x-box</th>\n",
       "      <th>y-box</th>\n",
       "      <th>width</th>\n",
       "      <th>high</th>\n",
       "      <th>Unnamed: 5</th>\n",
       "      <th>onpix</th>\n",
       "      <th>x-bar</th>\n",
       "      <th>y-bar</th>\n",
       "      <th>x2bar</th>\n",
       "      <th>y2bar</th>\n",
       "      <th>xybar</th>\n",
       "      <th>x2ybr</th>\n",
       "      <th>xy2br</th>\n",
       "      <th>x-ege</th>\n",
       "      <th>xegvy</th>\n",
       "      <th>y-ege</th>\n",
       "      <th>yegvx</th>\n",
       "      <th>Unnamed: 18</th>\n",
       "    </tr>\n",
       "  </thead>\n",
       "  <tbody>\n",
       "    <tr>\n",
       "      <th>0</th>\n",
       "      <td>C</td>\n",
       "      <td>4</td>\n",
       "      <td>10</td>\n",
       "      <td>5</td>\n",
       "      <td>8</td>\n",
       "      <td>2</td>\n",
       "      <td>5</td>\n",
       "      <td>7</td>\n",
       "      <td>7</td>\n",
       "      <td>10</td>\n",
       "      <td>7</td>\n",
       "      <td>6</td>\n",
       "      <td>13</td>\n",
       "      <td>1</td>\n",
       "      <td>8</td>\n",
       "      <td>4</td>\n",
       "      <td>9</td>\n",
       "      <td>NaN</td>\n",
       "      <td>NaN</td>\n",
       "    </tr>\n",
       "    <tr>\n",
       "      <th>1</th>\n",
       "      <td>C</td>\n",
       "      <td>3</td>\n",
       "      <td>5</td>\n",
       "      <td>4</td>\n",
       "      <td>4</td>\n",
       "      <td>2</td>\n",
       "      <td>4</td>\n",
       "      <td>8</td>\n",
       "      <td>5</td>\n",
       "      <td>7</td>\n",
       "      <td>12</td>\n",
       "      <td>9</td>\n",
       "      <td>11</td>\n",
       "      <td>1</td>\n",
       "      <td>10</td>\n",
       "      <td>2</td>\n",
       "      <td>7</td>\n",
       "      <td>NaN</td>\n",
       "      <td>NaN</td>\n",
       "    </tr>\n",
       "    <tr>\n",
       "      <th>2</th>\n",
       "      <td>G</td>\n",
       "      <td>5</td>\n",
       "      <td>10</td>\n",
       "      <td>6</td>\n",
       "      <td>7</td>\n",
       "      <td>3</td>\n",
       "      <td>8</td>\n",
       "      <td>7</td>\n",
       "      <td>8</td>\n",
       "      <td>8</td>\n",
       "      <td>6</td>\n",
       "      <td>7</td>\n",
       "      <td>9</td>\n",
       "      <td>2</td>\n",
       "      <td>7</td>\n",
       "      <td>5</td>\n",
       "      <td>10</td>\n",
       "      <td>NaN</td>\n",
       "      <td>NaN</td>\n",
       "    </tr>\n",
       "    <tr>\n",
       "      <th>3</th>\n",
       "      <td>C</td>\n",
       "      <td>5</td>\n",
       "      <td>9</td>\n",
       "      <td>6</td>\n",
       "      <td>7</td>\n",
       "      <td>4</td>\n",
       "      <td>3</td>\n",
       "      <td>8</td>\n",
       "      <td>6</td>\n",
       "      <td>7</td>\n",
       "      <td>12</td>\n",
       "      <td>10</td>\n",
       "      <td>13</td>\n",
       "      <td>1</td>\n",
       "      <td>9</td>\n",
       "      <td>3</td>\n",
       "      <td>7</td>\n",
       "      <td>NaN</td>\n",
       "      <td>NaN</td>\n",
       "    </tr>\n",
       "    <tr>\n",
       "      <th>4</th>\n",
       "      <td>G</td>\n",
       "      <td>4</td>\n",
       "      <td>8</td>\n",
       "      <td>5</td>\n",
       "      <td>6</td>\n",
       "      <td>3</td>\n",
       "      <td>6</td>\n",
       "      <td>6</td>\n",
       "      <td>7</td>\n",
       "      <td>6</td>\n",
       "      <td>10</td>\n",
       "      <td>7</td>\n",
       "      <td>12</td>\n",
       "      <td>2</td>\n",
       "      <td>9</td>\n",
       "      <td>4</td>\n",
       "      <td>9</td>\n",
       "      <td>NaN</td>\n",
       "      <td>NaN</td>\n",
       "    </tr>\n",
       "  </tbody>\n",
       "</table>\n",
       "</div>"
      ],
      "text/plain": [
       "  Class  x-box  y-box  width  high  Unnamed: 5  onpix  x-bar  y-bar  x2bar  \\\n",
       "0     C      4     10      5     8           2      5      7      7     10   \n",
       "1     C      3      5      4     4           2      4      8      5      7   \n",
       "2     G      5     10      6     7           3      8      7      8      8   \n",
       "3     C      5      9      6     7           4      3      8      6      7   \n",
       "4     G      4      8      5     6           3      6      6      7      6   \n",
       "\n",
       "   y2bar  xybar  x2ybr  xy2br  x-ege  xegvy  y-ege  yegvx  Unnamed: 18  \n",
       "0      7      6     13      1      8      4      9    NaN          NaN  \n",
       "1     12      9     11      1     10      2      7    NaN          NaN  \n",
       "2      6      7      9      2      7      5     10    NaN          NaN  \n",
       "3     12     10     13      1      9      3      7    NaN          NaN  \n",
       "4     10      7     12      2      9      4      9    NaN          NaN  "
      ]
     },
     "execution_count": 4,
     "metadata": {},
     "output_type": "execute_result"
    }
   ],
   "source": [
    "df= pd.read_csv(\"letterCG.bin\",delimiter=' ')\n",
    "df.head()"
   ]
  },
  {
   "cell_type": "code",
   "execution_count": 5,
   "id": "6f4b3ed1-7564-4379-b0b9-40cc328e863d",
   "metadata": {},
   "outputs": [
    {
     "name": "stdout",
     "output_type": "stream",
     "text": [
      "(1207, 16) (302, 16) (1207,) (302,)\n"
     ]
    }
   ],
   "source": [
    "X, y = df.iloc[:, 1:-2].values,df.iloc[:, 0].values\n",
    "X_train, X_test, y_train, y_test = train_test_split(X, y, test_size=0.2, random_state=1)\n",
    "print (X_train.shape, X_test.shape, y_train.shape, y_test.shape )"
   ]
  },
  {
   "cell_type": "code",
   "execution_count": 10,
   "id": "cde8646a-5772-4ec3-9f93-d5ff0cf6bc5e",
   "metadata": {},
   "outputs": [
    {
     "data": {
      "text/plain": [
       "{1: 0.7880794701986755,\n",
       " 2: 0.7880794701986755,\n",
       " 4: 0.8245033112582781,\n",
       " 8: 0.8940397350993378,\n",
       " 10: 0.9172185430463576,\n",
       " 16: 0.9238410596026491}"
      ]
     },
     "metadata": {},
     "output_type": "display_data"
    }
   ],
   "source": [
    "n_estimators = [1,2,4,8,10,16]\n",
    "scores ={}\n",
    "for num in n_estimators:\n",
    "    clf= AdaBoostClassifier(DecisionTreeClassifier(max_depth=1),n_estimators=num,learning_rate=1.5,algorithm=('SAMME'))\n",
    "    clf = clf.fit(X_train,y_train)\n",
    "    scores[num]=  clf.score(X_test,y_test)\n",
    "display(scores)"
   ]
  },
  {
   "cell_type": "code",
   "execution_count": 11,
   "id": "b799cb15-2bec-43e8-aeaa-b2f8115dce52",
   "metadata": {},
   "outputs": [
    {
     "data": {
      "text/plain": [
       "Text(0, 0.5, 'Accuracy')"
      ]
     },
     "execution_count": 11,
     "metadata": {},
     "output_type": "execute_result"
    },
    {
     "data": {
      "image/png": "[encoded data removed]",
      "text/plain": [
       "<Figure size 640x480 with 1 Axes>"
      ]
     },
     "metadata": {},
     "output_type": "display_data"
    }
   ],
   "source": [
    "plot.plot(scores.keys(),scores.values())\n",
    "plot.xlabel(\"Num Weak Learners\")\n",
    "plot.ylabel(\"Accuracy\")"
   ]
  },
  {
   "cell_type": "code",
   "execution_count": 12,
   "id": "f66e0529-602a-4b44-b862-9e2521afc122",
   "metadata": {},
   "outputs": [
    {
     "data": {
      "text/plain": [
       "{1: 0.890728476821192,\n",
       " 2: 0.890728476821192,\n",
       " 4: 0.9172185430463576,\n",
       " 8: 0.956953642384106,\n",
       " 10: 0.9437086092715232,\n",
       " 16: 0.9701986754966887,\n",
       " 32: 0.9701986754966887}"
      ]
     },
     "metadata": {},
     "output_type": "display_data"
    }
   ],
   "source": [
    "n_estimators = [1,2,4,8,10,16,32]\n",
    "scores ={}\n",
    "\n",
    "for num in n_estimators:\n",
    "    clf= AdaBoostClassifier(DecisionTreeClassifier(max_depth=2),n_estimators=num,learning_rate=1.5,algorithm=('SAMME'))\n",
    "    clf = clf.fit(X_train,y_train)\n",
    "    scores[num]=  clf.score(X_test,y_test)\n",
    "display(scores)"
   ]
  },
  {
   "cell_type": "code",
   "execution_count": null,
   "id": "19513d38-8cfd-49ee-98fd-24a67c5c529d",
   "metadata": {},
   "outputs": [],
   "source": []
  }
 ],
 "metadata": {
  "kernelspec": {
   "display_name": "Python 3 (ipykernel)",
   "language": "python",
   "name": "python3"
  },
  "language_info": {
   "codemirror_mode": {
    "name": "ipython",
    "version": 3
   },
   "file_extension": ".py",
   "mimetype": "text/x-python",
   "name": "python",
   "nbconvert_exporter": "python",
   "pygments_lexer": "ipython3",
   "version": "3.12.7"
  }
 },
 "nbformat": 4,
 "nbformat_minor": 5
}
