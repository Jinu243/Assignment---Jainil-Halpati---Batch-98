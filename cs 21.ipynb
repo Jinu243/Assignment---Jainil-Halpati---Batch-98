{
 "cells": [
  {
   "cell_type": "code",
   "execution_count": 1,
   "id": "9b606f13",
   "metadata": {},
   "outputs": [],
   "source": [
    "import numpy as np \n",
    "import pandas as pd\n",
    "import matplotlib.pyplot as plt\n",
    "import seaborn as sns \n",
    "import os\n",
    "plt.rcParams[\"figure.figsize\"] = (20,10)\n"
   ]
  },
  {
   "cell_type": "code",
   "execution_count": 2,
   "id": "2edb21e5",
   "metadata": {},
   "outputs": [
    {
     "data": {
      "text/html": [
       "<div>\n",
       "<style scoped>\n",
       "    .dataframe tbody tr th:only-of-type {\n",
       "        vertical-align: middle;\n",
       "    }\n",
       "\n",
       "    .dataframe tbody tr th {\n",
       "        vertical-align: top;\n",
       "    }\n",
       "\n",
       "    .dataframe thead th {\n",
       "        text-align: right;\n",
       "    }\n",
       "</style>\n",
       "<table border=\"1\" class=\"dataframe\">\n",
       "  <thead>\n",
       "    <tr style=\"text-align: right;\">\n",
       "      <th></th>\n",
       "      <th>Movie</th>\n",
       "      <th>LeadStudio</th>\n",
       "      <th>RottenTomatoes</th>\n",
       "      <th>AudienceScore</th>\n",
       "      <th>Story</th>\n",
       "      <th>Genre</th>\n",
       "      <th>TheatersOpenWeek</th>\n",
       "      <th>OpeningWeekend</th>\n",
       "      <th>BOAvgOpenWeekend</th>\n",
       "      <th>DomesticGross</th>\n",
       "      <th>ForeignGross</th>\n",
       "      <th>WorldGross</th>\n",
       "      <th>Budget</th>\n",
       "      <th>Profitability</th>\n",
       "      <th>OpenProfit</th>\n",
       "      <th>Year</th>\n",
       "    </tr>\n",
       "  </thead>\n",
       "  <tbody>\n",
       "    <tr>\n",
       "      <th>0</th>\n",
       "      <td>Spider-Man 3</td>\n",
       "      <td>Sony</td>\n",
       "      <td>61.0</td>\n",
       "      <td>54.0</td>\n",
       "      <td>Metamorphosis</td>\n",
       "      <td>Action</td>\n",
       "      <td>4252.0</td>\n",
       "      <td>151.1</td>\n",
       "      <td>35540.0</td>\n",
       "      <td>336.53</td>\n",
       "      <td>554.34</td>\n",
       "      <td>890.87</td>\n",
       "      <td>258.0</td>\n",
       "      <td>345.30</td>\n",
       "      <td>58.57</td>\n",
       "      <td>2007</td>\n",
       "    </tr>\n",
       "    <tr>\n",
       "      <th>1</th>\n",
       "      <td>Shrek the Third</td>\n",
       "      <td>Paramount</td>\n",
       "      <td>42.0</td>\n",
       "      <td>57.0</td>\n",
       "      <td>Quest</td>\n",
       "      <td>Animation</td>\n",
       "      <td>4122.0</td>\n",
       "      <td>121.6</td>\n",
       "      <td>29507.0</td>\n",
       "      <td>322.72</td>\n",
       "      <td>476.24</td>\n",
       "      <td>798.96</td>\n",
       "      <td>160.0</td>\n",
       "      <td>499.35</td>\n",
       "      <td>76.00</td>\n",
       "      <td>2007</td>\n",
       "    </tr>\n",
       "    <tr>\n",
       "      <th>2</th>\n",
       "      <td>Transformers</td>\n",
       "      <td>Paramount</td>\n",
       "      <td>57.0</td>\n",
       "      <td>89.0</td>\n",
       "      <td>Monster Force</td>\n",
       "      <td>Action</td>\n",
       "      <td>4011.0</td>\n",
       "      <td>70.5</td>\n",
       "      <td>17577.0</td>\n",
       "      <td>319.25</td>\n",
       "      <td>390.46</td>\n",
       "      <td>709.71</td>\n",
       "      <td>150.0</td>\n",
       "      <td>473.14</td>\n",
       "      <td>47.00</td>\n",
       "      <td>2007</td>\n",
       "    </tr>\n",
       "    <tr>\n",
       "      <th>3</th>\n",
       "      <td>Pirates of the Caribbean: At World's End</td>\n",
       "      <td>Disney</td>\n",
       "      <td>45.0</td>\n",
       "      <td>74.0</td>\n",
       "      <td>Rescue</td>\n",
       "      <td>Action</td>\n",
       "      <td>4362.0</td>\n",
       "      <td>114.7</td>\n",
       "      <td>26302.0</td>\n",
       "      <td>309.42</td>\n",
       "      <td>654.00</td>\n",
       "      <td>963.42</td>\n",
       "      <td>300.0</td>\n",
       "      <td>321.14</td>\n",
       "      <td>38.23</td>\n",
       "      <td>2007</td>\n",
       "    </tr>\n",
       "    <tr>\n",
       "      <th>4</th>\n",
       "      <td>Harry Potter and the Order of the Phoenix</td>\n",
       "      <td>Warner Bros</td>\n",
       "      <td>78.0</td>\n",
       "      <td>82.0</td>\n",
       "      <td>Quest</td>\n",
       "      <td>Adventure</td>\n",
       "      <td>4285.0</td>\n",
       "      <td>77.1</td>\n",
       "      <td>17998.0</td>\n",
       "      <td>292.00</td>\n",
       "      <td>647.88</td>\n",
       "      <td>939.89</td>\n",
       "      <td>150.0</td>\n",
       "      <td>626.59</td>\n",
       "      <td>51.40</td>\n",
       "      <td>2007</td>\n",
       "    </tr>\n",
       "  </tbody>\n",
       "</table>\n",
       "</div>"
      ],
      "text/plain": [
       "                                       Movie   LeadStudio  RottenTomatoes  \\\n",
       "0                               Spider-Man 3         Sony            61.0   \n",
       "1                            Shrek the Third    Paramount            42.0   \n",
       "2                               Transformers    Paramount            57.0   \n",
       "3   Pirates of the Caribbean: At World's End       Disney            45.0   \n",
       "4  Harry Potter and the Order of the Phoenix  Warner Bros            78.0   \n",
       "\n",
       "   AudienceScore          Story      Genre  TheatersOpenWeek  OpeningWeekend  \\\n",
       "0           54.0  Metamorphosis     Action            4252.0           151.1   \n",
       "1           57.0          Quest  Animation            4122.0           121.6   \n",
       "2           89.0  Monster Force     Action            4011.0            70.5   \n",
       "3           74.0         Rescue     Action            4362.0           114.7   \n",
       "4           82.0          Quest  Adventure            4285.0            77.1   \n",
       "\n",
       "   BOAvgOpenWeekend  DomesticGross  ForeignGross  WorldGross  Budget  \\\n",
       "0           35540.0         336.53        554.34      890.87   258.0   \n",
       "1           29507.0         322.72        476.24      798.96   160.0   \n",
       "2           17577.0         319.25        390.46      709.71   150.0   \n",
       "3           26302.0         309.42        654.00      963.42   300.0   \n",
       "4           17998.0         292.00        647.88      939.89   150.0   \n",
       "\n",
       "   Profitability  OpenProfit  Year  \n",
       "0         345.30       58.57  2007  \n",
       "1         499.35       76.00  2007  \n",
       "2         473.14       47.00  2007  \n",
       "3         321.14       38.23  2007  \n",
       "4         626.59       51.40  2007  "
      ]
     },
     "execution_count": 2,
     "metadata": {},
     "output_type": "execute_result"
    }
   ],
   "source": [
    "os.chdir ('C:\\\\Users\\\\USER\\\\Downloads\\\\Batch 98 Day 28\\\\CS 21 Ans -Data Maniputations-1')\n",
    "\n",
    "df = pd.read_csv('HollywoodMovies.csv', delimiter=',')\n",
    "\n",
    "df.head()"
   ]
  },
  {
   "cell_type": "code",
   "execution_count": 3,
   "id": "a3987b5e",
   "metadata": {},
   "outputs": [
    {
     "name": "stdout",
     "output_type": "stream",
     "text": [
      "<class 'pandas.core.frame.DataFrame'>\n",
      "RangeIndex: 970 entries, 0 to 969\n",
      "Data columns (total 16 columns):\n",
      " #   Column            Non-Null Count  Dtype  \n",
      "---  ------            --------------  -----  \n",
      " 0   Movie             970 non-null    object \n",
      " 1   LeadStudio        961 non-null    object \n",
      " 2   RottenTomatoes    913 non-null    float64\n",
      " 3   AudienceScore     907 non-null    float64\n",
      " 4   Story             641 non-null    object \n",
      " 5   Genre             691 non-null    object \n",
      " 6   TheatersOpenWeek  949 non-null    float64\n",
      " 7   OpeningWeekend    969 non-null    float64\n",
      " 8   BOAvgOpenWeekend  945 non-null    float64\n",
      " 9   DomesticGross     970 non-null    float64\n",
      " 10  ForeignGross      876 non-null    float64\n",
      " 11  WorldGross        914 non-null    float64\n",
      " 12  Budget            897 non-null    float64\n",
      " 13  Profitability     896 non-null    float64\n",
      " 14  OpenProfit        895 non-null    float64\n",
      " 15  Year              970 non-null    int64  \n",
      "dtypes: float64(11), int64(1), object(4)\n",
      "memory usage: 121.4+ KB\n"
     ]
    }
   ],
   "source": [
    "df.info()"
   ]
  },
  {
   "cell_type": "markdown",
   "id": "dae19bb4",
   "metadata": {},
   "source": [
    "1. Find Rating \n"
   ]
  },
  {
   "cell_type": "code",
   "execution_count": 4,
   "id": "c2c770b3",
   "metadata": {},
   "outputs": [
    {
     "name": "stdout",
     "output_type": "stream",
     "text": [
      "Into the Wild - 90.0\n"
     ]
    }
   ],
   "source": [
    "selected_columns = df.loc[:, ['Movie', 'AudienceScore', 'Story']]\n",
    "highest_rated = \"\"\n",
    "rating = 0\n",
    "\n",
    "for i in range(0, 970):\n",
    "    if selected_columns.loc[i]['Story'] in ('Quest','quest') and selected_columns.loc[i]['AudienceScore'] > rating:\n",
    "        rating = selected_columns.loc[i]['AudienceScore']\n",
    "        highest_rated = selected_columns.loc[i]['Movie']\n",
    "\n",
    "print(highest_rated,'-', rating)\n"
   ]
  },
  {
   "cell_type": "markdown",
   "id": "b9ffb424",
   "metadata": {},
   "source": [
    "2. Find the genre in which there has been the greatest number of movie releases\n"
   ]
  },
  {
   "cell_type": "markdown",
   "id": "723fb15d",
   "metadata": {},
   "source": [
    "Genre and number of movies in each Genre"
   ]
  },
  {
   "cell_type": "code",
   "execution_count": 5,
   "id": "bf763c42",
   "metadata": {},
   "outputs": [
    {
     "name": "stdout",
     "output_type": "stream",
     "text": [
      "{'Action': 166, 'Animation': 51, 'Adventure': 30, 'Thriller': 35, 'Comedy': 177, 'Musical': 4, 'Drama': 109, 'Biography': 14, 'Horror': 52, 'Romance': 20, 'Fantasy': 6, 'Documentary': 7, 'Crime': 15, 'nan': 1, 'Mystery': 5}\n"
     ]
    }
   ],
   "source": [
    "genre = df.loc[:, ['Genre']]\n",
    "\n",
    "frequency = dict()\n",
    "for i in range(0, 970):\n",
    "    if genre.loc[i][0] in frequency:\n",
    "        frequency[str(genre.loc[i]['Genre'])] += 1\n",
    "    else:\n",
    "        frequency[str(genre.loc[i]['Genre'])] = 1\n",
    "print(frequency)\n"
   ]
  },
  {
   "cell_type": "markdown",
   "id": "08d1314a",
   "metadata": {},
   "source": [
    "Sort the frequency dictionary based on Values"
   ]
  },
  {
   "cell_type": "code",
   "execution_count": 6,
   "id": "f7799cc3",
   "metadata": {},
   "outputs": [],
   "source": [
    "frequency_sorted = sorted(frequency.items(), key=lambda x: x[1], reverse=True)"
   ]
  },
  {
   "cell_type": "code",
   "execution_count": 7,
   "id": "8373ce8f",
   "metadata": {},
   "outputs": [
    {
     "data": {
      "text/plain": [
       "[('Comedy', 177),\n",
       " ('Action', 166),\n",
       " ('Drama', 109),\n",
       " ('Horror', 52),\n",
       " ('Animation', 51),\n",
       " ('Thriller', 35),\n",
       " ('Adventure', 30),\n",
       " ('Romance', 20),\n",
       " ('Crime', 15),\n",
       " ('Biography', 14),\n",
       " ('Documentary', 7),\n",
       " ('Fantasy', 6),\n",
       " ('Mystery', 5),\n",
       " ('Musical', 4),\n",
       " ('nan', 1)]"
      ]
     },
     "execution_count": 7,
     "metadata": {},
     "output_type": "execute_result"
    }
   ],
   "source": [
    "frequency_sorted"
   ]
  },
  {
   "cell_type": "markdown",
   "id": "0271a0a8",
   "metadata": {},
   "source": [
    "Print the sorted value based on index"
   ]
  },
  {
   "cell_type": "code",
   "execution_count": 8,
   "id": "2aaeb767",
   "metadata": {},
   "outputs": [
    {
     "name": "stdout",
     "output_type": "stream",
     "text": [
      "Comedy -> 177\n",
      "Action -> 166\n",
      "Drama -> 109\n",
      "Horror -> 52\n",
      "Animation -> 51\n",
      "Thriller -> 35\n",
      "Adventure -> 30\n",
      "Romance -> 20\n",
      "Crime -> 15\n",
      "Biography -> 14\n",
      "Documentary -> 7\n",
      "Fantasy -> 6\n",
      "Mystery -> 5\n",
      "Musical -> 4\n",
      "nan -> 1\n"
     ]
    }
   ],
   "source": [
    "for i in frequency_sorted:\n",
    "    print(i[0],'->',i[1])"
   ]
  },
  {
   "cell_type": "markdown",
   "id": "4870f551",
   "metadata": {},
   "source": [
    "Genre in which there has been the maximum number of movies released"
   ]
  },
  {
   "cell_type": "code",
   "execution_count": 9,
   "id": "7be54fae",
   "metadata": {},
   "outputs": [
    {
     "data": {
      "text/plain": [
       "('Comedy', 177)"
      ]
     },
     "execution_count": 9,
     "metadata": {},
     "output_type": "execute_result"
    }
   ],
   "source": [
    "frequency_sorted[0]"
   ]
  },
  {
   "cell_type": "markdown",
   "id": "516c4a8b",
   "metadata": {},
   "source": [
    "Genre in which there has been the minimum number of movies released"
   ]
  },
  {
   "cell_type": "code",
   "execution_count": 10,
   "id": "1434abd3",
   "metadata": {},
   "outputs": [
    {
     "data": {
      "text/plain": [
       "('nan', 1)"
      ]
     },
     "execution_count": 10,
     "metadata": {},
     "output_type": "execute_result"
    }
   ],
   "source": [
    "frequency_sorted[-1]"
   ]
  },
  {
   "cell_type": "markdown",
   "id": "17593def",
   "metadata": {},
   "source": [
    "3. Print the names of the top five movies with the costliest budgets."
   ]
  },
  {
   "cell_type": "code",
   "execution_count": 11,
   "id": "a47fc203",
   "metadata": {},
   "outputs": [],
   "source": [
    "Top_5_budget_movies = df.sort_values(by = 'Budget',ascending=False)"
   ]
  },
  {
   "cell_type": "code",
   "execution_count": 12,
   "id": "5a76eb78",
   "metadata": {},
   "outputs": [
    {
     "data": {
      "text/html": [
       "<div>\n",
       "<style scoped>\n",
       "    .dataframe tbody tr th:only-of-type {\n",
       "        vertical-align: middle;\n",
       "    }\n",
       "\n",
       "    .dataframe tbody tr th {\n",
       "        vertical-align: top;\n",
       "    }\n",
       "\n",
       "    .dataframe thead th {\n",
       "        text-align: right;\n",
       "    }\n",
       "</style>\n",
       "<table border=\"1\" class=\"dataframe\">\n",
       "  <thead>\n",
       "    <tr style=\"text-align: right;\">\n",
       "      <th></th>\n",
       "      <th>Movie</th>\n",
       "      <th>Budget</th>\n",
       "    </tr>\n",
       "  </thead>\n",
       "  <tbody>\n",
       "    <tr>\n",
       "      <th>3</th>\n",
       "      <td>Pirates of the Caribbean: At World's End</td>\n",
       "      <td>300.0</td>\n",
       "    </tr>\n",
       "    <tr>\n",
       "      <th>468</th>\n",
       "      <td>Tangled</td>\n",
       "      <td>260.0</td>\n",
       "    </tr>\n",
       "    <tr>\n",
       "      <th>0</th>\n",
       "      <td>Spider-Man 3</td>\n",
       "      <td>258.0</td>\n",
       "    </tr>\n",
       "    <tr>\n",
       "      <th>778</th>\n",
       "      <td>The Dark Knight Rises</td>\n",
       "      <td>250.0</td>\n",
       "    </tr>\n",
       "    <tr>\n",
       "      <th>241</th>\n",
       "      <td>Harry Potter and the Half-Blood Prince</td>\n",
       "      <td>250.0</td>\n",
       "    </tr>\n",
       "  </tbody>\n",
       "</table>\n",
       "</div>"
      ],
      "text/plain": [
       "                                        Movie  Budget\n",
       "3    Pirates of the Caribbean: At World's End   300.0\n",
       "468                                   Tangled   260.0\n",
       "0                                Spider-Man 3   258.0\n",
       "778                     The Dark Knight Rises   250.0\n",
       "241    Harry Potter and the Half-Blood Prince   250.0"
      ]
     },
     "execution_count": 12,
     "metadata": {},
     "output_type": "execute_result"
    }
   ],
   "source": [
    "Top_5_budget_movies[['Movie','Budget']].head()"
   ]
  },
  {
   "cell_type": "code",
   "execution_count": 13,
   "id": "37b295ad",
   "metadata": {},
   "outputs": [],
   "source": [
    "Bottom_5_budget_movies = df.sort_values(by = 'Budget',ascending=True)"
   ]
  },
  {
   "cell_type": "code",
   "execution_count": 14,
   "id": "971f03ce",
   "metadata": {},
   "outputs": [
    {
     "data": {
      "text/html": [
       "<div>\n",
       "<style scoped>\n",
       "    .dataframe tbody tr th:only-of-type {\n",
       "        vertical-align: middle;\n",
       "    }\n",
       "\n",
       "    .dataframe tbody tr th {\n",
       "        vertical-align: top;\n",
       "    }\n",
       "\n",
       "    .dataframe thead th {\n",
       "        text-align: right;\n",
       "    }\n",
       "</style>\n",
       "<table border=\"1\" class=\"dataframe\">\n",
       "  <thead>\n",
       "    <tr style=\"text-align: right;\">\n",
       "      <th></th>\n",
       "      <th>Movie</th>\n",
       "      <th>Budget</th>\n",
       "    </tr>\n",
       "  </thead>\n",
       "  <tbody>\n",
       "    <tr>\n",
       "      <th>220</th>\n",
       "      <td>Soul Men</td>\n",
       "      <td>0.0</td>\n",
       "    </tr>\n",
       "    <tr>\n",
       "      <th>518</th>\n",
       "      <td>Another Earth</td>\n",
       "      <td>0.2</td>\n",
       "    </tr>\n",
       "    <tr>\n",
       "      <th>172</th>\n",
       "      <td>Fireproof</td>\n",
       "      <td>0.5</td>\n",
       "    </tr>\n",
       "    <tr>\n",
       "      <th>933</th>\n",
       "      <td>Fruitvale Station</td>\n",
       "      <td>1.0</td>\n",
       "    </tr>\n",
       "    <tr>\n",
       "      <th>968</th>\n",
       "      <td>John Dies at the End</td>\n",
       "      <td>1.0</td>\n",
       "    </tr>\n",
       "  </tbody>\n",
       "</table>\n",
       "</div>"
      ],
      "text/plain": [
       "                    Movie  Budget\n",
       "220              Soul Men     0.0\n",
       "518         Another Earth     0.2\n",
       "172             Fireproof     0.5\n",
       "933     Fruitvale Station     1.0\n",
       "968  John Dies at the End     1.0"
      ]
     },
     "execution_count": 14,
     "metadata": {},
     "output_type": "execute_result"
    }
   ],
   "source": [
    "Bottom_5_budget_movies[['Movie','Budget']].head()"
   ]
  },
  {
   "cell_type": "markdown",
   "id": "847bfb71",
   "metadata": {},
   "source": [
    "4. Is there any correspondence between the critics’ evaluation of a movie and its acceptance by the public? Find out, by plotting the net profitability of a movie against the ratings it receives on Rotten Tomatoes."
   ]
  },
  {
   "cell_type": "code",
   "execution_count": 15,
   "id": "f7720c44",
   "metadata": {},
   "outputs": [],
   "source": [
    "profit = df.loc[:,['Profitability','RottenTomatoes']]"
   ]
  },
  {
   "cell_type": "code",
   "execution_count": 16,
   "id": "8cad219e",
   "metadata": {},
   "outputs": [
    {
     "data": {
      "text/html": [
       "<div>\n",
       "<style scoped>\n",
       "    .dataframe tbody tr th:only-of-type {\n",
       "        vertical-align: middle;\n",
       "    }\n",
       "\n",
       "    .dataframe tbody tr th {\n",
       "        vertical-align: top;\n",
       "    }\n",
       "\n",
       "    .dataframe thead th {\n",
       "        text-align: right;\n",
       "    }\n",
       "</style>\n",
       "<table border=\"1\" class=\"dataframe\">\n",
       "  <thead>\n",
       "    <tr style=\"text-align: right;\">\n",
       "      <th></th>\n",
       "      <th>Profitability</th>\n",
       "      <th>RottenTomatoes</th>\n",
       "    </tr>\n",
       "  </thead>\n",
       "  <tbody>\n",
       "    <tr>\n",
       "      <th>0</th>\n",
       "      <td>345.30</td>\n",
       "      <td>61.0</td>\n",
       "    </tr>\n",
       "    <tr>\n",
       "      <th>1</th>\n",
       "      <td>499.35</td>\n",
       "      <td>42.0</td>\n",
       "    </tr>\n",
       "    <tr>\n",
       "      <th>2</th>\n",
       "      <td>473.14</td>\n",
       "      <td>57.0</td>\n",
       "    </tr>\n",
       "    <tr>\n",
       "      <th>3</th>\n",
       "      <td>321.14</td>\n",
       "      <td>45.0</td>\n",
       "    </tr>\n",
       "    <tr>\n",
       "      <th>4</th>\n",
       "      <td>626.59</td>\n",
       "      <td>78.0</td>\n",
       "    </tr>\n",
       "    <tr>\n",
       "      <th>...</th>\n",
       "      <td>...</td>\n",
       "      <td>...</td>\n",
       "    </tr>\n",
       "    <tr>\n",
       "      <th>965</th>\n",
       "      <td>77.21</td>\n",
       "      <td>22.0</td>\n",
       "    </tr>\n",
       "    <tr>\n",
       "      <th>966</th>\n",
       "      <td>527.48</td>\n",
       "      <td>43.0</td>\n",
       "    </tr>\n",
       "    <tr>\n",
       "      <th>967</th>\n",
       "      <td>NaN</td>\n",
       "      <td>42.0</td>\n",
       "    </tr>\n",
       "    <tr>\n",
       "      <th>968</th>\n",
       "      <td>14.20</td>\n",
       "      <td>61.0</td>\n",
       "    </tr>\n",
       "    <tr>\n",
       "      <th>969</th>\n",
       "      <td>15.25</td>\n",
       "      <td>55.0</td>\n",
       "    </tr>\n",
       "  </tbody>\n",
       "</table>\n",
       "<p>970 rows × 2 columns</p>\n",
       "</div>"
      ],
      "text/plain": [
       "     Profitability  RottenTomatoes\n",
       "0           345.30            61.0\n",
       "1           499.35            42.0\n",
       "2           473.14            57.0\n",
       "3           321.14            45.0\n",
       "4           626.59            78.0\n",
       "..             ...             ...\n",
       "965          77.21            22.0\n",
       "966         527.48            43.0\n",
       "967            NaN            42.0\n",
       "968          14.20            61.0\n",
       "969          15.25            55.0\n",
       "\n",
       "[970 rows x 2 columns]"
      ]
     },
     "execution_count": 16,
     "metadata": {},
     "output_type": "execute_result"
    }
   ],
   "source": [
    "profit"
   ]
  },
  {
   "cell_type": "code",
   "execution_count": 17,
   "id": "d9faff48",
   "metadata": {},
   "outputs": [
    {
     "data": {
      "text/plain": [
       "<function matplotlib.pyplot.show(close=None, block=None)>"
      ]
     },
     "execution_count": 17,
     "metadata": {},
     "output_type": "execute_result"
    },
    {
     "data": {
      "image/png": "[encoded data removed]",
      "text/plain": [
       "<Figure size 2000x1000 with 1 Axes>"
      ]
     },
     "metadata": {},
     "output_type": "display_data"
    }
   ],
   "source": [
    "plt.scatter(profit['Profitability'],profit['RottenTomatoes'])\n",
    "plt.xlim(0,200)\n",
    "plt.xlabel('Profits')\n",
    "plt.ylabel('Ratings')\n",
    "plt.show"
   ]
  },
  {
   "cell_type": "markdown",
   "id": "a9d6c3e4",
   "metadata": {},
   "source": [
    "Perform Operations on Files\n",
    "\n",
    "5.1 From the raw data below create a data frame\n",
    "\n",
    "'first_name': ['Jason', 'Molly', 'Tina', 'Jake', 'Amy'],\n",
    "\n",
    "'last_name': ['Miller', 'Jacobson', \".\", 'Milner', 'Cooze'],\n",
    "\n",
    "'age': [42, 52, 36, 24, 73],\n",
    "\n",
    "'preTestScore': [4, 24, 31, \".\", \".\"],\n",
    "\n",
    "'postTestScore': [\"25,000\", \"94,000\", 57, 62, 70]\n"
   ]
  },
  {
   "cell_type": "code",
   "execution_count": 18,
   "id": "bfd2b261",
   "metadata": {},
   "outputs": [],
   "source": [
    "data = {'first_name': ['Jason', 'Molly', 'Tina', 'Jake', 'Amy'],\n",
    "\n",
    "'last_name': ['Miller', 'Jacobson', \".\", 'Milner', 'Cooze'],\n",
    "\n",
    "'age': [42, 52, 36, 24, 73],\n",
    "\n",
    "'preTestScore': [4, 24, 31, \".\", \".\"],\n",
    "\n",
    "'postTestScore': [\"25,000\", \"94,000\", 57, 62, 70]}"
   ]
  },
  {
   "cell_type": "code",
   "execution_count": 19,
   "id": "6e7ec9a2",
   "metadata": {},
   "outputs": [
    {
     "data": {
      "text/plain": [
       "{'first_name': ['Jason', 'Molly', 'Tina', 'Jake', 'Amy'],\n",
       " 'last_name': ['Miller', 'Jacobson', '.', 'Milner', 'Cooze'],\n",
       " 'age': [42, 52, 36, 24, 73],\n",
       " 'preTestScore': [4, 24, 31, '.', '.'],\n",
       " 'postTestScore': ['25,000', '94,000', 57, 62, 70]}"
      ]
     },
     "execution_count": 19,
     "metadata": {},
     "output_type": "execute_result"
    }
   ],
   "source": [
    "data"
   ]
  },
  {
   "cell_type": "code",
   "execution_count": 20,
   "id": "988c3332",
   "metadata": {},
   "outputs": [],
   "source": [
    "df_2 = pd.DataFrame(data,columns = ['first_name','last_name','age','preTestScore','postTestScore'])"
   ]
  },
  {
   "cell_type": "code",
   "execution_count": 21,
   "id": "8880c626",
   "metadata": {},
   "outputs": [
    {
     "data": {
      "text/html": [
       "<div>\n",
       "<style scoped>\n",
       "    .dataframe tbody tr th:only-of-type {\n",
       "        vertical-align: middle;\n",
       "    }\n",
       "\n",
       "    .dataframe tbody tr th {\n",
       "        vertical-align: top;\n",
       "    }\n",
       "\n",
       "    .dataframe thead th {\n",
       "        text-align: right;\n",
       "    }\n",
       "</style>\n",
       "<table border=\"1\" class=\"dataframe\">\n",
       "  <thead>\n",
       "    <tr style=\"text-align: right;\">\n",
       "      <th></th>\n",
       "      <th>first_name</th>\n",
       "      <th>last_name</th>\n",
       "      <th>age</th>\n",
       "      <th>preTestScore</th>\n",
       "      <th>postTestScore</th>\n",
       "    </tr>\n",
       "  </thead>\n",
       "  <tbody>\n",
       "    <tr>\n",
       "      <th>0</th>\n",
       "      <td>Jason</td>\n",
       "      <td>Miller</td>\n",
       "      <td>42</td>\n",
       "      <td>4</td>\n",
       "      <td>25,000</td>\n",
       "    </tr>\n",
       "    <tr>\n",
       "      <th>1</th>\n",
       "      <td>Molly</td>\n",
       "      <td>Jacobson</td>\n",
       "      <td>52</td>\n",
       "      <td>24</td>\n",
       "      <td>94,000</td>\n",
       "    </tr>\n",
       "    <tr>\n",
       "      <th>2</th>\n",
       "      <td>Tina</td>\n",
       "      <td>.</td>\n",
       "      <td>36</td>\n",
       "      <td>31</td>\n",
       "      <td>57</td>\n",
       "    </tr>\n",
       "    <tr>\n",
       "      <th>3</th>\n",
       "      <td>Jake</td>\n",
       "      <td>Milner</td>\n",
       "      <td>24</td>\n",
       "      <td>.</td>\n",
       "      <td>62</td>\n",
       "    </tr>\n",
       "    <tr>\n",
       "      <th>4</th>\n",
       "      <td>Amy</td>\n",
       "      <td>Cooze</td>\n",
       "      <td>73</td>\n",
       "      <td>.</td>\n",
       "      <td>70</td>\n",
       "    </tr>\n",
       "  </tbody>\n",
       "</table>\n",
       "</div>"
      ],
      "text/plain": [
       "  first_name last_name  age preTestScore postTestScore\n",
       "0      Jason    Miller   42            4        25,000\n",
       "1      Molly  Jacobson   52           24        94,000\n",
       "2       Tina         .   36           31            57\n",
       "3       Jake    Milner   24            .            62\n",
       "4        Amy     Cooze   73            .            70"
      ]
     },
     "execution_count": 21,
     "metadata": {},
     "output_type": "execute_result"
    }
   ],
   "source": [
    "df_2"
   ]
  },
  {
   "cell_type": "markdown",
   "id": "3718fffd",
   "metadata": {},
   "source": [
    "5.2: Save the dataframe into a csv file as example.csv"
   ]
  },
  {
   "cell_type": "code",
   "execution_count": 22,
   "id": "30f94fc9",
   "metadata": {},
   "outputs": [],
   "source": [
    "df_3 = pd.DataFrame(data,columns = ['first_name','last_name','age','preTestScore','postTestScore'])"
   ]
  },
  {
   "cell_type": "code",
   "execution_count": 23,
   "id": "45120535",
   "metadata": {},
   "outputs": [],
   "source": [
    "df_3.to_csv('example.csv')"
   ]
  },
  {
   "cell_type": "markdown",
   "id": "cf70da00",
   "metadata": {},
   "source": [
    "5.3: Read the example.csv and print the data frame"
   ]
  },
  {
   "cell_type": "code",
   "execution_count": 24,
   "id": "a8d9000b",
   "metadata": {},
   "outputs": [],
   "source": [
    "df_4=pd.read_csv('example.csv')"
   ]
  },
  {
   "cell_type": "code",
   "execution_count": 25,
   "id": "8c94e585",
   "metadata": {},
   "outputs": [
    {
     "data": {
      "text/html": [
       "<div>\n",
       "<style scoped>\n",
       "    .dataframe tbody tr th:only-of-type {\n",
       "        vertical-align: middle;\n",
       "    }\n",
       "\n",
       "    .dataframe tbody tr th {\n",
       "        vertical-align: top;\n",
       "    }\n",
       "\n",
       "    .dataframe thead th {\n",
       "        text-align: right;\n",
       "    }\n",
       "</style>\n",
       "<table border=\"1\" class=\"dataframe\">\n",
       "  <thead>\n",
       "    <tr style=\"text-align: right;\">\n",
       "      <th></th>\n",
       "      <th>Unnamed: 0</th>\n",
       "      <th>first_name</th>\n",
       "      <th>last_name</th>\n",
       "      <th>age</th>\n",
       "      <th>preTestScore</th>\n",
       "      <th>postTestScore</th>\n",
       "    </tr>\n",
       "  </thead>\n",
       "  <tbody>\n",
       "    <tr>\n",
       "      <th>0</th>\n",
       "      <td>0</td>\n",
       "      <td>Jason</td>\n",
       "      <td>Miller</td>\n",
       "      <td>42</td>\n",
       "      <td>4</td>\n",
       "      <td>25,000</td>\n",
       "    </tr>\n",
       "    <tr>\n",
       "      <th>1</th>\n",
       "      <td>1</td>\n",
       "      <td>Molly</td>\n",
       "      <td>Jacobson</td>\n",
       "      <td>52</td>\n",
       "      <td>24</td>\n",
       "      <td>94,000</td>\n",
       "    </tr>\n",
       "    <tr>\n",
       "      <th>2</th>\n",
       "      <td>2</td>\n",
       "      <td>Tina</td>\n",
       "      <td>.</td>\n",
       "      <td>36</td>\n",
       "      <td>31</td>\n",
       "      <td>57</td>\n",
       "    </tr>\n",
       "    <tr>\n",
       "      <th>3</th>\n",
       "      <td>3</td>\n",
       "      <td>Jake</td>\n",
       "      <td>Milner</td>\n",
       "      <td>24</td>\n",
       "      <td>.</td>\n",
       "      <td>62</td>\n",
       "    </tr>\n",
       "    <tr>\n",
       "      <th>4</th>\n",
       "      <td>4</td>\n",
       "      <td>Amy</td>\n",
       "      <td>Cooze</td>\n",
       "      <td>73</td>\n",
       "      <td>.</td>\n",
       "      <td>70</td>\n",
       "    </tr>\n",
       "  </tbody>\n",
       "</table>\n",
       "</div>"
      ],
      "text/plain": [
       "   Unnamed: 0 first_name last_name  age preTestScore postTestScore\n",
       "0           0      Jason    Miller   42            4        25,000\n",
       "1           1      Molly  Jacobson   52           24        94,000\n",
       "2           2       Tina         .   36           31            57\n",
       "3           3       Jake    Milner   24            .            62\n",
       "4           4        Amy     Cooze   73            .            70"
      ]
     },
     "execution_count": 25,
     "metadata": {},
     "output_type": "execute_result"
    }
   ],
   "source": [
    "df_4"
   ]
  },
  {
   "cell_type": "markdown",
   "id": "30d10f86",
   "metadata": {},
   "source": [
    "5.4: Read the example.csv without column heading"
   ]
  },
  {
   "cell_type": "code",
   "execution_count": 26,
   "id": "a32a387b",
   "metadata": {},
   "outputs": [],
   "source": [
    "df_5=pd.read_csv('example.csv',header=None)"
   ]
  },
  {
   "cell_type": "code",
   "execution_count": 27,
   "id": "980d4d52",
   "metadata": {},
   "outputs": [
    {
     "data": {
      "text/html": [
       "<div>\n",
       "<style scoped>\n",
       "    .dataframe tbody tr th:only-of-type {\n",
       "        vertical-align: middle;\n",
       "    }\n",
       "\n",
       "    .dataframe tbody tr th {\n",
       "        vertical-align: top;\n",
       "    }\n",
       "\n",
       "    .dataframe thead th {\n",
       "        text-align: right;\n",
       "    }\n",
       "</style>\n",
       "<table border=\"1\" class=\"dataframe\">\n",
       "  <thead>\n",
       "    <tr style=\"text-align: right;\">\n",
       "      <th></th>\n",
       "      <th>0</th>\n",
       "      <th>1</th>\n",
       "      <th>2</th>\n",
       "      <th>3</th>\n",
       "      <th>4</th>\n",
       "      <th>5</th>\n",
       "    </tr>\n",
       "  </thead>\n",
       "  <tbody>\n",
       "    <tr>\n",
       "      <th>0</th>\n",
       "      <td>NaN</td>\n",
       "      <td>first_name</td>\n",
       "      <td>last_name</td>\n",
       "      <td>age</td>\n",
       "      <td>preTestScore</td>\n",
       "      <td>postTestScore</td>\n",
       "    </tr>\n",
       "    <tr>\n",
       "      <th>1</th>\n",
       "      <td>0.0</td>\n",
       "      <td>Jason</td>\n",
       "      <td>Miller</td>\n",
       "      <td>42</td>\n",
       "      <td>4</td>\n",
       "      <td>25,000</td>\n",
       "    </tr>\n",
       "    <tr>\n",
       "      <th>2</th>\n",
       "      <td>1.0</td>\n",
       "      <td>Molly</td>\n",
       "      <td>Jacobson</td>\n",
       "      <td>52</td>\n",
       "      <td>24</td>\n",
       "      <td>94,000</td>\n",
       "    </tr>\n",
       "    <tr>\n",
       "      <th>3</th>\n",
       "      <td>2.0</td>\n",
       "      <td>Tina</td>\n",
       "      <td>.</td>\n",
       "      <td>36</td>\n",
       "      <td>31</td>\n",
       "      <td>57</td>\n",
       "    </tr>\n",
       "    <tr>\n",
       "      <th>4</th>\n",
       "      <td>3.0</td>\n",
       "      <td>Jake</td>\n",
       "      <td>Milner</td>\n",
       "      <td>24</td>\n",
       "      <td>.</td>\n",
       "      <td>62</td>\n",
       "    </tr>\n",
       "    <tr>\n",
       "      <th>5</th>\n",
       "      <td>4.0</td>\n",
       "      <td>Amy</td>\n",
       "      <td>Cooze</td>\n",
       "      <td>73</td>\n",
       "      <td>.</td>\n",
       "      <td>70</td>\n",
       "    </tr>\n",
       "  </tbody>\n",
       "</table>\n",
       "</div>"
      ],
      "text/plain": [
       "     0           1          2    3             4              5\n",
       "0  NaN  first_name  last_name  age  preTestScore  postTestScore\n",
       "1  0.0       Jason     Miller   42             4         25,000\n",
       "2  1.0       Molly   Jacobson   52            24         94,000\n",
       "3  2.0        Tina          .   36            31             57\n",
       "4  3.0        Jake     Milner   24             .             62\n",
       "5  4.0         Amy      Cooze   73             .             70"
      ]
     },
     "execution_count": 27,
     "metadata": {},
     "output_type": "execute_result"
    }
   ],
   "source": [
    "df_5"
   ]
  },
  {
   "cell_type": "markdown",
   "id": "2302c024",
   "metadata": {},
   "source": [
    "5.5: Read the example.csv and make the index columns as 'First Name’ and 'Last Name'"
   ]
  },
  {
   "cell_type": "code",
   "execution_count": 28,
   "id": "66a303e8",
   "metadata": {},
   "outputs": [],
   "source": [
    "df_6 = pd.read_csv('example.csv', \n",
    "                 index_col=['First Name', 'Last Name'],\n",
    "                 names=['UID', 'First Name',\n",
    "                        'Last Name', 'Age',\n",
    "                        'Pre-Test Score',\n",
    "                        'Post-Test Score'])"
   ]
  },
  {
   "cell_type": "code",
   "execution_count": 29,
   "id": "e0b2d7d6",
   "metadata": {},
   "outputs": [
    {
     "data": {
      "text/html": [
       "<div>\n",
       "<style scoped>\n",
       "    .dataframe tbody tr th:only-of-type {\n",
       "        vertical-align: middle;\n",
       "    }\n",
       "\n",
       "    .dataframe tbody tr th {\n",
       "        vertical-align: top;\n",
       "    }\n",
       "\n",
       "    .dataframe thead th {\n",
       "        text-align: right;\n",
       "    }\n",
       "</style>\n",
       "<table border=\"1\" class=\"dataframe\">\n",
       "  <thead>\n",
       "    <tr style=\"text-align: right;\">\n",
       "      <th></th>\n",
       "      <th></th>\n",
       "      <th>UID</th>\n",
       "      <th>Age</th>\n",
       "      <th>Pre-Test Score</th>\n",
       "      <th>Post-Test Score</th>\n",
       "    </tr>\n",
       "    <tr>\n",
       "      <th>First Name</th>\n",
       "      <th>Last Name</th>\n",
       "      <th></th>\n",
       "      <th></th>\n",
       "      <th></th>\n",
       "      <th></th>\n",
       "    </tr>\n",
       "  </thead>\n",
       "  <tbody>\n",
       "    <tr>\n",
       "      <th>first_name</th>\n",
       "      <th>last_name</th>\n",
       "      <td>NaN</td>\n",
       "      <td>age</td>\n",
       "      <td>preTestScore</td>\n",
       "      <td>postTestScore</td>\n",
       "    </tr>\n",
       "    <tr>\n",
       "      <th>Jason</th>\n",
       "      <th>Miller</th>\n",
       "      <td>0.0</td>\n",
       "      <td>42</td>\n",
       "      <td>4</td>\n",
       "      <td>25,000</td>\n",
       "    </tr>\n",
       "    <tr>\n",
       "      <th>Molly</th>\n",
       "      <th>Jacobson</th>\n",
       "      <td>1.0</td>\n",
       "      <td>52</td>\n",
       "      <td>24</td>\n",
       "      <td>94,000</td>\n",
       "    </tr>\n",
       "    <tr>\n",
       "      <th>Tina</th>\n",
       "      <th>.</th>\n",
       "      <td>2.0</td>\n",
       "      <td>36</td>\n",
       "      <td>31</td>\n",
       "      <td>57</td>\n",
       "    </tr>\n",
       "    <tr>\n",
       "      <th>Jake</th>\n",
       "      <th>Milner</th>\n",
       "      <td>3.0</td>\n",
       "      <td>24</td>\n",
       "      <td>.</td>\n",
       "      <td>62</td>\n",
       "    </tr>\n",
       "    <tr>\n",
       "      <th>Amy</th>\n",
       "      <th>Cooze</th>\n",
       "      <td>4.0</td>\n",
       "      <td>73</td>\n",
       "      <td>.</td>\n",
       "      <td>70</td>\n",
       "    </tr>\n",
       "  </tbody>\n",
       "</table>\n",
       "</div>"
      ],
      "text/plain": [
       "                      UID  Age Pre-Test Score Post-Test Score\n",
       "First Name Last Name                                         \n",
       "first_name last_name  NaN  age   preTestScore   postTestScore\n",
       "Jason      Miller     0.0   42              4          25,000\n",
       "Molly      Jacobson   1.0   52             24          94,000\n",
       "Tina       .          2.0   36             31              57\n",
       "Jake       Milner     3.0   24              .              62\n",
       "Amy        Cooze      4.0   73              .              70"
      ]
     },
     "execution_count": 29,
     "metadata": {},
     "output_type": "execute_result"
    }
   ],
   "source": [
    "df_6"
   ]
  },
  {
   "cell_type": "markdown",
   "id": "8bc96ef2",
   "metadata": {},
   "source": [
    "5.6: Print the data frame in a Boolean form as True or False. True for Null/ NaN values and false for non-null values"
   ]
  },
  {
   "cell_type": "code",
   "execution_count": 30,
   "id": "d7a687a8",
   "metadata": {},
   "outputs": [
    {
     "data": {
      "text/html": [
       "<div>\n",
       "<style scoped>\n",
       "    .dataframe tbody tr th:only-of-type {\n",
       "        vertical-align: middle;\n",
       "    }\n",
       "\n",
       "    .dataframe tbody tr th {\n",
       "        vertical-align: top;\n",
       "    }\n",
       "\n",
       "    .dataframe thead th {\n",
       "        text-align: right;\n",
       "    }\n",
       "</style>\n",
       "<table border=\"1\" class=\"dataframe\">\n",
       "  <thead>\n",
       "    <tr style=\"text-align: right;\">\n",
       "      <th></th>\n",
       "      <th>Unnamed: 0</th>\n",
       "      <th>first_name</th>\n",
       "      <th>last_name</th>\n",
       "      <th>age</th>\n",
       "      <th>preTestScore</th>\n",
       "      <th>postTestScore</th>\n",
       "    </tr>\n",
       "  </thead>\n",
       "  <tbody>\n",
       "    <tr>\n",
       "      <th>0</th>\n",
       "      <td>False</td>\n",
       "      <td>False</td>\n",
       "      <td>False</td>\n",
       "      <td>False</td>\n",
       "      <td>False</td>\n",
       "      <td>False</td>\n",
       "    </tr>\n",
       "    <tr>\n",
       "      <th>1</th>\n",
       "      <td>False</td>\n",
       "      <td>False</td>\n",
       "      <td>False</td>\n",
       "      <td>False</td>\n",
       "      <td>False</td>\n",
       "      <td>False</td>\n",
       "    </tr>\n",
       "    <tr>\n",
       "      <th>2</th>\n",
       "      <td>False</td>\n",
       "      <td>False</td>\n",
       "      <td>True</td>\n",
       "      <td>False</td>\n",
       "      <td>False</td>\n",
       "      <td>False</td>\n",
       "    </tr>\n",
       "    <tr>\n",
       "      <th>3</th>\n",
       "      <td>False</td>\n",
       "      <td>False</td>\n",
       "      <td>False</td>\n",
       "      <td>False</td>\n",
       "      <td>True</td>\n",
       "      <td>False</td>\n",
       "    </tr>\n",
       "    <tr>\n",
       "      <th>4</th>\n",
       "      <td>False</td>\n",
       "      <td>False</td>\n",
       "      <td>False</td>\n",
       "      <td>False</td>\n",
       "      <td>True</td>\n",
       "      <td>False</td>\n",
       "    </tr>\n",
       "  </tbody>\n",
       "</table>\n",
       "</div>"
      ],
      "text/plain": [
       "   Unnamed: 0  first_name  last_name    age  preTestScore  postTestScore\n",
       "0       False       False      False  False         False          False\n",
       "1       False       False      False  False         False          False\n",
       "2       False       False       True  False         False          False\n",
       "3       False       False      False  False          True          False\n",
       "4       False       False      False  False          True          False"
      ]
     },
     "execution_count": 30,
     "metadata": {},
     "output_type": "execute_result"
    }
   ],
   "source": [
    "df_7 = pd.read_csv('example.csv', na_values=['.'])\n",
    "pd.isnull(df_7)"
   ]
  },
  {
   "cell_type": "markdown",
   "id": "9a763e9e",
   "metadata": {},
   "source": [
    "5.7: Read the dataframe by skipping first 3 rows and print the data frame"
   ]
  },
  {
   "cell_type": "code",
   "execution_count": 31,
   "id": "f4ff264f",
   "metadata": {},
   "outputs": [
    {
     "data": {
      "text/html": [
       "<div>\n",
       "<style scoped>\n",
       "    .dataframe tbody tr th:only-of-type {\n",
       "        vertical-align: middle;\n",
       "    }\n",
       "\n",
       "    .dataframe tbody tr th {\n",
       "        vertical-align: top;\n",
       "    }\n",
       "\n",
       "    .dataframe thead th {\n",
       "        text-align: right;\n",
       "    }\n",
       "</style>\n",
       "<table border=\"1\" class=\"dataframe\">\n",
       "  <thead>\n",
       "    <tr style=\"text-align: right;\">\n",
       "      <th></th>\n",
       "      <th>2</th>\n",
       "      <th>Tina</th>\n",
       "      <th>.</th>\n",
       "      <th>36</th>\n",
       "      <th>31</th>\n",
       "      <th>57</th>\n",
       "    </tr>\n",
       "  </thead>\n",
       "  <tbody>\n",
       "    <tr>\n",
       "      <th>0</th>\n",
       "      <td>3</td>\n",
       "      <td>Jake</td>\n",
       "      <td>Milner</td>\n",
       "      <td>24</td>\n",
       "      <td>.</td>\n",
       "      <td>62</td>\n",
       "    </tr>\n",
       "    <tr>\n",
       "      <th>1</th>\n",
       "      <td>4</td>\n",
       "      <td>Amy</td>\n",
       "      <td>Cooze</td>\n",
       "      <td>73</td>\n",
       "      <td>.</td>\n",
       "      <td>70</td>\n",
       "    </tr>\n",
       "  </tbody>\n",
       "</table>\n",
       "</div>"
      ],
      "text/plain": [
       "   2  Tina       .  36 31  57\n",
       "0  3  Jake  Milner  24  .  62\n",
       "1  4   Amy   Cooze  73  .  70"
      ]
     },
     "execution_count": 31,
     "metadata": {},
     "output_type": "execute_result"
    }
   ],
   "source": [
    "df_8 = pd.read_csv('example.csv', skiprows=3)\n",
    "df_8"
   ]
  },
  {
   "cell_type": "markdown",
   "id": "d6a2d0d6",
   "metadata": {},
   "source": [
    "5.8: Load a csv file while interpreting \",\" in strings around numbers as thousands seperators. Check the raw data 'postTestScore' column has, as thousands separator. Comma should be ignored while reading the data. It is default behaviour, but you need to give argument to read_csv function which makes sure commas are ignored."
   ]
  },
  {
   "cell_type": "code",
   "execution_count": 32,
   "id": "4ddbb450",
   "metadata": {},
   "outputs": [
    {
     "data": {
      "text/html": [
       "<div>\n",
       "<style scoped>\n",
       "    .dataframe tbody tr th:only-of-type {\n",
       "        vertical-align: middle;\n",
       "    }\n",
       "\n",
       "    .dataframe tbody tr th {\n",
       "        vertical-align: top;\n",
       "    }\n",
       "\n",
       "    .dataframe thead th {\n",
       "        text-align: right;\n",
       "    }\n",
       "</style>\n",
       "<table border=\"1\" class=\"dataframe\">\n",
       "  <thead>\n",
       "    <tr style=\"text-align: right;\">\n",
       "      <th></th>\n",
       "      <th>Unnamed: 0</th>\n",
       "      <th>first_name</th>\n",
       "      <th>last_name</th>\n",
       "      <th>age</th>\n",
       "      <th>preTestScore</th>\n",
       "      <th>postTestScore</th>\n",
       "    </tr>\n",
       "  </thead>\n",
       "  <tbody>\n",
       "    <tr>\n",
       "      <th>0</th>\n",
       "      <td>0</td>\n",
       "      <td>Jason</td>\n",
       "      <td>Miller</td>\n",
       "      <td>42</td>\n",
       "      <td>4</td>\n",
       "      <td>25000</td>\n",
       "    </tr>\n",
       "    <tr>\n",
       "      <th>1</th>\n",
       "      <td>1</td>\n",
       "      <td>Molly</td>\n",
       "      <td>Jacobson</td>\n",
       "      <td>52</td>\n",
       "      <td>24</td>\n",
       "      <td>94000</td>\n",
       "    </tr>\n",
       "    <tr>\n",
       "      <th>2</th>\n",
       "      <td>2</td>\n",
       "      <td>Tina</td>\n",
       "      <td>.</td>\n",
       "      <td>36</td>\n",
       "      <td>31</td>\n",
       "      <td>57</td>\n",
       "    </tr>\n",
       "    <tr>\n",
       "      <th>3</th>\n",
       "      <td>3</td>\n",
       "      <td>Jake</td>\n",
       "      <td>Milner</td>\n",
       "      <td>24</td>\n",
       "      <td>.</td>\n",
       "      <td>62</td>\n",
       "    </tr>\n",
       "    <tr>\n",
       "      <th>4</th>\n",
       "      <td>4</td>\n",
       "      <td>Amy</td>\n",
       "      <td>Cooze</td>\n",
       "      <td>73</td>\n",
       "      <td>.</td>\n",
       "      <td>70</td>\n",
       "    </tr>\n",
       "  </tbody>\n",
       "</table>\n",
       "</div>"
      ],
      "text/plain": [
       "   Unnamed: 0 first_name last_name  age preTestScore  postTestScore\n",
       "0           0      Jason    Miller   42            4          25000\n",
       "1           1      Molly  Jacobson   52           24          94000\n",
       "2           2       Tina         .   36           31             57\n",
       "3           3       Jake    Milner   24            .             62\n",
       "4           4        Amy     Cooze   73            .             70"
      ]
     },
     "execution_count": 32,
     "metadata": {},
     "output_type": "execute_result"
    }
   ],
   "source": [
    "df_9 = pd.read_csv('example.csv',  thousands=',')\n",
    "df_9\n"
   ]
  },
  {
   "cell_type": "markdown",
   "id": "0c9a035d",
   "metadata": {},
   "source": [
    "6. Perform Operations on Files\n",
    "\n",
    "6.1: From the raw data below create a Pandas Series\n",
    "\n",
    "'Amit', 'Bob', 'Kate', 'A', 'b', np.nan, 'Car', 'dog', 'cat'\n",
    "\n"
   ]
  },
  {
   "cell_type": "code",
   "execution_count": 33,
   "id": "18647bad",
   "metadata": {},
   "outputs": [],
   "source": [
    "series = pd.Series(['Amit', 'Bob', 'Kate', 'A', 'b', np.nan, 'Car', 'dog', 'cat'])"
   ]
  },
  {
   "cell_type": "markdown",
   "id": "770ead89",
   "metadata": {},
   "source": [
    "a) Print all elements in lower case"
   ]
  },
  {
   "cell_type": "code",
   "execution_count": 34,
   "id": "10ff0940",
   "metadata": {},
   "outputs": [
    {
     "data": {
      "text/plain": [
       "0    amit\n",
       "1     bob\n",
       "2    kate\n",
       "3       a\n",
       "4       b\n",
       "5     NaN\n",
       "6     car\n",
       "7     dog\n",
       "8     cat\n",
       "dtype: object"
      ]
     },
     "execution_count": 34,
     "metadata": {},
     "output_type": "execute_result"
    }
   ],
   "source": [
    "series.str.lower()"
   ]
  },
  {
   "cell_type": "markdown",
   "id": "b7bb9c32",
   "metadata": {},
   "source": [
    "b) Print all the elements in upper case"
   ]
  },
  {
   "cell_type": "code",
   "execution_count": 35,
   "id": "f628f15f",
   "metadata": {},
   "outputs": [
    {
     "data": {
      "text/plain": [
       "0    AMIT\n",
       "1     BOB\n",
       "2    KATE\n",
       "3       A\n",
       "4       B\n",
       "5     NaN\n",
       "6     CAR\n",
       "7     DOG\n",
       "8     CAT\n",
       "dtype: object"
      ]
     },
     "execution_count": 35,
     "metadata": {},
     "output_type": "execute_result"
    }
   ],
   "source": [
    "series.str.upper()"
   ]
  },
  {
   "cell_type": "markdown",
   "id": "295bcf14",
   "metadata": {},
   "source": [
    "c) Print the length of all the elements"
   ]
  },
  {
   "cell_type": "code",
   "execution_count": 36,
   "id": "98d80e4a",
   "metadata": {},
   "outputs": [
    {
     "data": {
      "text/plain": [
       "0    4.0\n",
       "1    3.0\n",
       "2    4.0\n",
       "3    1.0\n",
       "4    1.0\n",
       "5    NaN\n",
       "6    3.0\n",
       "7    3.0\n",
       "8    3.0\n",
       "dtype: float64"
      ]
     },
     "execution_count": 36,
     "metadata": {},
     "output_type": "execute_result"
    }
   ],
   "source": [
    "series.str.len()"
   ]
  },
  {
   "cell_type": "markdown",
   "id": "454c1df3",
   "metadata": {},
   "source": [
    "6.2: From the raw data below create a Pandas Series\n",
    "\n",
    "' Atul', 'John ', ' jack ', 'Sam'\n"
   ]
  },
  {
   "cell_type": "code",
   "execution_count": 37,
   "id": "b4f6c771",
   "metadata": {},
   "outputs": [],
   "source": [
    "series_2 = pd.Series([' Atul', 'John ', ' jack ', 'Sam'])"
   ]
  },
  {
   "cell_type": "markdown",
   "id": "e84d9cc7",
   "metadata": {},
   "source": [
    "a) Print all elements after stripping spaces from the left and right"
   ]
  },
  {
   "cell_type": "code",
   "execution_count": 38,
   "id": "382c27f6",
   "metadata": {},
   "outputs": [
    {
     "data": {
      "text/plain": [
       "0    Atul\n",
       "1    John\n",
       "2    jack\n",
       "3     Sam\n",
       "dtype: object"
      ]
     },
     "execution_count": 38,
     "metadata": {},
     "output_type": "execute_result"
    }
   ],
   "source": [
    "series_2.str.strip()"
   ]
  },
  {
   "cell_type": "markdown",
   "id": "78a750d1",
   "metadata": {},
   "source": [
    "b) Print all the elements after removing spaces from the left only"
   ]
  },
  {
   "cell_type": "code",
   "execution_count": 39,
   "id": "36e273c4",
   "metadata": {},
   "outputs": [
    {
     "data": {
      "text/plain": [
       "0     Atul\n",
       "1    John \n",
       "2    jack \n",
       "3      Sam\n",
       "dtype: object"
      ]
     },
     "execution_count": 39,
     "metadata": {},
     "output_type": "execute_result"
    }
   ],
   "source": [
    "series_2.str.lstrip()"
   ]
  },
  {
   "cell_type": "markdown",
   "id": "578ba813",
   "metadata": {},
   "source": [
    "c) Print all the elements after removing spaces from the right only"
   ]
  },
  {
   "cell_type": "code",
   "execution_count": 40,
   "id": "e36dea45",
   "metadata": {},
   "outputs": [
    {
     "data": {
      "text/plain": [
       "0     Atul\n",
       "1     John\n",
       "2     jack\n",
       "3      Sam\n",
       "dtype: object"
      ]
     },
     "execution_count": 40,
     "metadata": {},
     "output_type": "execute_result"
    }
   ],
   "source": [
    "series_2.str.rstrip()"
   ]
  },
  {
   "cell_type": "markdown",
   "id": "b2375255",
   "metadata": {},
   "source": [
    "6.3: - Create a series from the raw data below\n",
    "'India_is_big', 'Population_is_huge', np.nan, 'Has_diverse_culture'"
   ]
  },
  {
   "cell_type": "code",
   "execution_count": 41,
   "id": "aa037470",
   "metadata": {},
   "outputs": [],
   "source": [
    "series_3 = pd.Series(['India_is_big', 'Population_is_huge', np.nan, 'Has_diverse_culture'])"
   ]
  },
  {
   "cell_type": "markdown",
   "id": "6daf6cdc",
   "metadata": {},
   "source": [
    "a) split the individual strings wherever ‘_’ comes and create a list out of it."
   ]
  },
  {
   "cell_type": "code",
   "execution_count": 42,
   "id": "0b37045c",
   "metadata": {},
   "outputs": [
    {
     "data": {
      "text/plain": [
       "0           [India, is, big]\n",
       "1     [Population, is, huge]\n",
       "2                        NaN\n",
       "3    [Has, diverse, culture]\n",
       "dtype: object"
      ]
     },
     "execution_count": 42,
     "metadata": {},
     "output_type": "execute_result"
    }
   ],
   "source": [
    "series_3.str.split('_')"
   ]
  },
  {
   "cell_type": "markdown",
   "id": "f85891b5",
   "metadata": {},
   "source": [
    "b) Access the 1st Element individual element of a list"
   ]
  },
  {
   "cell_type": "code",
   "execution_count": 43,
   "id": "ac6eea80",
   "metadata": {},
   "outputs": [
    {
     "data": {
      "text/plain": [
       "0         is\n",
       "1         is\n",
       "2        NaN\n",
       "3    diverse\n",
       "dtype: object"
      ]
     },
     "execution_count": 43,
     "metadata": {},
     "output_type": "execute_result"
    }
   ],
   "source": [
    "series_3.str.split('_').str.get(1)"
   ]
  },
  {
   "cell_type": "markdown",
   "id": "a249097e",
   "metadata": {},
   "source": [
    "c) Expand the elements so that all individual elements get splitted by ‘_’ and insted of list returns individual elements"
   ]
  },
  {
   "cell_type": "code",
   "execution_count": 44,
   "id": "15e51cf5",
   "metadata": {},
   "outputs": [
    {
     "data": {
      "text/html": [
       "<div>\n",
       "<style scoped>\n",
       "    .dataframe tbody tr th:only-of-type {\n",
       "        vertical-align: middle;\n",
       "    }\n",
       "\n",
       "    .dataframe tbody tr th {\n",
       "        vertical-align: top;\n",
       "    }\n",
       "\n",
       "    .dataframe thead th {\n",
       "        text-align: right;\n",
       "    }\n",
       "</style>\n",
       "<table border=\"1\" class=\"dataframe\">\n",
       "  <thead>\n",
       "    <tr style=\"text-align: right;\">\n",
       "      <th></th>\n",
       "      <th>0</th>\n",
       "      <th>1</th>\n",
       "      <th>2</th>\n",
       "    </tr>\n",
       "  </thead>\n",
       "  <tbody>\n",
       "    <tr>\n",
       "      <th>0</th>\n",
       "      <td>India</td>\n",
       "      <td>is</td>\n",
       "      <td>big</td>\n",
       "    </tr>\n",
       "    <tr>\n",
       "      <th>1</th>\n",
       "      <td>Population</td>\n",
       "      <td>is</td>\n",
       "      <td>huge</td>\n",
       "    </tr>\n",
       "    <tr>\n",
       "      <th>2</th>\n",
       "      <td>NaN</td>\n",
       "      <td>NaN</td>\n",
       "      <td>NaN</td>\n",
       "    </tr>\n",
       "    <tr>\n",
       "      <th>3</th>\n",
       "      <td>Has</td>\n",
       "      <td>diverse</td>\n",
       "      <td>culture</td>\n",
       "    </tr>\n",
       "  </tbody>\n",
       "</table>\n",
       "</div>"
      ],
      "text/plain": [
       "            0        1        2\n",
       "0       India       is      big\n",
       "1  Population       is     huge\n",
       "2         NaN      NaN      NaN\n",
       "3         Has  diverse  culture"
      ]
     },
     "execution_count": 44,
     "metadata": {},
     "output_type": "execute_result"
    }
   ],
   "source": [
    "series_3.str.split('_',expand=True)"
   ]
  },
  {
   "cell_type": "markdown",
   "id": "56aaf0d9",
   "metadata": {},
   "source": [
    "6.4 Create a series \n",
    "\n",
    "A', 'B', 'C', 'AabX', 'BacX','', np.nan, 'CABA', 'dog', 'cat'\n"
   ]
  },
  {
   "cell_type": "code",
   "execution_count": 45,
   "id": "4e03daf9",
   "metadata": {},
   "outputs": [],
   "source": [
    "series_4=pd.Series(['A', 'B', 'C', 'AabX', 'BacX','', np.nan, 'CABA', 'dog', 'cat'])"
   ]
  },
  {
   "cell_type": "markdown",
   "id": "fa866e22",
   "metadata": {},
   "source": [
    " and replace either a (a is second character in a line, then replace first and second character )  or dog with XX-XX'"
   ]
  },
  {
   "cell_type": "code",
   "execution_count": 46,
   "id": "2f1d8b7b",
   "metadata": {},
   "outputs": [
    {
     "data": {
      "text/plain": [
       "0       A\n",
       "1       B\n",
       "2       C\n",
       "3    AabX\n",
       "4    BacX\n",
       "5        \n",
       "6     NaN\n",
       "7    CABA\n",
       "8     dog\n",
       "9     cat\n",
       "dtype: object"
      ]
     },
     "execution_count": 46,
     "metadata": {},
     "output_type": "execute_result"
    }
   ],
   "source": [
    "series_4.str.replace(('^.a|dog'),'XX-XX',case=False) #not working "
   ]
  },
  {
   "cell_type": "markdown",
   "id": "f662af80",
   "metadata": {},
   "source": [
    "6.5: Create a series and remove dollar from the numeric values '12', '-$10', '$10,000'"
   ]
  },
  {
   "cell_type": "code",
   "execution_count": 47,
   "id": "27a5385e",
   "metadata": {},
   "outputs": [],
   "source": [
    "series_5=pd.Series(['12', '-$10', '$10,000'])"
   ]
  },
  {
   "cell_type": "code",
   "execution_count": 48,
   "id": "83a33db3",
   "metadata": {},
   "outputs": [
    {
     "data": {
      "text/plain": [
       "0        12\n",
       "1       -10\n",
       "2    10,000\n",
       "dtype: object"
      ]
     },
     "execution_count": 48,
     "metadata": {},
     "output_type": "execute_result"
    }
   ],
   "source": [
    "series_5.str.replace('$','')"
   ]
  },
  {
   "cell_type": "markdown",
   "id": "5d912baa",
   "metadata": {},
   "source": [
    "6.6: Create a series and reverse all lower-case words\n",
    "\n",
    "'india 1998', 'big country', np.nan"
   ]
  },
  {
   "cell_type": "code",
   "execution_count": 49,
   "id": "bb8faa3f",
   "metadata": {},
   "outputs": [],
   "source": [
    "series_6=pd.Series(['india 1998', 'big country', np.nan])"
   ]
  },
  {
   "cell_type": "code",
   "execution_count": 50,
   "id": "4335fe60",
   "metadata": {},
   "outputs": [
    {
     "data": {
      "text/plain": [
       "0     aidni 1998\n",
       "1    gib yrtnuoc\n",
       "2            NaN\n",
       "dtype: object"
      ]
     },
     "execution_count": 50,
     "metadata": {},
     "output_type": "execute_result"
    }
   ],
   "source": [
    "pattern = r'[a-z]+'\n",
    "replacement = lambda m: m.group(0)[::-1]\n",
    "series_6 = series_6.str.replace(pattern,replacement,regex=True)\n",
    "series_6"
   ]
  },
  {
   "cell_type": "markdown",
   "id": "0f3579e6",
   "metadata": {},
   "source": [
    "6.7: Create pandas series and print true if value is alphanumeric \n",
    "\n",
    "in series or false if value is not alpha numeric in series.\n",
    "\n",
    "'1', '2', '1a', '2b', '2003c'\n"
   ]
  },
  {
   "cell_type": "code",
   "execution_count": 51,
   "id": "2a403a64",
   "metadata": {},
   "outputs": [],
   "source": [
    "series_7=pd.Series(['1', '2', '1a', '2b', '2003c'])"
   ]
  },
  {
   "cell_type": "code",
   "execution_count": 52,
   "id": "a029b24a",
   "metadata": {},
   "outputs": [
    {
     "data": {
      "text/plain": [
       "0    False\n",
       "1    False\n",
       "2     True\n",
       "3     True\n",
       "4     True\n",
       "dtype: bool"
      ]
     },
     "execution_count": 52,
     "metadata": {},
     "output_type": "execute_result"
    }
   ],
   "source": [
    "pattern = r'[0-9][a-z]'\n",
    "series_7.str.contains(pattern)"
   ]
  },
  {
   "cell_type": "markdown",
   "id": "f1f98ebb",
   "metadata": {},
   "source": [
    "6.8: Create pandas series and print true if value is containing ‘A’\n",
    "\n",
    "'1', '2', '1a', '2b', 'America', 'VietnAm','vietnam', '2003c'"
   ]
  },
  {
   "cell_type": "code",
   "execution_count": 54,
   "id": "b6e49b68",
   "metadata": {},
   "outputs": [],
   "source": [
    "series_8=pd.Series(['1', '2', '1a', '2b', 'America', 'VietnAm','vietnam', '2003c'])"
   ]
  },
  {
   "cell_type": "code",
   "execution_count": 56,
   "id": "f3b73695",
   "metadata": {},
   "outputs": [
    {
     "data": {
      "text/plain": [
       "0    False\n",
       "1    False\n",
       "2    False\n",
       "3    False\n",
       "4     True\n",
       "5     True\n",
       "6    False\n",
       "7    False\n",
       "dtype: bool"
      ]
     },
     "execution_count": 56,
     "metadata": {},
     "output_type": "execute_result"
    }
   ],
   "source": [
    "series_8.str.contains('A',na=False)"
   ]
  },
  {
   "cell_type": "markdown",
   "id": "47b05b25",
   "metadata": {},
   "source": [
    "6.9: Create pandas series and print in three columns value 0 or 1 is a or b or c exists in values\n",
    "\n",
    "'a', 'a|b', np.nan, 'a|c'"
   ]
  },
  {
   "cell_type": "code",
   "execution_count": 57,
   "id": "03d8c56c",
   "metadata": {},
   "outputs": [],
   "source": [
    "series_9=pd.Series(['a', 'a|b', np.nan, 'a|c'])"
   ]
  },
  {
   "cell_type": "code",
   "execution_count": 58,
   "id": "dba402c4",
   "metadata": {},
   "outputs": [
    {
     "data": {
      "text/html": [
       "<div>\n",
       "<style scoped>\n",
       "    .dataframe tbody tr th:only-of-type {\n",
       "        vertical-align: middle;\n",
       "    }\n",
       "\n",
       "    .dataframe tbody tr th {\n",
       "        vertical-align: top;\n",
       "    }\n",
       "\n",
       "    .dataframe thead th {\n",
       "        text-align: right;\n",
       "    }\n",
       "</style>\n",
       "<table border=\"1\" class=\"dataframe\">\n",
       "  <thead>\n",
       "    <tr style=\"text-align: right;\">\n",
       "      <th></th>\n",
       "      <th>a</th>\n",
       "      <th>b</th>\n",
       "      <th>c</th>\n",
       "    </tr>\n",
       "  </thead>\n",
       "  <tbody>\n",
       "    <tr>\n",
       "      <th>0</th>\n",
       "      <td>1</td>\n",
       "      <td>0</td>\n",
       "      <td>0</td>\n",
       "    </tr>\n",
       "    <tr>\n",
       "      <th>1</th>\n",
       "      <td>1</td>\n",
       "      <td>1</td>\n",
       "      <td>0</td>\n",
       "    </tr>\n",
       "    <tr>\n",
       "      <th>2</th>\n",
       "      <td>0</td>\n",
       "      <td>0</td>\n",
       "      <td>0</td>\n",
       "    </tr>\n",
       "    <tr>\n",
       "      <th>3</th>\n",
       "      <td>1</td>\n",
       "      <td>0</td>\n",
       "      <td>1</td>\n",
       "    </tr>\n",
       "  </tbody>\n",
       "</table>\n",
       "</div>"
      ],
      "text/plain": [
       "   a  b  c\n",
       "0  1  0  0\n",
       "1  1  1  0\n",
       "2  0  0  0\n",
       "3  1  0  1"
      ]
     },
     "execution_count": 58,
     "metadata": {},
     "output_type": "execute_result"
    }
   ],
   "source": [
    "series_9.str.get_dummies(sep='|')"
   ]
  },
  {
   "cell_type": "markdown",
   "id": "88842869",
   "metadata": {},
   "source": [
    "6.10: Create pandas dataframe having keys and ltable and rtable as below -\n",
    "\n",
    "'key': ['One', 'Two'], 'ltable': [1, 2]\n",
    "'key': ['One', 'Two'], 'rtable': [4, 5]\n",
    "\n",
    "Merge both the tables based of key\n"
   ]
  },
  {
   "cell_type": "code",
   "execution_count": 60,
   "id": "20b29063",
   "metadata": {},
   "outputs": [],
   "source": [
    "left_table = pd.DataFrame({'key': ['One', 'Two'], 'ltable': [1, 2]})\n",
    "right_table = pd.DataFrame({'key': ['One', 'Two'], 'rtable': [4, 5]})\n",
    "Merged = pd.merge(left_table, right_table, on='key')\n"
   ]
  },
  {
   "cell_type": "code",
   "execution_count": 61,
   "id": "6a20bc9d",
   "metadata": {},
   "outputs": [
    {
     "data": {
      "text/html": [
       "<div>\n",
       "<style scoped>\n",
       "    .dataframe tbody tr th:only-of-type {\n",
       "        vertical-align: middle;\n",
       "    }\n",
       "\n",
       "    .dataframe tbody tr th {\n",
       "        vertical-align: top;\n",
       "    }\n",
       "\n",
       "    .dataframe thead th {\n",
       "        text-align: right;\n",
       "    }\n",
       "</style>\n",
       "<table border=\"1\" class=\"dataframe\">\n",
       "  <thead>\n",
       "    <tr style=\"text-align: right;\">\n",
       "      <th></th>\n",
       "      <th>key</th>\n",
       "      <th>ltable</th>\n",
       "      <th>rtable</th>\n",
       "    </tr>\n",
       "  </thead>\n",
       "  <tbody>\n",
       "    <tr>\n",
       "      <th>0</th>\n",
       "      <td>One</td>\n",
       "      <td>1</td>\n",
       "      <td>4</td>\n",
       "    </tr>\n",
       "    <tr>\n",
       "      <th>1</th>\n",
       "      <td>Two</td>\n",
       "      <td>2</td>\n",
       "      <td>5</td>\n",
       "    </tr>\n",
       "  </tbody>\n",
       "</table>\n",
       "</div>"
      ],
      "text/plain": [
       "   key  ltable  rtable\n",
       "0  One       1       4\n",
       "1  Two       2       5"
      ]
     },
     "execution_count": 61,
     "metadata": {},
     "output_type": "execute_result"
    }
   ],
   "source": [
    "Merged"
   ]
  },
  {
   "cell_type": "code",
   "execution_count": null,
   "id": "28308945",
   "metadata": {},
   "outputs": [],
   "source": []
  }
 ],
 "metadata": {
  "kernelspec": {
   "display_name": "Python 3 (ipykernel)",
   "language": "python",
   "name": "python3"
  },
  "language_info": {
   "codemirror_mode": {
    "name": "ipython",
    "version": 3
   },
   "file_extension": ".py",
   "mimetype": "text/x-python",
   "name": "python",
   "nbconvert_exporter": "python",
   "pygments_lexer": "ipython3",
   "version": "3.12.7"
  }
 },
 "nbformat": 4,
 "nbformat_minor": 5
}
