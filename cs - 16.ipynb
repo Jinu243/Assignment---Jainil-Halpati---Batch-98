{
 "cells": [
  {
   "cell_type": "markdown",
   "id": "fc0e7fd0",
   "metadata": {},
   "source": [
    "Domain – Education\n",
    "\n",
    "focus – Data analysis\n",
    "\n",
    "\n",
    "Business challenge/requirement\n",
    "\n",
    "You are a data analyst with University of Cal USA (Not a machine learning expert yet as you still have not completed ML with Python Course :-)).The University has data of Math, Physics and Data Structure score of sophomore students. This data is stored in different files. The University has hired a data science company to do analysis of scores and find if there is any correlation of score with age, ethnicity etc. Before the data is given to the company you have to do data wrangling.\n",
    "\n",
    "\n",
    "\n",
    "\n",
    "Key issues\n",
    "\n",
    "Ensure students identify is not revealed to the agency and only relevant data is shared\n",
    "\n",
    "\n",
    "\n",
    "Considerations\n",
    "NONE\n",
    "\n",
    "\n",
    "Data volume\n",
    "\n",
    "In thousands, but only around 1800 records are shared in files MathScoreTerm1.csv DSScoreTerm1.csv, PhysicsScoreTerm1.csv\n",
    "\n",
    "\n",
    "Additional information\n",
    "- NA\n",
    "\n",
    "\n",
    "\n",
    "Business benefits\n",
    "\n",
    "University can get more students enrollment by improving its international ranking through personalized course/curriculum for students\n",
    "\n",
    "\n",
    "\n",
    "\n",
    "\n",
    "\n",
    "\n",
    "\n",
    "Approach to Solve\n",
    "You have to use fundamentals of Numpy and Pandas\n"
   ]
  },
  {
   "cell_type": "code",
   "execution_count": 1,
   "id": "2cebebb2",
   "metadata": {},
   "outputs": [],
   "source": [
    "import pandas as pd\n",
    "import numpy as np\n",
    "import os"
   ]
  },
  {
   "cell_type": "markdown",
   "id": "7f2935eb",
   "metadata": {},
   "source": [
    "1. Read the three csv files which contains the score of same students in term1 for each Subject"
   ]
  },
  {
   "cell_type": "code",
   "execution_count": 2,
   "id": "0f7f34c7",
   "metadata": {},
   "outputs": [
    {
     "data": {
      "text/plain": [
       "'C:\\\\Users\\\\USER\\\\Downloads\\\\Batch 98 Day 11\\\\CS 16 Ans -Data Transformation-2'"
      ]
     },
     "execution_count": 2,
     "metadata": {},
     "output_type": "execute_result"
    }
   ],
   "source": [
    "os.chdir('C:/Users/USER/Downloads/Batch 98 Day 11/CS 16 Ans -Data Transformation-2')\n",
    "os.getcwd()"
   ]
  },
  {
   "cell_type": "code",
   "execution_count": 38,
   "id": "fc2dabd0",
   "metadata": {},
   "outputs": [],
   "source": [
    "math_data = pd.read_csv('MathScoreTerm1.csv')"
   ]
  },
  {
   "cell_type": "code",
   "execution_count": 4,
   "id": "26f9abde",
   "metadata": {},
   "outputs": [
    {
     "data": {
      "text/html": [
       "<div>\n",
       "<style scoped>\n",
       "    .dataframe tbody tr th:only-of-type {\n",
       "        vertical-align: middle;\n",
       "    }\n",
       "\n",
       "    .dataframe tbody tr th {\n",
       "        vertical-align: top;\n",
       "    }\n",
       "\n",
       "    .dataframe thead th {\n",
       "        text-align: right;\n",
       "    }\n",
       "</style>\n",
       "<table border=\"1\" class=\"dataframe\">\n",
       "  <thead>\n",
       "    <tr style=\"text-align: right;\">\n",
       "      <th></th>\n",
       "      <th>Name</th>\n",
       "      <th>Score</th>\n",
       "      <th>Age</th>\n",
       "      <th>Ethinicity</th>\n",
       "      <th>Subject</th>\n",
       "      <th>Sex</th>\n",
       "      <th>ID</th>\n",
       "    </tr>\n",
       "  </thead>\n",
       "  <tbody>\n",
       "    <tr>\n",
       "      <th>0</th>\n",
       "      <td>AI-KYUNG CHUNG</td>\n",
       "      <td>88.0</td>\n",
       "      <td>18</td>\n",
       "      <td>White American</td>\n",
       "      <td>Maths</td>\n",
       "      <td>M</td>\n",
       "      <td>1</td>\n",
       "    </tr>\n",
       "    <tr>\n",
       "      <th>1</th>\n",
       "      <td>ALAN HARVEY</td>\n",
       "      <td>85.0</td>\n",
       "      <td>19</td>\n",
       "      <td>European American</td>\n",
       "      <td>Maths</td>\n",
       "      <td>M</td>\n",
       "      <td>2</td>\n",
       "    </tr>\n",
       "    <tr>\n",
       "      <th>2</th>\n",
       "      <td>ALAN REYNAUD</td>\n",
       "      <td>45.0</td>\n",
       "      <td>19</td>\n",
       "      <td>European American</td>\n",
       "      <td>Maths</td>\n",
       "      <td>M</td>\n",
       "      <td>3</td>\n",
       "    </tr>\n",
       "    <tr>\n",
       "      <th>3</th>\n",
       "      <td>ALBERT CENDANA</td>\n",
       "      <td>82.0</td>\n",
       "      <td>18</td>\n",
       "      <td>White American</td>\n",
       "      <td>Maths</td>\n",
       "      <td>M</td>\n",
       "      <td>4</td>\n",
       "    </tr>\n",
       "    <tr>\n",
       "      <th>4</th>\n",
       "      <td>ALBERT HOLT JR</td>\n",
       "      <td>82.0</td>\n",
       "      <td>18</td>\n",
       "      <td>White American</td>\n",
       "      <td>Maths</td>\n",
       "      <td>F</td>\n",
       "      <td>5</td>\n",
       "    </tr>\n",
       "  </tbody>\n",
       "</table>\n",
       "</div>"
      ],
      "text/plain": [
       "             Name  Score  Age         Ethinicity Subject Sex  ID\n",
       "0  AI-KYUNG CHUNG   88.0   18     White American   Maths   M   1\n",
       "1     ALAN HARVEY   85.0   19  European American   Maths   M   2\n",
       "2    ALAN REYNAUD   45.0   19  European American   Maths   M   3\n",
       "3  ALBERT CENDANA   82.0   18     White American   Maths   M   4\n",
       "4  ALBERT HOLT JR   82.0   18     White American   Maths   F   5"
      ]
     },
     "execution_count": 4,
     "metadata": {},
     "output_type": "execute_result"
    }
   ],
   "source": [
    "math_data.head()"
   ]
  },
  {
   "cell_type": "code",
   "execution_count": 39,
   "id": "03607b91",
   "metadata": {},
   "outputs": [],
   "source": [
    "ds_data = pd.read_csv('DSScoreTerm1.csv')"
   ]
  },
  {
   "cell_type": "code",
   "execution_count": 6,
   "id": "58e8257e",
   "metadata": {},
   "outputs": [
    {
     "data": {
      "text/html": [
       "<div>\n",
       "<style scoped>\n",
       "    .dataframe tbody tr th:only-of-type {\n",
       "        vertical-align: middle;\n",
       "    }\n",
       "\n",
       "    .dataframe tbody tr th {\n",
       "        vertical-align: top;\n",
       "    }\n",
       "\n",
       "    .dataframe thead th {\n",
       "        text-align: right;\n",
       "    }\n",
       "</style>\n",
       "<table border=\"1\" class=\"dataframe\">\n",
       "  <thead>\n",
       "    <tr style=\"text-align: right;\">\n",
       "      <th></th>\n",
       "      <th>Name</th>\n",
       "      <th>Score</th>\n",
       "      <th>Age</th>\n",
       "      <th>Ethinicity</th>\n",
       "      <th>Subject</th>\n",
       "      <th>Sex</th>\n",
       "      <th>ID</th>\n",
       "    </tr>\n",
       "  </thead>\n",
       "  <tbody>\n",
       "    <tr>\n",
       "      <th>0</th>\n",
       "      <td>AI-KYUNG CHUNG</td>\n",
       "      <td>82.0</td>\n",
       "      <td>18</td>\n",
       "      <td>White American</td>\n",
       "      <td>Data Structue</td>\n",
       "      <td>M</td>\n",
       "      <td>1</td>\n",
       "    </tr>\n",
       "    <tr>\n",
       "      <th>1</th>\n",
       "      <td>ALAN HARVEY</td>\n",
       "      <td>79.0</td>\n",
       "      <td>19</td>\n",
       "      <td>European American</td>\n",
       "      <td>Data Structue</td>\n",
       "      <td>M</td>\n",
       "      <td>2</td>\n",
       "    </tr>\n",
       "    <tr>\n",
       "      <th>2</th>\n",
       "      <td>ALAN REYNAUD</td>\n",
       "      <td>39.0</td>\n",
       "      <td>19</td>\n",
       "      <td>European American</td>\n",
       "      <td>Data Structue</td>\n",
       "      <td>M</td>\n",
       "      <td>3</td>\n",
       "    </tr>\n",
       "    <tr>\n",
       "      <th>3</th>\n",
       "      <td>ALBERT CENDANA</td>\n",
       "      <td>76.0</td>\n",
       "      <td>18</td>\n",
       "      <td>White American</td>\n",
       "      <td>Data Structue</td>\n",
       "      <td>M</td>\n",
       "      <td>4</td>\n",
       "    </tr>\n",
       "    <tr>\n",
       "      <th>4</th>\n",
       "      <td>ALBERT HOLT JR</td>\n",
       "      <td>76.0</td>\n",
       "      <td>18</td>\n",
       "      <td>White American</td>\n",
       "      <td>Data Structue</td>\n",
       "      <td>F</td>\n",
       "      <td>5</td>\n",
       "    </tr>\n",
       "  </tbody>\n",
       "</table>\n",
       "</div>"
      ],
      "text/plain": [
       "             Name  Score  Age         Ethinicity        Subject Sex  ID\n",
       "0  AI-KYUNG CHUNG   82.0   18     White American  Data Structue   M   1\n",
       "1     ALAN HARVEY   79.0   19  European American  Data Structue   M   2\n",
       "2    ALAN REYNAUD   39.0   19  European American  Data Structue   M   3\n",
       "3  ALBERT CENDANA   76.0   18     White American  Data Structue   M   4\n",
       "4  ALBERT HOLT JR   76.0   18     White American  Data Structue   F   5"
      ]
     },
     "execution_count": 6,
     "metadata": {},
     "output_type": "execute_result"
    }
   ],
   "source": [
    "ds_data.head()"
   ]
  },
  {
   "cell_type": "code",
   "execution_count": 40,
   "id": "b1f66e7b",
   "metadata": {},
   "outputs": [],
   "source": [
    "physics_data = pd.read_csv('PhysicsScoreTerm1.csv')"
   ]
  },
  {
   "cell_type": "code",
   "execution_count": 8,
   "id": "7c355cf5",
   "metadata": {},
   "outputs": [
    {
     "data": {
      "text/html": [
       "<div>\n",
       "<style scoped>\n",
       "    .dataframe tbody tr th:only-of-type {\n",
       "        vertical-align: middle;\n",
       "    }\n",
       "\n",
       "    .dataframe tbody tr th {\n",
       "        vertical-align: top;\n",
       "    }\n",
       "\n",
       "    .dataframe thead th {\n",
       "        text-align: right;\n",
       "    }\n",
       "</style>\n",
       "<table border=\"1\" class=\"dataframe\">\n",
       "  <thead>\n",
       "    <tr style=\"text-align: right;\">\n",
       "      <th></th>\n",
       "      <th>Name</th>\n",
       "      <th>Score</th>\n",
       "      <th>Age</th>\n",
       "      <th>Ethinicity</th>\n",
       "      <th>Subject</th>\n",
       "      <th>Sex</th>\n",
       "      <th>ID</th>\n",
       "    </tr>\n",
       "  </thead>\n",
       "  <tbody>\n",
       "    <tr>\n",
       "      <th>0</th>\n",
       "      <td>AI-KYUNG CHUNG</td>\n",
       "      <td>84.0</td>\n",
       "      <td>18</td>\n",
       "      <td>White American</td>\n",
       "      <td>Physics</td>\n",
       "      <td>M</td>\n",
       "      <td>1</td>\n",
       "    </tr>\n",
       "    <tr>\n",
       "      <th>1</th>\n",
       "      <td>ALAN HARVEY</td>\n",
       "      <td>81.0</td>\n",
       "      <td>19</td>\n",
       "      <td>European American</td>\n",
       "      <td>Physics</td>\n",
       "      <td>M</td>\n",
       "      <td>2</td>\n",
       "    </tr>\n",
       "    <tr>\n",
       "      <th>2</th>\n",
       "      <td>ALAN REYNAUD</td>\n",
       "      <td>41.0</td>\n",
       "      <td>19</td>\n",
       "      <td>European American</td>\n",
       "      <td>Physics</td>\n",
       "      <td>M</td>\n",
       "      <td>3</td>\n",
       "    </tr>\n",
       "    <tr>\n",
       "      <th>3</th>\n",
       "      <td>ALBERT CENDANA</td>\n",
       "      <td>78.0</td>\n",
       "      <td>18</td>\n",
       "      <td>White American</td>\n",
       "      <td>Physics</td>\n",
       "      <td>M</td>\n",
       "      <td>4</td>\n",
       "    </tr>\n",
       "    <tr>\n",
       "      <th>4</th>\n",
       "      <td>ALBERT HOLT JR</td>\n",
       "      <td>78.0</td>\n",
       "      <td>18</td>\n",
       "      <td>White American</td>\n",
       "      <td>Physics</td>\n",
       "      <td>F</td>\n",
       "      <td>5</td>\n",
       "    </tr>\n",
       "  </tbody>\n",
       "</table>\n",
       "</div>"
      ],
      "text/plain": [
       "             Name  Score  Age         Ethinicity  Subject Sex  ID\n",
       "0  AI-KYUNG CHUNG   84.0   18     White American  Physics   M   1\n",
       "1     ALAN HARVEY   81.0   19  European American  Physics   M   2\n",
       "2    ALAN REYNAUD   41.0   19  European American  Physics   M   3\n",
       "3  ALBERT CENDANA   78.0   18     White American  Physics   M   4\n",
       "4  ALBERT HOLT JR   78.0   18     White American  Physics   F   5"
      ]
     },
     "execution_count": 8,
     "metadata": {},
     "output_type": "execute_result"
    }
   ],
   "source": [
    "physics_data.head()"
   ]
  },
  {
   "cell_type": "markdown",
   "id": "4a8ceb49",
   "metadata": {},
   "source": [
    "2. Remove the name and ethnicity column (to ensure confidentiality)"
   ]
  },
  {
   "cell_type": "code",
   "execution_count": 9,
   "id": "95f57423",
   "metadata": {},
   "outputs": [
    {
     "data": {
      "text/html": [
       "<div>\n",
       "<style scoped>\n",
       "    .dataframe tbody tr th:only-of-type {\n",
       "        vertical-align: middle;\n",
       "    }\n",
       "\n",
       "    .dataframe tbody tr th {\n",
       "        vertical-align: top;\n",
       "    }\n",
       "\n",
       "    .dataframe thead th {\n",
       "        text-align: right;\n",
       "    }\n",
       "</style>\n",
       "<table border=\"1\" class=\"dataframe\">\n",
       "  <thead>\n",
       "    <tr style=\"text-align: right;\">\n",
       "      <th></th>\n",
       "      <th>Score</th>\n",
       "      <th>Age</th>\n",
       "      <th>Subject</th>\n",
       "      <th>Sex</th>\n",
       "      <th>ID</th>\n",
       "    </tr>\n",
       "  </thead>\n",
       "  <tbody>\n",
       "    <tr>\n",
       "      <th>0</th>\n",
       "      <td>88.0</td>\n",
       "      <td>18</td>\n",
       "      <td>Maths</td>\n",
       "      <td>M</td>\n",
       "      <td>1</td>\n",
       "    </tr>\n",
       "    <tr>\n",
       "      <th>1</th>\n",
       "      <td>85.0</td>\n",
       "      <td>19</td>\n",
       "      <td>Maths</td>\n",
       "      <td>M</td>\n",
       "      <td>2</td>\n",
       "    </tr>\n",
       "    <tr>\n",
       "      <th>2</th>\n",
       "      <td>45.0</td>\n",
       "      <td>19</td>\n",
       "      <td>Maths</td>\n",
       "      <td>M</td>\n",
       "      <td>3</td>\n",
       "    </tr>\n",
       "    <tr>\n",
       "      <th>3</th>\n",
       "      <td>82.0</td>\n",
       "      <td>18</td>\n",
       "      <td>Maths</td>\n",
       "      <td>M</td>\n",
       "      <td>4</td>\n",
       "    </tr>\n",
       "    <tr>\n",
       "      <th>4</th>\n",
       "      <td>82.0</td>\n",
       "      <td>18</td>\n",
       "      <td>Maths</td>\n",
       "      <td>F</td>\n",
       "      <td>5</td>\n",
       "    </tr>\n",
       "  </tbody>\n",
       "</table>\n",
       "</div>"
      ],
      "text/plain": [
       "   Score  Age Subject Sex  ID\n",
       "0   88.0   18   Maths   M   1\n",
       "1   85.0   19   Maths   M   2\n",
       "2   45.0   19   Maths   M   3\n",
       "3   82.0   18   Maths   M   4\n",
       "4   82.0   18   Maths   F   5"
      ]
     },
     "execution_count": 9,
     "metadata": {},
     "output_type": "execute_result"
    }
   ],
   "source": [
    "math_data = math_data.drop(['Name','Ethinicity'],axis = 1)\n",
    "math_data.head()"
   ]
  },
  {
   "cell_type": "code",
   "execution_count": 10,
   "id": "1a82deeb",
   "metadata": {},
   "outputs": [
    {
     "data": {
      "text/html": [
       "<div>\n",
       "<style scoped>\n",
       "    .dataframe tbody tr th:only-of-type {\n",
       "        vertical-align: middle;\n",
       "    }\n",
       "\n",
       "    .dataframe tbody tr th {\n",
       "        vertical-align: top;\n",
       "    }\n",
       "\n",
       "    .dataframe thead th {\n",
       "        text-align: right;\n",
       "    }\n",
       "</style>\n",
       "<table border=\"1\" class=\"dataframe\">\n",
       "  <thead>\n",
       "    <tr style=\"text-align: right;\">\n",
       "      <th></th>\n",
       "      <th>Score</th>\n",
       "      <th>Age</th>\n",
       "      <th>Subject</th>\n",
       "      <th>Sex</th>\n",
       "      <th>ID</th>\n",
       "    </tr>\n",
       "  </thead>\n",
       "  <tbody>\n",
       "    <tr>\n",
       "      <th>0</th>\n",
       "      <td>82.0</td>\n",
       "      <td>18</td>\n",
       "      <td>Data Structue</td>\n",
       "      <td>M</td>\n",
       "      <td>1</td>\n",
       "    </tr>\n",
       "    <tr>\n",
       "      <th>1</th>\n",
       "      <td>79.0</td>\n",
       "      <td>19</td>\n",
       "      <td>Data Structue</td>\n",
       "      <td>M</td>\n",
       "      <td>2</td>\n",
       "    </tr>\n",
       "    <tr>\n",
       "      <th>2</th>\n",
       "      <td>39.0</td>\n",
       "      <td>19</td>\n",
       "      <td>Data Structue</td>\n",
       "      <td>M</td>\n",
       "      <td>3</td>\n",
       "    </tr>\n",
       "    <tr>\n",
       "      <th>3</th>\n",
       "      <td>76.0</td>\n",
       "      <td>18</td>\n",
       "      <td>Data Structue</td>\n",
       "      <td>M</td>\n",
       "      <td>4</td>\n",
       "    </tr>\n",
       "    <tr>\n",
       "      <th>4</th>\n",
       "      <td>76.0</td>\n",
       "      <td>18</td>\n",
       "      <td>Data Structue</td>\n",
       "      <td>F</td>\n",
       "      <td>5</td>\n",
       "    </tr>\n",
       "  </tbody>\n",
       "</table>\n",
       "</div>"
      ],
      "text/plain": [
       "   Score  Age        Subject Sex  ID\n",
       "0   82.0   18  Data Structue   M   1\n",
       "1   79.0   19  Data Structue   M   2\n",
       "2   39.0   19  Data Structue   M   3\n",
       "3   76.0   18  Data Structue   M   4\n",
       "4   76.0   18  Data Structue   F   5"
      ]
     },
     "execution_count": 10,
     "metadata": {},
     "output_type": "execute_result"
    }
   ],
   "source": [
    "ds_data = ds_data.drop(['Name','Ethinicity'],axis = 1)\n",
    "ds_data.head()"
   ]
  },
  {
   "cell_type": "code",
   "execution_count": 11,
   "id": "0492132c",
   "metadata": {},
   "outputs": [
    {
     "data": {
      "text/html": [
       "<div>\n",
       "<style scoped>\n",
       "    .dataframe tbody tr th:only-of-type {\n",
       "        vertical-align: middle;\n",
       "    }\n",
       "\n",
       "    .dataframe tbody tr th {\n",
       "        vertical-align: top;\n",
       "    }\n",
       "\n",
       "    .dataframe thead th {\n",
       "        text-align: right;\n",
       "    }\n",
       "</style>\n",
       "<table border=\"1\" class=\"dataframe\">\n",
       "  <thead>\n",
       "    <tr style=\"text-align: right;\">\n",
       "      <th></th>\n",
       "      <th>Score</th>\n",
       "      <th>Age</th>\n",
       "      <th>Subject</th>\n",
       "      <th>Sex</th>\n",
       "      <th>ID</th>\n",
       "    </tr>\n",
       "  </thead>\n",
       "  <tbody>\n",
       "    <tr>\n",
       "      <th>0</th>\n",
       "      <td>84.0</td>\n",
       "      <td>18</td>\n",
       "      <td>Physics</td>\n",
       "      <td>M</td>\n",
       "      <td>1</td>\n",
       "    </tr>\n",
       "    <tr>\n",
       "      <th>1</th>\n",
       "      <td>81.0</td>\n",
       "      <td>19</td>\n",
       "      <td>Physics</td>\n",
       "      <td>M</td>\n",
       "      <td>2</td>\n",
       "    </tr>\n",
       "    <tr>\n",
       "      <th>2</th>\n",
       "      <td>41.0</td>\n",
       "      <td>19</td>\n",
       "      <td>Physics</td>\n",
       "      <td>M</td>\n",
       "      <td>3</td>\n",
       "    </tr>\n",
       "    <tr>\n",
       "      <th>3</th>\n",
       "      <td>78.0</td>\n",
       "      <td>18</td>\n",
       "      <td>Physics</td>\n",
       "      <td>M</td>\n",
       "      <td>4</td>\n",
       "    </tr>\n",
       "    <tr>\n",
       "      <th>4</th>\n",
       "      <td>78.0</td>\n",
       "      <td>18</td>\n",
       "      <td>Physics</td>\n",
       "      <td>F</td>\n",
       "      <td>5</td>\n",
       "    </tr>\n",
       "  </tbody>\n",
       "</table>\n",
       "</div>"
      ],
      "text/plain": [
       "   Score  Age  Subject Sex  ID\n",
       "0   84.0   18  Physics   M   1\n",
       "1   81.0   19  Physics   M   2\n",
       "2   41.0   19  Physics   M   3\n",
       "3   78.0   18  Physics   M   4\n",
       "4   78.0   18  Physics   F   5"
      ]
     },
     "execution_count": 11,
     "metadata": {},
     "output_type": "execute_result"
    }
   ],
   "source": [
    "physics_data = physics_data.drop(['Name','Ethinicity'],axis = 1)\n",
    "physics_data.head()"
   ]
  },
  {
   "cell_type": "markdown",
   "id": "c9e590a8",
   "metadata": {},
   "source": [
    "3. Fill missing score data with zero"
   ]
  },
  {
   "cell_type": "code",
   "execution_count": 12,
   "id": "d173d80e",
   "metadata": {},
   "outputs": [
    {
     "data": {
      "text/plain": [
       "Score      3\n",
       "Age        0\n",
       "Subject    0\n",
       "Sex        0\n",
       "ID         0\n",
       "dtype: int64"
      ]
     },
     "execution_count": 12,
     "metadata": {},
     "output_type": "execute_result"
    }
   ],
   "source": [
    "math_data.isnull().sum()"
   ]
  },
  {
   "cell_type": "code",
   "execution_count": 13,
   "id": "8a4dc56a",
   "metadata": {},
   "outputs": [
    {
     "data": {
      "text/plain": [
       "Score      8\n",
       "Age        0\n",
       "Subject    0\n",
       "Sex        0\n",
       "ID         0\n",
       "dtype: int64"
      ]
     },
     "execution_count": 13,
     "metadata": {},
     "output_type": "execute_result"
    }
   ],
   "source": [
    "ds_data.isnull().sum()"
   ]
  },
  {
   "cell_type": "code",
   "execution_count": 14,
   "id": "68ec18df",
   "metadata": {},
   "outputs": [
    {
     "data": {
      "text/plain": [
       "Score      6\n",
       "Age        0\n",
       "Subject    0\n",
       "Sex        0\n",
       "ID         0\n",
       "dtype: int64"
      ]
     },
     "execution_count": 14,
     "metadata": {},
     "output_type": "execute_result"
    }
   ],
   "source": [
    "physics_data.isnull().sum()"
   ]
  },
  {
   "cell_type": "code",
   "execution_count": 15,
   "id": "3b6a0daa",
   "metadata": {},
   "outputs": [],
   "source": [
    "math_data['Score'] = math_data['Score'].fillna(0)"
   ]
  },
  {
   "cell_type": "code",
   "execution_count": 16,
   "id": "3c85a81b",
   "metadata": {},
   "outputs": [],
   "source": [
    "ds_data['Score'] = ds_data['Score'].fillna(0)"
   ]
  },
  {
   "cell_type": "code",
   "execution_count": 17,
   "id": "4a219ced",
   "metadata": {},
   "outputs": [],
   "source": [
    "physics_data['Score'] = physics_data['Score'].fillna(0)"
   ]
  },
  {
   "cell_type": "code",
   "execution_count": 18,
   "id": "64841074",
   "metadata": {},
   "outputs": [
    {
     "data": {
      "text/plain": [
       "Score      0\n",
       "Age        0\n",
       "Subject    0\n",
       "Sex        0\n",
       "ID         0\n",
       "dtype: int64"
      ]
     },
     "execution_count": 18,
     "metadata": {},
     "output_type": "execute_result"
    }
   ],
   "source": [
    "math_data.isnull().sum()"
   ]
  },
  {
   "cell_type": "code",
   "execution_count": 19,
   "id": "66d6203f",
   "metadata": {},
   "outputs": [
    {
     "data": {
      "text/plain": [
       "Score      0\n",
       "Age        0\n",
       "Subject    0\n",
       "Sex        0\n",
       "ID         0\n",
       "dtype: int64"
      ]
     },
     "execution_count": 19,
     "metadata": {},
     "output_type": "execute_result"
    }
   ],
   "source": [
    "ds_data.isnull().sum()"
   ]
  },
  {
   "cell_type": "code",
   "execution_count": 20,
   "id": "543f0cda",
   "metadata": {},
   "outputs": [
    {
     "data": {
      "text/plain": [
       "Score      0\n",
       "Age        0\n",
       "Subject    0\n",
       "Sex        0\n",
       "ID         0\n",
       "dtype: int64"
      ]
     },
     "execution_count": 20,
     "metadata": {},
     "output_type": "execute_result"
    }
   ],
   "source": [
    "physics_data.isnull().sum()"
   ]
  },
  {
   "cell_type": "markdown",
   "id": "782abdf0",
   "metadata": {},
   "source": [
    "3. Merge the three files"
   ]
  },
  {
   "cell_type": "code",
   "execution_count": 21,
   "id": "b46298e1",
   "metadata": {},
   "outputs": [],
   "source": [
    "all_data = [math_data,ds_data,physics_data]"
   ]
  },
  {
   "cell_type": "code",
   "execution_count": 22,
   "id": "0044803a",
   "metadata": {},
   "outputs": [
    {
     "data": {
      "text/plain": [
       "[     Score  Age Subject Sex   ID\n",
       " 0     88.0   18   Maths   M    1\n",
       " 1     85.0   19   Maths   M    2\n",
       " 2     45.0   19   Maths   M    3\n",
       " 3     82.0   18   Maths   M    4\n",
       " 4     82.0   18   Maths   F    5\n",
       " ..     ...  ...     ...  ..  ...\n",
       " 594   45.0   19   Maths   F  595\n",
       " 595   75.0   18   Maths   M  596\n",
       " 596   53.0   20   Maths   M  597\n",
       " 597   75.0   20   Maths   M  598\n",
       " 598   88.0   19   Maths   M  599\n",
       " \n",
       " [599 rows x 5 columns],\n",
       "      Score  Age        Subject Sex   ID\n",
       " 0     82.0   18  Data Structue   M    1\n",
       " 1     79.0   19  Data Structue   M    2\n",
       " 2     39.0   19  Data Structue   M    3\n",
       " 3     76.0   18  Data Structue   M    4\n",
       " 4     76.0   18  Data Structue   F    5\n",
       " ..     ...  ...            ...  ..  ...\n",
       " 594   39.0   19  Data Structue   F  595\n",
       " 595   69.0   18  Data Structue   M  596\n",
       " 596   47.0   20  Data Structue   M  597\n",
       " 597   69.0   20  Data Structue   M  598\n",
       " 598    0.0   19  Data Structue   M  599\n",
       " \n",
       " [599 rows x 5 columns],\n",
       "      Score  Age  Subject Sex   ID\n",
       " 0     84.0   18  Physics   M    1\n",
       " 1     81.0   19  Physics   M    2\n",
       " 2     41.0   19  Physics   M    3\n",
       " 3     78.0   18  Physics   M    4\n",
       " 4     78.0   18  Physics   F    5\n",
       " ..     ...  ...      ...  ..  ...\n",
       " 594   41.0   19  Physics   F  595\n",
       " 595   71.0   18  Physics   M  596\n",
       " 596   49.0   20  Physics   M  597\n",
       " 597   71.0   20  Physics   M  598\n",
       " 598   69.0   19  Physics   M  599\n",
       " \n",
       " [599 rows x 5 columns]]"
      ]
     },
     "execution_count": 22,
     "metadata": {},
     "output_type": "execute_result"
    }
   ],
   "source": [
    "all_data"
   ]
  },
  {
   "cell_type": "markdown",
   "id": "e22a03cd",
   "metadata": {},
   "source": [
    "4. Change Sex(M/F) Column to 1/2 for further analysis"
   ]
  },
  {
   "cell_type": "code",
   "execution_count": 23,
   "id": "f86c6c94",
   "metadata": {},
   "outputs": [],
   "source": [
    "for dataset in all_data:\n",
    "    dataset['Sex'] = dataset['Sex'].map({'M':1,'F':2}).astype(int)"
   ]
  },
  {
   "cell_type": "code",
   "execution_count": 24,
   "id": "4d3c12bb",
   "metadata": {},
   "outputs": [],
   "source": [
    "all_data_df = pd.concat(all_data)"
   ]
  },
  {
   "cell_type": "code",
   "execution_count": 25,
   "id": "dc53564d",
   "metadata": {},
   "outputs": [
    {
     "data": {
      "text/html": [
       "<div>\n",
       "<style scoped>\n",
       "    .dataframe tbody tr th:only-of-type {\n",
       "        vertical-align: middle;\n",
       "    }\n",
       "\n",
       "    .dataframe tbody tr th {\n",
       "        vertical-align: top;\n",
       "    }\n",
       "\n",
       "    .dataframe thead th {\n",
       "        text-align: right;\n",
       "    }\n",
       "</style>\n",
       "<table border=\"1\" class=\"dataframe\">\n",
       "  <thead>\n",
       "    <tr style=\"text-align: right;\">\n",
       "      <th></th>\n",
       "      <th>Score</th>\n",
       "      <th>Age</th>\n",
       "      <th>Subject</th>\n",
       "      <th>Sex</th>\n",
       "      <th>ID</th>\n",
       "    </tr>\n",
       "  </thead>\n",
       "  <tbody>\n",
       "    <tr>\n",
       "      <th>0</th>\n",
       "      <td>88.0</td>\n",
       "      <td>18</td>\n",
       "      <td>Maths</td>\n",
       "      <td>1</td>\n",
       "      <td>1</td>\n",
       "    </tr>\n",
       "    <tr>\n",
       "      <th>1</th>\n",
       "      <td>85.0</td>\n",
       "      <td>19</td>\n",
       "      <td>Maths</td>\n",
       "      <td>1</td>\n",
       "      <td>2</td>\n",
       "    </tr>\n",
       "    <tr>\n",
       "      <th>2</th>\n",
       "      <td>45.0</td>\n",
       "      <td>19</td>\n",
       "      <td>Maths</td>\n",
       "      <td>1</td>\n",
       "      <td>3</td>\n",
       "    </tr>\n",
       "    <tr>\n",
       "      <th>3</th>\n",
       "      <td>82.0</td>\n",
       "      <td>18</td>\n",
       "      <td>Maths</td>\n",
       "      <td>1</td>\n",
       "      <td>4</td>\n",
       "    </tr>\n",
       "    <tr>\n",
       "      <th>4</th>\n",
       "      <td>82.0</td>\n",
       "      <td>18</td>\n",
       "      <td>Maths</td>\n",
       "      <td>2</td>\n",
       "      <td>5</td>\n",
       "    </tr>\n",
       "  </tbody>\n",
       "</table>\n",
       "</div>"
      ],
      "text/plain": [
       "   Score  Age Subject  Sex  ID\n",
       "0   88.0   18   Maths    1   1\n",
       "1   85.0   19   Maths    1   2\n",
       "2   45.0   19   Maths    1   3\n",
       "3   82.0   18   Maths    1   4\n",
       "4   82.0   18   Maths    2   5"
      ]
     },
     "execution_count": 25,
     "metadata": {},
     "output_type": "execute_result"
    }
   ],
   "source": [
    "all_data_df.head()"
   ]
  },
  {
   "cell_type": "code",
   "execution_count": 26,
   "id": "11b1dc86",
   "metadata": {},
   "outputs": [
    {
     "name": "stdout",
     "output_type": "stream",
     "text": [
      "<class 'pandas.core.frame.DataFrame'>\n",
      "Index: 1797 entries, 0 to 598\n",
      "Data columns (total 5 columns):\n",
      " #   Column   Non-Null Count  Dtype  \n",
      "---  ------   --------------  -----  \n",
      " 0   Score    1797 non-null   float64\n",
      " 1   Age      1797 non-null   int64  \n",
      " 2   Subject  1797 non-null   object \n",
      " 3   Sex      1797 non-null   int32  \n",
      " 4   ID       1797 non-null   int64  \n",
      "dtypes: float64(1), int32(1), int64(2), object(1)\n",
      "memory usage: 77.2+ KB\n"
     ]
    }
   ],
   "source": [
    "all_data_df.info()"
   ]
  },
  {
   "cell_type": "markdown",
   "id": "3a0cf178",
   "metadata": {},
   "source": [
    "6. Store the data in new file – ScoreFinal.csv"
   ]
  },
  {
   "cell_type": "code",
   "execution_count": 27,
   "id": "d8e9d189",
   "metadata": {},
   "outputs": [],
   "source": [
    "os.getcwd()\n",
    "all_data_df.to_csv('ScoreFinal.csv,index = False')"
   ]
  },
  {
   "cell_type": "markdown",
   "id": "e251fbf5",
   "metadata": {},
   "source": [
    "7. Convert ethnicity to numerical value."
   ]
  },
  {
   "cell_type": "code",
   "execution_count": 28,
   "id": "f2d4e0c9",
   "metadata": {},
   "outputs": [],
   "source": [
    "math_data_1 = pd.read_csv('MathScoreTerm1.csv')\n",
    "ds_data_1 = pd.read_csv('DSScoreTerm1.csv')\n",
    "physics_data_1 = pd.read_csv('PhysicsScoreTerm1.csv')"
   ]
  },
  {
   "cell_type": "code",
   "execution_count": 29,
   "id": "0703e4c4",
   "metadata": {},
   "outputs": [
    {
     "data": {
      "text/plain": [
       "array(['White American', 'European American', 'Hispanic',\n",
       "       'African American'], dtype=object)"
      ]
     },
     "execution_count": 29,
     "metadata": {},
     "output_type": "execute_result"
    }
   ],
   "source": [
    "math_data_1['Ethinicity'].unique()"
   ]
  },
  {
   "cell_type": "code",
   "execution_count": 30,
   "id": "820879e2",
   "metadata": {},
   "outputs": [
    {
     "data": {
      "text/plain": [
       "array(['White American', 'European American', 'Hispanic',\n",
       "       'African American'], dtype=object)"
      ]
     },
     "execution_count": 30,
     "metadata": {},
     "output_type": "execute_result"
    }
   ],
   "source": [
    "ds_data_1['Ethinicity'].unique()"
   ]
  },
  {
   "cell_type": "code",
   "execution_count": 31,
   "id": "861591b0",
   "metadata": {},
   "outputs": [
    {
     "data": {
      "text/plain": [
       "array(['White American', 'European American', 'Hispanic',\n",
       "       'African American'], dtype=object)"
      ]
     },
     "execution_count": 31,
     "metadata": {},
     "output_type": "execute_result"
    }
   ],
   "source": [
    "physics_data_1['Ethinicity'].unique()"
   ]
  },
  {
   "cell_type": "code",
   "execution_count": 32,
   "id": "9be7bc9b",
   "metadata": {},
   "outputs": [],
   "source": [
    "all_data_2 = [math_data_1,ds_data_1,physics_data_1]"
   ]
  },
  {
   "cell_type": "code",
   "execution_count": 33,
   "id": "a2ba29d1",
   "metadata": {},
   "outputs": [],
   "source": [
    "for dataset in all_data_2:\n",
    "    dataset['Ethinicity'] = dataset['Ethinicity'].map({'White American':1,'European American':2, 'Hispanic':3,\n",
    "       'African American':4}).astype(int)"
   ]
  },
  {
   "cell_type": "code",
   "execution_count": 34,
   "id": "4122d785",
   "metadata": {},
   "outputs": [],
   "source": [
    "all_data_2_df = pd.concat(all_data_2)"
   ]
  },
  {
   "cell_type": "code",
   "execution_count": 35,
   "id": "c611cf6e",
   "metadata": {},
   "outputs": [
    {
     "data": {
      "text/html": [
       "<div>\n",
       "<style scoped>\n",
       "    .dataframe tbody tr th:only-of-type {\n",
       "        vertical-align: middle;\n",
       "    }\n",
       "\n",
       "    .dataframe tbody tr th {\n",
       "        vertical-align: top;\n",
       "    }\n",
       "\n",
       "    .dataframe thead th {\n",
       "        text-align: right;\n",
       "    }\n",
       "</style>\n",
       "<table border=\"1\" class=\"dataframe\">\n",
       "  <thead>\n",
       "    <tr style=\"text-align: right;\">\n",
       "      <th></th>\n",
       "      <th>Name</th>\n",
       "      <th>Score</th>\n",
       "      <th>Age</th>\n",
       "      <th>Ethinicity</th>\n",
       "      <th>Subject</th>\n",
       "      <th>Sex</th>\n",
       "      <th>ID</th>\n",
       "    </tr>\n",
       "  </thead>\n",
       "  <tbody>\n",
       "    <tr>\n",
       "      <th>0</th>\n",
       "      <td>AI-KYUNG CHUNG</td>\n",
       "      <td>88.0</td>\n",
       "      <td>18</td>\n",
       "      <td>1</td>\n",
       "      <td>Maths</td>\n",
       "      <td>M</td>\n",
       "      <td>1</td>\n",
       "    </tr>\n",
       "    <tr>\n",
       "      <th>1</th>\n",
       "      <td>ALAN HARVEY</td>\n",
       "      <td>85.0</td>\n",
       "      <td>19</td>\n",
       "      <td>2</td>\n",
       "      <td>Maths</td>\n",
       "      <td>M</td>\n",
       "      <td>2</td>\n",
       "    </tr>\n",
       "    <tr>\n",
       "      <th>2</th>\n",
       "      <td>ALAN REYNAUD</td>\n",
       "      <td>45.0</td>\n",
       "      <td>19</td>\n",
       "      <td>2</td>\n",
       "      <td>Maths</td>\n",
       "      <td>M</td>\n",
       "      <td>3</td>\n",
       "    </tr>\n",
       "    <tr>\n",
       "      <th>3</th>\n",
       "      <td>ALBERT CENDANA</td>\n",
       "      <td>82.0</td>\n",
       "      <td>18</td>\n",
       "      <td>1</td>\n",
       "      <td>Maths</td>\n",
       "      <td>M</td>\n",
       "      <td>4</td>\n",
       "    </tr>\n",
       "    <tr>\n",
       "      <th>4</th>\n",
       "      <td>ALBERT HOLT JR</td>\n",
       "      <td>82.0</td>\n",
       "      <td>18</td>\n",
       "      <td>1</td>\n",
       "      <td>Maths</td>\n",
       "      <td>F</td>\n",
       "      <td>5</td>\n",
       "    </tr>\n",
       "  </tbody>\n",
       "</table>\n",
       "</div>"
      ],
      "text/plain": [
       "             Name  Score  Age  Ethinicity Subject Sex  ID\n",
       "0  AI-KYUNG CHUNG   88.0   18           1   Maths   M   1\n",
       "1     ALAN HARVEY   85.0   19           2   Maths   M   2\n",
       "2    ALAN REYNAUD   45.0   19           2   Maths   M   3\n",
       "3  ALBERT CENDANA   82.0   18           1   Maths   M   4\n",
       "4  ALBERT HOLT JR   82.0   18           1   Maths   F   5"
      ]
     },
     "execution_count": 35,
     "metadata": {},
     "output_type": "execute_result"
    }
   ],
   "source": [
    "all_data_2_df.head()"
   ]
  },
  {
   "cell_type": "code",
   "execution_count": 36,
   "id": "56a234f2",
   "metadata": {},
   "outputs": [
    {
     "name": "stdout",
     "output_type": "stream",
     "text": [
      "<class 'pandas.core.frame.DataFrame'>\n",
      "Index: 1797 entries, 0 to 598\n",
      "Data columns (total 7 columns):\n",
      " #   Column      Non-Null Count  Dtype  \n",
      "---  ------      --------------  -----  \n",
      " 0   Name        1797 non-null   object \n",
      " 1   Score       1780 non-null   float64\n",
      " 2   Age         1797 non-null   int64  \n",
      " 3   Ethinicity  1797 non-null   int32  \n",
      " 4   Subject     1797 non-null   object \n",
      " 5   Sex         1797 non-null   object \n",
      " 6   ID          1797 non-null   int64  \n",
      "dtypes: float64(1), int32(1), int64(2), object(3)\n",
      "memory usage: 105.3+ KB\n"
     ]
    }
   ],
   "source": [
    "all_data_2_df.info()"
   ]
  },
  {
   "cell_type": "markdown",
   "id": "53c6f1fa",
   "metadata": {},
   "source": [
    "8. Fill the missing score for a student to the average of the class"
   ]
  },
  {
   "cell_type": "code",
   "execution_count": 41,
   "id": "4eb1e6c2",
   "metadata": {},
   "outputs": [],
   "source": [
    "math_data_4 = math_data.drop(['Name','Ethinicity'],axis = 1)\n",
    "ds_data_4 = ds_data.drop(['Name','Ethinicity'],axis = 1)\n",
    "physics_data_4 = physics_data.drop(['Name','Ethinicity'],axis = 1) # rerun In[39,40,41]"
   ]
  },
  {
   "cell_type": "code",
   "execution_count": 42,
   "id": "c8cee460",
   "metadata": {},
   "outputs": [
    {
     "data": {
      "text/plain": [
       "Score      3\n",
       "Age        0\n",
       "Subject    0\n",
       "Sex        0\n",
       "ID         0\n",
       "dtype: int64"
      ]
     },
     "execution_count": 42,
     "metadata": {},
     "output_type": "execute_result"
    }
   ],
   "source": [
    "math_data_4.isnull().sum()"
   ]
  },
  {
   "cell_type": "code",
   "execution_count": 43,
   "id": "736d83c4",
   "metadata": {},
   "outputs": [
    {
     "data": {
      "text/plain": [
       "Score      8\n",
       "Age        0\n",
       "Subject    0\n",
       "Sex        0\n",
       "ID         0\n",
       "dtype: int64"
      ]
     },
     "execution_count": 43,
     "metadata": {},
     "output_type": "execute_result"
    }
   ],
   "source": [
    "ds_data_4.isnull().sum()"
   ]
  },
  {
   "cell_type": "code",
   "execution_count": 44,
   "id": "69c49b27",
   "metadata": {},
   "outputs": [
    {
     "data": {
      "text/plain": [
       "Score      6\n",
       "Age        0\n",
       "Subject    0\n",
       "Sex        0\n",
       "ID         0\n",
       "dtype: int64"
      ]
     },
     "execution_count": 44,
     "metadata": {},
     "output_type": "execute_result"
    }
   ],
   "source": [
    "physics_data_4.isnull().sum()"
   ]
  },
  {
   "cell_type": "code",
   "execution_count": 45,
   "id": "4bb8c6a4",
   "metadata": {},
   "outputs": [],
   "source": [
    "math_data_4_avg = math_data_4['Score'].mean()\n",
    "ds_data_4_avg = ds_data_4['Score'].mean()\n",
    "physics_data_4_avg = physics_data_4['Score'].mean()"
   ]
  },
  {
   "cell_type": "code",
   "execution_count": 46,
   "id": "63f01f88",
   "metadata": {},
   "outputs": [],
   "source": [
    "math_data_4['Score'] = math_data_4['Score'].fillna(math_data_4_avg)\n",
    "ds_data_4['Score'] = ds_data_4['Score'].fillna(ds_data_4_avg)\n",
    "physics_data_4['Score'] = physics_data_4['Score'].fillna(physics_data_4_avg)"
   ]
  },
  {
   "cell_type": "code",
   "execution_count": 47,
   "id": "dfb3343b",
   "metadata": {},
   "outputs": [],
   "source": [
    "all_data = [math_data_4,ds_data_4,physics_data_4]"
   ]
  },
  {
   "cell_type": "code",
   "execution_count": 48,
   "id": "ebab569a",
   "metadata": {},
   "outputs": [],
   "source": [
    "all_data_avg = pd.concat(all_data)"
   ]
  },
  {
   "cell_type": "code",
   "execution_count": 49,
   "id": "884258f1",
   "metadata": {},
   "outputs": [
    {
     "data": {
      "text/html": [
       "<div>\n",
       "<style scoped>\n",
       "    .dataframe tbody tr th:only-of-type {\n",
       "        vertical-align: middle;\n",
       "    }\n",
       "\n",
       "    .dataframe tbody tr th {\n",
       "        vertical-align: top;\n",
       "    }\n",
       "\n",
       "    .dataframe thead th {\n",
       "        text-align: right;\n",
       "    }\n",
       "</style>\n",
       "<table border=\"1\" class=\"dataframe\">\n",
       "  <thead>\n",
       "    <tr style=\"text-align: right;\">\n",
       "      <th></th>\n",
       "      <th>Score</th>\n",
       "      <th>Age</th>\n",
       "      <th>Subject</th>\n",
       "      <th>Sex</th>\n",
       "      <th>ID</th>\n",
       "    </tr>\n",
       "  </thead>\n",
       "  <tbody>\n",
       "    <tr>\n",
       "      <th>0</th>\n",
       "      <td>88.0</td>\n",
       "      <td>18</td>\n",
       "      <td>Maths</td>\n",
       "      <td>M</td>\n",
       "      <td>1</td>\n",
       "    </tr>\n",
       "    <tr>\n",
       "      <th>1</th>\n",
       "      <td>85.0</td>\n",
       "      <td>19</td>\n",
       "      <td>Maths</td>\n",
       "      <td>M</td>\n",
       "      <td>2</td>\n",
       "    </tr>\n",
       "    <tr>\n",
       "      <th>2</th>\n",
       "      <td>45.0</td>\n",
       "      <td>19</td>\n",
       "      <td>Maths</td>\n",
       "      <td>M</td>\n",
       "      <td>3</td>\n",
       "    </tr>\n",
       "    <tr>\n",
       "      <th>3</th>\n",
       "      <td>82.0</td>\n",
       "      <td>18</td>\n",
       "      <td>Maths</td>\n",
       "      <td>M</td>\n",
       "      <td>4</td>\n",
       "    </tr>\n",
       "    <tr>\n",
       "      <th>4</th>\n",
       "      <td>82.0</td>\n",
       "      <td>18</td>\n",
       "      <td>Maths</td>\n",
       "      <td>F</td>\n",
       "      <td>5</td>\n",
       "    </tr>\n",
       "    <tr>\n",
       "      <th>...</th>\n",
       "      <td>...</td>\n",
       "      <td>...</td>\n",
       "      <td>...</td>\n",
       "      <td>...</td>\n",
       "      <td>...</td>\n",
       "    </tr>\n",
       "    <tr>\n",
       "      <th>594</th>\n",
       "      <td>41.0</td>\n",
       "      <td>19</td>\n",
       "      <td>Physics</td>\n",
       "      <td>F</td>\n",
       "      <td>595</td>\n",
       "    </tr>\n",
       "    <tr>\n",
       "      <th>595</th>\n",
       "      <td>71.0</td>\n",
       "      <td>18</td>\n",
       "      <td>Physics</td>\n",
       "      <td>M</td>\n",
       "      <td>596</td>\n",
       "    </tr>\n",
       "    <tr>\n",
       "      <th>596</th>\n",
       "      <td>49.0</td>\n",
       "      <td>20</td>\n",
       "      <td>Physics</td>\n",
       "      <td>M</td>\n",
       "      <td>597</td>\n",
       "    </tr>\n",
       "    <tr>\n",
       "      <th>597</th>\n",
       "      <td>71.0</td>\n",
       "      <td>20</td>\n",
       "      <td>Physics</td>\n",
       "      <td>M</td>\n",
       "      <td>598</td>\n",
       "    </tr>\n",
       "    <tr>\n",
       "      <th>598</th>\n",
       "      <td>69.0</td>\n",
       "      <td>19</td>\n",
       "      <td>Physics</td>\n",
       "      <td>M</td>\n",
       "      <td>599</td>\n",
       "    </tr>\n",
       "  </tbody>\n",
       "</table>\n",
       "<p>1797 rows × 5 columns</p>\n",
       "</div>"
      ],
      "text/plain": [
       "     Score  Age  Subject Sex   ID\n",
       "0     88.0   18    Maths   M    1\n",
       "1     85.0   19    Maths   M    2\n",
       "2     45.0   19    Maths   M    3\n",
       "3     82.0   18    Maths   M    4\n",
       "4     82.0   18    Maths   F    5\n",
       "..     ...  ...      ...  ..  ...\n",
       "594   41.0   19  Physics   F  595\n",
       "595   71.0   18  Physics   M  596\n",
       "596   49.0   20  Physics   M  597\n",
       "597   71.0   20  Physics   M  598\n",
       "598   69.0   19  Physics   M  599\n",
       "\n",
       "[1797 rows x 5 columns]"
      ]
     },
     "execution_count": 49,
     "metadata": {},
     "output_type": "execute_result"
    }
   ],
   "source": [
    "all_data_avg"
   ]
  },
  {
   "cell_type": "code",
   "execution_count": null,
   "id": "6e3811fc",
   "metadata": {},
   "outputs": [],
   "source": []
  }
 ],
 "metadata": {
  "kernelspec": {
   "display_name": "Python 3 (ipykernel)",
   "language": "python",
   "name": "python3"
  },
  "language_info": {
   "codemirror_mode": {
    "name": "ipython",
    "version": 3
   },
   "file_extension": ".py",
   "mimetype": "text/x-python",
   "name": "python",
   "nbconvert_exporter": "python",
   "pygments_lexer": "ipython3",
   "version": "3.11.5"
  }
 },
 "nbformat": 4,
 "nbformat_minor": 5
}
