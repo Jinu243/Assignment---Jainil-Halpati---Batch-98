{
 "cells": [
  {
   "cell_type": "markdown",
   "id": "937203e1",
   "metadata": {},
   "source": [
    "1. What is the output of the following code?"
   ]
  },
  {
   "cell_type": "code",
   "execution_count": 3,
   "id": "f93225b5",
   "metadata": {},
   "outputs": [],
   "source": [
    "nums = set([1,1,2,3,3,3,4,4])"
   ]
  },
  {
   "cell_type": "code",
   "execution_count": 4,
   "id": "72df2fe6",
   "metadata": {},
   "outputs": [
    {
     "name": "stdout",
     "output_type": "stream",
     "text": [
      "4\n"
     ]
    }
   ],
   "source": [
    "print(len(nums)) #OUTPUT"
   ]
  },
  {
   "cell_type": "markdown",
   "id": "05974a2b",
   "metadata": {},
   "source": [
    "2. What will be the output?"
   ]
  },
  {
   "cell_type": "code",
   "execution_count": 5,
   "id": "db51af62",
   "metadata": {},
   "outputs": [],
   "source": [
    "d = {\"john\":40, \"peter\":45}"
   ]
  },
  {
   "cell_type": "code",
   "execution_count": 6,
   "id": "df1226d5",
   "metadata": {},
   "outputs": [
    {
     "name": "stdout",
     "output_type": "stream",
     "text": [
      "['john', 'peter']\n"
     ]
    }
   ],
   "source": [
    "print(list(d.keys())) #OUTPUT"
   ]
  },
  {
   "cell_type": "markdown",
   "id": "193c0df4",
   "metadata": {},
   "source": [
    "3. Write a for loop that prints all elements of a list and their position in the list."
   ]
  },
  {
   "cell_type": "code",
   "execution_count": 10,
   "id": "055c4239",
   "metadata": {},
   "outputs": [
    {
     "name": "stdout",
     "output_type": "stream",
     "text": [
      "4 is at Position 1\n",
      "7 is at Position 2\n",
      "3 is at Position 3\n",
      "2 is at Position 4\n",
      "5 is at Position 5\n",
      "9 is at Position 6\n"
     ]
    }
   ],
   "source": [
    "a = [4,7,3,2,5,9]\n",
    "for num in a:\n",
    "    print(num,\"is at Position\",str(a.index(num)+1))"
   ]
  },
  {
   "cell_type": "markdown",
   "id": "67ec013f",
   "metadata": {},
   "source": [
    "4.Please write a program which accepts a string from console and print the characters that have even indexes.\n",
    "\n",
    "\n",
    "Example: If the following string is given as input to the program:\n",
    "\n",
    "H1e2l3l4o5w6o7r8l9d\n",
    "\n",
    "Then, the output of the program should be:\n",
    "\n",
    "Helloworld\n"
   ]
  },
  {
   "cell_type": "code",
   "execution_count": 11,
   "id": "8b8b7ff6",
   "metadata": {},
   "outputs": [],
   "source": [
    "a = ('H1e2l3l4o5w6o7r8l9d')"
   ]
  },
  {
   "cell_type": "code",
   "execution_count": 12,
   "id": "cb114aad",
   "metadata": {},
   "outputs": [
    {
     "name": "stdout",
     "output_type": "stream",
     "text": [
      "Helloworld\n"
     ]
    }
   ],
   "source": [
    "print(a[::2])"
   ]
  },
  {
   "cell_type": "markdown",
   "id": "4e12e2f6",
   "metadata": {},
   "source": [
    "5.Please write a program which accepts a string from console and print it in reverse order."
   ]
  },
  {
   "cell_type": "code",
   "execution_count": 16,
   "id": "b832206b",
   "metadata": {},
   "outputs": [],
   "source": [
    "a = ('rise to vote sir')"
   ]
  },
  {
   "cell_type": "code",
   "execution_count": 21,
   "id": "32cfa58d",
   "metadata": {},
   "outputs": [
    {
     "name": "stdout",
     "output_type": "stream",
     "text": [
      "ris etov ot esir\n"
     ]
    }
   ],
   "source": [
    "print(a[::-1])"
   ]
  },
  {
   "cell_type": "markdown",
   "id": "f440549f",
   "metadata": {},
   "source": [
    "6.Please write a program which count and print the numbers of each character in a string input by console."
   ]
  },
  {
   "cell_type": "code",
   "execution_count": 45,
   "id": "2074c147",
   "metadata": {},
   "outputs": [],
   "source": [
    "a = ('abcdefgabc')\n",
    "char_count = {}"
   ]
  },
  {
   "cell_type": "code",
   "execution_count": 47,
   "id": "06f7e43e",
   "metadata": {},
   "outputs": [],
   "source": [
    "for n in a:\n",
    "    if n in char_count:\n",
    "        char_count[n] += 1\n",
    "    else:\n",
    "        char_count[n] = 1"
   ]
  },
  {
   "cell_type": "code",
   "execution_count": 48,
   "id": "1b300363",
   "metadata": {},
   "outputs": [
    {
     "name": "stdout",
     "output_type": "stream",
     "text": [
      "c {'a': 2, 'b': 2, 'c': 2, 'd': 1, 'e': 1, 'f': 1, 'g': 1}\n"
     ]
    }
   ],
   "source": [
    "print(n,char_count)"
   ]
  },
  {
   "cell_type": "markdown",
   "id": "c567bac5",
   "metadata": {},
   "source": [
    "7.With two given lists [1,3,6,78,35,55] and [12,24,35,24,88,120,155],\n",
    "write a program to make a list whose elements are intersection of the above given lists."
   ]
  },
  {
   "cell_type": "code",
   "execution_count": 51,
   "id": "ac69475f",
   "metadata": {},
   "outputs": [],
   "source": [
    "a = [1,3,6,78,35,55]\n",
    "b = [12,24,35,24,88,120,155]\n",
    "c = []\n",
    "\n",
    "for elements in (a and b):\n",
    "    c.append(elements)"
   ]
  },
  {
   "cell_type": "code",
   "execution_count": 52,
   "id": "5a5734ec",
   "metadata": {},
   "outputs": [
    {
     "data": {
      "text/plain": [
       "[12, 24, 35, 24, 88, 120, 155]"
      ]
     },
     "execution_count": 52,
     "metadata": {},
     "output_type": "execute_result"
    }
   ],
   "source": [
    "c"
   ]
  },
  {
   "cell_type": "markdown",
   "id": "eeb819fe",
   "metadata": {},
   "source": [
    "8.Write a program to print the list after removing the value 24 in [12,24,35,24,88,120,155]."
   ]
  },
  {
   "cell_type": "code",
   "execution_count": 59,
   "id": "63640a4a",
   "metadata": {},
   "outputs": [
    {
     "name": "stdout",
     "output_type": "stream",
     "text": [
      "[12, 35, 88, 120, 155]\n"
     ]
    }
   ],
   "source": [
    "for n in c:\n",
    "    if n == 24:\n",
    "        c.remove(n)\n",
    "print(c)"
   ]
  },
  {
   "cell_type": "markdown",
   "id": "da8ad8dd",
   "metadata": {},
   "source": [
    "9. Write a program to print the list after removing the 0th,4th,5th numbers in [12,24,35,70,88,120,155]."
   ]
  },
  {
   "cell_type": "code",
   "execution_count": 75,
   "id": "87ab4ff8",
   "metadata": {},
   "outputs": [
    {
     "name": "stdout",
     "output_type": "stream",
     "text": [
      "[24, 35, 70, 155]\n"
     ]
    }
   ],
   "source": [
    "numbers = [12, 24, 35, 70, 88, 120, 155]\n",
    "indices_to_remove = [0, 4, 5]\n",
    "for index in sorted(indices_to_remove, reverse=True):\n",
    "    del numbers[index]\n",
    "print(numbers)\n"
   ]
  },
  {
   "cell_type": "markdown",
   "id": "cff3829e",
   "metadata": {},
   "source": [
    "10. Write a program to print the list after removing delete numbers which are divisible by 5 and 7 in [12,24,35,70,88,120,155]."
   ]
  },
  {
   "cell_type": "code",
   "execution_count": 78,
   "id": "51fd5040",
   "metadata": {},
   "outputs": [],
   "source": [
    "n = [12,24,35,70,88,120,155]"
   ]
  },
  {
   "cell_type": "code",
   "execution_count": 85,
   "id": "7eb9af19",
   "metadata": {},
   "outputs": [],
   "source": [
    "for num in n:\n",
    "    if (num % 5) == 0 and (num % 7) == 0 :\n",
    "        n.remove(num)\n",
    "        "
   ]
  },
  {
   "cell_type": "code",
   "execution_count": 86,
   "id": "01dfd89d",
   "metadata": {},
   "outputs": [
    {
     "data": {
      "text/plain": [
       "[12, 24, 88, 155]"
      ]
     },
     "execution_count": 86,
     "metadata": {},
     "output_type": "execute_result"
    }
   ],
   "source": [
    "n"
   ]
  },
  {
   "cell_type": "markdown",
   "id": "b9a9da9b",
   "metadata": {},
   "source": [
    "11. Write a program to compute 1/2+2/3+3/4+...+n/n+1 with a given n input by console (n>0)."
   ]
  },
  {
   "cell_type": "code",
   "execution_count": 87,
   "id": "eaec9526",
   "metadata": {},
   "outputs": [
    {
     "name": "stdout",
     "output_type": "stream",
     "text": [
      "Enter a positive integer n (n > 0): 5\n",
      "The sum 1/2 + 2/3 + 3/4 + ... + 5/6 is: 3.5500000000000003\n"
     ]
    }
   ],
   "source": [
    "# Function to compute the sum\n",
    "def compute_sum(n):\n",
    "    total = 0\n",
    "    for i in range(1, n + 1):\n",
    "        total += i / (i + 1)\n",
    "    return total\n",
    "\n",
    "if __name__ == \"__main__\":\n",
    "\n",
    "    while True:\n",
    "        try:\n",
    "            n = int(input(\"Enter a positive integer n (n > 0): \"))\n",
    "            if n > 0:\n",
    "                break\n",
    "            else:\n",
    "                print(\"Please enter a positive integer greater than 0.\")\n",
    "        except ValueError:\n",
    "            print(\"Invalid input. Please enter a positive integer.\")\n",
    "\n",
    "    result = compute_sum(n)\n",
    "    print(f\"The sum 1/2 + 2/3 + 3/4 + ... + {n}/{n+1} is: {result}\")\n"
   ]
  },
  {
   "cell_type": "code",
   "execution_count": null,
   "id": "4cddbb8a",
   "metadata": {},
   "outputs": [],
   "source": []
  }
 ],
 "metadata": {
  "kernelspec": {
   "display_name": "Python 3 (ipykernel)",
   "language": "python",
   "name": "python3"
  },
  "language_info": {
   "codemirror_mode": {
    "name": "ipython",
    "version": 3
   },
   "file_extension": ".py",
   "mimetype": "text/x-python",
   "name": "python",
   "nbconvert_exporter": "python",
   "pygments_lexer": "ipython3",
   "version": "3.11.5"
  }
 },
 "nbformat": 4,
 "nbformat_minor": 5
}
